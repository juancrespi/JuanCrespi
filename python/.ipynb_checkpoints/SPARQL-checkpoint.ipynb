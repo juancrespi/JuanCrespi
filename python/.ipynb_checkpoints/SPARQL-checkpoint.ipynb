{
 "cells": [
  {
   "cell_type": "markdown",
   "metadata": {
    "deletable": false,
    "editable": false,
    "nbgrader": {
     "cell_type": "markdown",
     "checksum": "7276f055a8c504d3c80098c62ed41a4f",
     "grade": false,
     "grade_id": "cell-0bfe38f97f6ab2d2",
     "locked": true,
     "schema_version": 3,
     "solution": false
    }
   },
   "source": [
    "<header style=\"width:100%;position:relative\">\n",
    "  <div style=\"width:80%;float:right;\">\n",
    "    <h1>Course Notes for Learning Intelligent Systems</h1>\n",
    "    <h3>Department of Telematic Engineering Systems</h3>\n",
    "    <h5>Universidad Politécnica de Madrid</h5>\n",
    "  </div>\n",
    "        <img style=\"width:15%;\" src=\"../logo.jpg\" alt=\"UPM\" />\n",
    "</header>"
   ]
  },
  {
   "cell_type": "markdown",
   "metadata": {},
   "source": [
    "## Introduction to Linked Open Data\n",
    "\n",
    "This lecture provides a quick introduction to semantic queries in Python using SPARQL.\n",
    "SPARQL is a semantic query language inspired by SQL.\n",
    "\n",
    "This is the first in a series of notebooks about SPARQL, which consists of:\n",
    "\n",
    "* This notebook, which introduces basic concepts using a small public dataset.\n",
    "* [A notebook with queries to a custom dataset](02_SPARQL_Custom_Endpoint.ipynb), which links to the RDF exercises and it is out of the scope of this course. You can consult it if you are interested."
   ]
  },
  {
   "cell_type": "markdown",
   "metadata": {},
   "source": [
    "## Objectives\n",
    "\n",
    "* Learning SPARQL and the Linked Data principles by defining queries to answer a set of problems of increasing difficulty\n",
    "* Learning how to use integrated SPARQL editors and programming interfaces to SPARQL."
   ]
  },
  {
   "cell_type": "markdown",
   "metadata": {
    "deletable": false,
    "editable": false,
    "nbgrader": {
     "cell_type": "markdown",
     "checksum": "40ccd05ad0704781327031a84dfb9939",
     "grade": false,
     "grade_id": "cell-4f8492996e74bf20",
     "locked": true,
     "schema_version": 3,
     "solution": false
    }
   },
   "source": [
    "## Tools\n",
    "\n",
    "* This notebook\n",
    "* External SPARQL editors (optional)\n",
    "    * YASGUI-GSI http://yasgui.gsi.upm.es\n",
    "    * DBpedia virtuoso http://dbpedia.org/sparql\n",
    "\n",
    "Using the YASGUI-GSI editor has several advantages over other options.\n",
    "It features:\n",
    "\n",
    "* Selection of data source, either by specifying the URL or by selecting from a dropdown menu\n",
    "* Interactive query editing\n",
    "    * A set of pre-defined queries\n",
    "    * Syntax errors\n",
    "    * Auto-complete\n",
    "* Data visualization\n",
    "    * Total number of results\n",
    "    * Different formats (table, pivot table, raw response, etc.)\n",
    "    * Pagination of results\n",
    "    * Search and filter results"
   ]
  },
  {
   "cell_type": "markdown",
   "metadata": {
    "deletable": false,
    "editable": false,
    "nbgrader": {
     "cell_type": "markdown",
     "checksum": "81894e9d65e5dd9f3b6e1c5f66804bf6",
     "grade": false,
     "grade_id": "cell-70ac24910356c3cf",
     "locked": true,
     "schema_version": 3,
     "solution": false
    }
   },
   "source": [
    "## Instructions\n",
    "\n",
    "We will be using a semantic server, available at: http://fuseki.gsi.upm.es/sitc.\n",
    "\n",
    "This server contains a dataset about [Beatles songs](http://www.snee.com/bobdc.blog/2017/11/sparql-queries-of-beatles-reco.html), which we will query with SPARQL.\n",
    "\n",
    "We will provide you some example code to get you started, the *question* you will have to answer using SPARQL, a template for the answer.\n",
    "\n",
    "After every query, you will find some python code to test the results of the query.\n",
    "**Make sure you've run the tests before moving to the next exercise**.\n",
    "If the test gives you an error, you've probably done something wrong.\n",
    "You do not need to understand or modify the test code."
   ]
  },
  {
   "cell_type": "markdown",
   "metadata": {
    "deletable": false,
    "editable": false,
    "nbgrader": {
     "cell_type": "markdown",
     "checksum": "1d332d3d11fd6b57f0ec0ac3c358c6cb",
     "grade": false,
     "grade_id": "cell-eb13908482825e42",
     "locked": true,
     "schema_version": 3,
     "solution": false
    }
   },
   "source": [
    "For convenience, the examples in the notebook are executable (using the `%%sparql` magic command), and they are accompanied by some code to test the results.\n",
    "If the tests pass, you probably got the answer right.\n",
    "\n",
    "**Run this line to enable the `%%sparql` magic command.**"
   ]
  },
  {
   "cell_type": "code",
   "execution_count": 1,
   "metadata": {
    "deletable": false,
    "editable": false,
    "nbgrader": {
     "cell_type": "code",
     "checksum": "aca7c5538b8fc53e99c92e94e6818c83",
     "grade": false,
     "grade_id": "cell-b3f3d92fa2100c3d",
     "locked": true,
     "schema_version": 3,
     "solution": false
    }
   },
   "outputs": [
    {
     "data": {
      "application/javascript": [
       "IPython.CodeCell.options_default.highlight_modes['magic_sparql'] = {'reg':[/^%%sparql/]};"
      ]
     },
     "metadata": {},
     "output_type": "display_data"
    }
   ],
   "source": [
    "from helpers import sparql, solution, show_photos"
   ]
  },
  {
   "cell_type": "markdown",
   "metadata": {
    "deletable": false,
    "editable": false,
    "nbgrader": {
     "cell_type": "markdown",
     "checksum": "e896b6560e45d5c385a43aa85e3523c7",
     "grade": false,
     "grade_id": "cell-04410e75828c388d",
     "locked": true,
     "schema_version": 3,
     "solution": false
    }
   },
   "source": [
    "The `%%sparql` magic command will allow us to use SPARQL inside normal jupyter cells.\n",
    "\n",
    "For instance, the following code:\n",
    "\n",
    "```python \n",
    "%%sparql http://dbpedia.org/sparql\n",
    "\n",
    "<MY QUERY>\n",
    "```    \n",
    "\n",
    "Is the same as `run_query('<MY QUERY>', endpoint='http://dbpedia.org/sparql')` plus some additional steps, such as saving the results in a nice table format so that they can be used later and storing the results in a variable (`solution()`), which we will use in our tests.\n",
    "\n",
    "You do not need to worry about it, and **you can always use one of the suggested online editors if you wish**."
   ]
  },
  {
   "cell_type": "markdown",
   "metadata": {
    "deletable": false,
    "editable": false,
    "nbgrader": {
     "cell_type": "markdown",
     "checksum": "34710d3bb8e2cf826833a43adb7fb448",
     "grade": false,
     "grade_id": "cell-2a44c0da2c206d01",
     "locked": true,
     "schema_version": 3,
     "solution": false
    }
   },
   "source": [
    "You can also use any other method to write your queries.\n",
    "Just make sure to copy the working query back into the notebook so you can test it.\n",
    "\n",
    "You may find online query editors particularly useful.\n",
    "In addition to running queries from your browser, they provide useful features such as syntax highlighting and autocompletion.\n",
    "Some examples are:\n",
    "\n",
    "* DBpedia's virtuoso query editor https://dbpedia.org/sparql\n",
    "* A javascript based client hosted at GSI: http://yasgui.gsi.upm.es/\n",
    "\n",
    "[^1]: http://www.snee.com/bobdc.blog/2017/11/sparql-queries-of-beatles-reco.html"
   ]
  },
  {
   "cell_type": "markdown",
   "metadata": {
    "deletable": false,
    "editable": false,
    "nbgrader": {
     "cell_type": "markdown",
     "checksum": "79c60bd3d4c13f380aae5778c5ce7245",
     "grade": false,
     "grade_id": "cell-d645128d3af18117",
     "locked": true,
     "schema_version": 3,
     "solution": false
    }
   },
   "source": [
    "## Exercises\n",
    "\n",
    "The following exercises cover the basics of SPARQL with simple use cases."
   ]
  },
  {
   "cell_type": "markdown",
   "metadata": {
    "deletable": false,
    "editable": false,
    "nbgrader": {
     "cell_type": "markdown",
     "checksum": "f7428fe79cd33383dfd3b09a0d951b6e",
     "grade": false,
     "grade_id": "cell-8391a5322a9ad4a7",
     "locked": true,
     "schema_version": 3,
     "solution": false
    }
   },
   "source": [
    "#### First select - Exploring the dataset\n",
    "\n"
   ]
  },
  {
   "cell_type": "markdown",
   "metadata": {
    "deletable": false,
    "editable": false,
    "nbgrader": {
     "cell_type": "markdown",
     "checksum": "f6b5da583694dd5cc9326c670830875d",
     "grade": false,
     "grade_id": "cell-4f56a152e4d70c02",
     "locked": true,
     "schema_version": 3,
     "solution": false
    }
   },
   "source": [
    "Let's start with a simple query to explore the dataset using SPARQL.\n",
    "We will get a list of the types of entities in the dataset.\n",
    "\n",
    "SPARQL syntax is similar to SQL, mixed with turtle.\n",
    "A SPARQL query has two main parts: the `SELECT` block, which specifies what variables we want to get; and the `WHERE` block which, loosely speaking, defines how the variables will be obtained from the graph.\n",
    "\n",
    "In order to construct the `WHERE` block, we have to know the data we want to extract would be represented in Turtle.\n",
    "\n",
    "In particular, to write an entity and its type, we would write this triple:\n",
    "\n",
    "```turtle\n",
    "<my_entity> a <type> .\n",
    "```\n",
    "\n",
    "For example:\n",
    "\n",
    "```turtle\n",
    "example:Timmy a example:Boy\n",
    "```\n",
    "\n",
    "In SPARQL, the parts that we wish to extract are replaced with a variable (e.g. `?name`, `?type`).\n",
    "Hence, we would have something like this:\n",
    "\n",
    "```turtle\n",
    "?entity a ?type\n",
    "```\n",
    "\n",
    "The name of the variable has no effect on the query, but you should use a sensible name.\n",
    "In these notebooks, try to use the names provided in the templates, because they might be used in the tests.\n",
    "\n",
    "There are additional parts in the query.\n",
    "For now, we will only cover the `LIMIT` statement, which limits the number of results we will get.\n",
    "Using `LIMIT` is usually a good idea, especially when trying new queries, because the dataset may be too big. \n",
    "\n",
    "Using all these concepts, we will run our first query, to get the list of entities and their type:"
   ]
  },
  {
   "cell_type": "code",
   "execution_count": 2,
   "metadata": {
    "deletable": false,
    "editable": false,
    "nbgrader": {
     "cell_type": "code",
     "checksum": "3bc71f851a33fa401d18ea3ab02cf61f",
     "grade": false,
     "grade_id": "cell-8ce8c954513f17e7",
     "locked": true,
     "schema_version": 3,
     "solution": false
    }
   },
   "outputs": [
    {
     "data": {
      "text/html": [
       "<table><thead><tr><th>entity</th><th>type</th><tr></thead><tbody><tr><td>http://learningsparql.com/ns/musician/RaymondBrown</td><td>http://learningsparql.com/ns/schema/Musician</td></tr><tr><td>http://learningsparql.com/ns/musician/PaulMcCartney</td><td>http://learningsparql.com/ns/schema/Musician</td></tr><tr><td>http://learningsparql.com/ns/musician/PeteBest</td><td>http://learningsparql.com/ns/schema/Musician</td></tr><tr><td>http://learningsparql.com/ns/musician/GeorgeHarrison</td><td>http://learningsparql.com/ns/schema/Musician</td></tr><tr><td>http://learningsparql.com/ns/musician/JohnLennon</td><td>http://learningsparql.com/ns/schema/Musician</td></tr><tr><td>http://learningsparql.com/ns/musician/RingoStarr</td><td>http://learningsparql.com/ns/schema/Musician</td></tr><tr><td>http://learningsparql.com/ns/musician/KeithMoon</td><td>http://learningsparql.com/ns/schema/Musician</td></tr><tr><td>http://learningsparql.com/ns/musician/TonySheridan</td><td>http://learningsparql.com/ns/schema/Musician</td></tr><tr><td>http://learningsparql.com/ns/musician/GeorgeMartin</td><td>http://learningsparql.com/ns/schema/Musician</td></tr><tr><td>http://learningsparql.com/ns/musician/DennisMcConnell</td><td>http://learningsparql.com/ns/schema/Musician</td></tr></tbody></table>"
      ],
      "text/plain": [
       "<IPython.core.display.HTML object>"
      ]
     },
     "execution_count": 2,
     "metadata": {},
     "output_type": "execute_result"
    }
   ],
   "source": [
    "%%sparql http://fuseki.gsi.upm.es/sitc/\n",
    "\n",
    "SELECT ?entity ?type\n",
    "WHERE {\n",
    "    ?entity a ?type\n",
    "}\n",
    "LIMIT 10"
   ]
  },
  {
   "cell_type": "markdown",
   "metadata": {
    "deletable": false,
    "editable": false,
    "nbgrader": {
     "cell_type": "markdown",
     "checksum": "d6a79c2f5fd005a9e15a8f67dcfd4784",
     "grade": false,
     "grade_id": "cell-3d6d622c717c3950",
     "locked": true,
     "schema_version": 3,
     "solution": false
    }
   },
   "source": [
    "You can check that the results you got match our expectations:"
   ]
  },
  {
   "cell_type": "code",
   "execution_count": 3,
   "metadata": {},
   "outputs": [],
   "source": [
    "assert len(solution()['tuples']) == 10  # Make sure we got 10 results \n",
    "assert len(solution()['columns']) >= 1  # In 2 columns (?entity and ?type)"
   ]
  },
  {
   "cell_type": "markdown",
   "metadata": {},
   "source": [
    "Now, use the same concepts to write a query that gets the **list of entities (subjects) and their properties (predicates)**.\n",
    "\n",
    "**Hint**: review the previous query. In there, we fixed a property (`a`, i.e. `rdfs:type`) and used a variable for the objects. Now we are insterested properties, regardless of the value (object)."
   ]
  },
  {
   "cell_type": "code",
   "execution_count": 5,
   "metadata": {
    "deletable": false,
    "nbgrader": {
     "cell_type": "code",
     "checksum": "65be7168bedb4f6dc2f19e2138bab232",
     "grade": false,
     "grade_id": "cell-6e904d692b5facad",
     "locked": false,
     "schema_version": 3,
     "solution": true
    }
   },
   "outputs": [
    {
     "data": {
      "text/html": [
       "<table><thead><tr><th>entity</th><th>prop</th><tr></thead><tbody><tr><td>http://learningsparql.com/ns/musician/RaymondBrown</td><td>http://www.w3.org/1999/02/22-rdf-syntax-ns#type</td></tr><tr><td>http://learningsparql.com/ns/musician/RaymondBrown</td><td>http://www.w3.org/2000/01/rdf-schema#label</td></tr><tr><td>http://learningsparql.com/ns/title/BesameMucho</td><td>http://www.w3.org/1999/02/22-rdf-syntax-ns#type</td></tr><tr><td>http://learningsparql.com/ns/title/BesameMucho</td><td>http://www.w3.org/2000/01/rdf-schema#label</td></tr><tr><td>http://learningsparql.com/ns/title/BesameMucho</td><td>http://learningsparql.com/ns/instrument/bass</td></tr><tr><td>http://learningsparql.com/ns/title/BesameMucho</td><td>http://learningsparql.com/ns/instrument/drums</td></tr><tr><td>http://learningsparql.com/ns/title/BesameMucho</td><td>http://learningsparql.com/ns/instrument/leadguitar</td></tr><tr><td>http://learningsparql.com/ns/title/BesameMucho</td><td>http://learningsparql.com/ns/instrument/rhythmguitar</td></tr><tr><td>http://learningsparql.com/ns/title/BesameMucho</td><td>http://learningsparql.com/ns/instrument/vocals</td></tr><tr><td>http://learningsparql.com/ns/instrument/bass</td><td>http://www.w3.org/1999/02/22-rdf-syntax-ns#type</td></tr><tr><td>http://learningsparql.com/ns/instrument/bass</td><td>http://www.w3.org/2000/01/rdf-schema#label</td></tr><tr><td>http://learningsparql.com/ns/musician/PaulMcCartney</td><td>http://www.w3.org/1999/02/22-rdf-syntax-ns#type</td></tr><tr><td>http://learningsparql.com/ns/musician/PaulMcCartney</td><td>http://www.w3.org/2000/01/rdf-schema#label</td></tr><tr><td>http://learningsparql.com/ns/instrument/drums</td><td>http://www.w3.org/1999/02/22-rdf-syntax-ns#type</td></tr><tr><td>http://learningsparql.com/ns/instrument/drums</td><td>http://www.w3.org/2000/01/rdf-schema#label</td></tr><tr><td>http://learningsparql.com/ns/musician/PeteBest</td><td>http://www.w3.org/1999/02/22-rdf-syntax-ns#type</td></tr><tr><td>http://learningsparql.com/ns/musician/PeteBest</td><td>http://www.w3.org/2000/01/rdf-schema#label</td></tr><tr><td>http://learningsparql.com/ns/instrument/leadguitar</td><td>http://www.w3.org/1999/02/22-rdf-syntax-ns#type</td></tr><tr><td>http://learningsparql.com/ns/instrument/leadguitar</td><td>http://www.w3.org/2000/01/rdf-schema#label</td></tr><tr><td>http://learningsparql.com/ns/musician/GeorgeHarrison</td><td>http://www.w3.org/1999/02/22-rdf-syntax-ns#type</td></tr><tr><td>http://learningsparql.com/ns/musician/GeorgeHarrison</td><td>http://www.w3.org/2000/01/rdf-schema#label</td></tr><tr><td>http://learningsparql.com/ns/instrument/rhythmguitar</td><td>http://www.w3.org/1999/02/22-rdf-syntax-ns#type</td></tr><tr><td>http://learningsparql.com/ns/instrument/rhythmguitar</td><td>http://www.w3.org/2000/01/rdf-schema#label</td></tr><tr><td>http://learningsparql.com/ns/musician/JohnLennon</td><td>http://www.w3.org/1999/02/22-rdf-syntax-ns#type</td></tr><tr><td>http://learningsparql.com/ns/musician/JohnLennon</td><td>http://www.w3.org/2000/01/rdf-schema#label</td></tr><tr><td>http://learningsparql.com/ns/instrument/vocals</td><td>http://www.w3.org/1999/02/22-rdf-syntax-ns#type</td></tr><tr><td>http://learningsparql.com/ns/instrument/vocals</td><td>http://www.w3.org/2000/01/rdf-schema#label</td></tr><tr><td>http://learningsparql.com/ns/title/LendMeYourComb</td><td>http://www.w3.org/1999/02/22-rdf-syntax-ns#type</td></tr><tr><td>http://learningsparql.com/ns/title/LendMeYourComb</td><td>http://www.w3.org/2000/01/rdf-schema#label</td></tr><tr><td>http://learningsparql.com/ns/title/LendMeYourComb</td><td>http://learningsparql.com/ns/instrument/bass</td></tr><tr><td>http://learningsparql.com/ns/title/LendMeYourComb</td><td>http://learningsparql.com/ns/instrument/drums</td></tr><tr><td>http://learningsparql.com/ns/title/LendMeYourComb</td><td>http://learningsparql.com/ns/instrument/leadguitar</td></tr><tr><td>http://learningsparql.com/ns/title/LendMeYourComb</td><td>http://learningsparql.com/ns/instrument/rhythmguitar</td></tr><tr><td>http://learningsparql.com/ns/title/LendMeYourComb</td><td>http://learningsparql.com/ns/instrument/vocals</td></tr><tr><td>http://learningsparql.com/ns/title/LendMeYourComb</td><td>http://learningsparql.com/ns/instrument/vocals</td></tr><tr><td>http://learningsparql.com/ns/title/LendMeYourComb</td><td>http://learningsparql.com/ns/instrument/vocals</td></tr><tr><td>http://learningsparql.com/ns/musician/RingoStarr</td><td>http://www.w3.org/1999/02/22-rdf-syntax-ns#type</td></tr><tr><td>http://learningsparql.com/ns/musician/RingoStarr</td><td>http://www.w3.org/2000/01/rdf-schema#label</td></tr><tr><td>http://learningsparql.com/ns/musician/KeithMoon</td><td>http://www.w3.org/1999/02/22-rdf-syntax-ns#type</td></tr><tr><td>http://learningsparql.com/ns/musician/KeithMoon</td><td>http://www.w3.org/2000/01/rdf-schema#label</td></tr><tr><td>http://learningsparql.com/ns/title/TheSaints</td><td>http://www.w3.org/1999/02/22-rdf-syntax-ns#type</td></tr><tr><td>http://learningsparql.com/ns/title/TheSaints</td><td>http://www.w3.org/2000/01/rdf-schema#label</td></tr><tr><td>http://learningsparql.com/ns/title/TheSaints</td><td>http://learningsparql.com/ns/instrument/bass</td></tr><tr><td>http://learningsparql.com/ns/title/TheSaints</td><td>http://learningsparql.com/ns/instrument/drums</td></tr><tr><td>http://learningsparql.com/ns/title/TheSaints</td><td>http://learningsparql.com/ns/instrument/leadguitar</td></tr><tr><td>http://learningsparql.com/ns/title/TheSaints</td><td>http://learningsparql.com/ns/instrument/leadguitar</td></tr><tr><td>http://learningsparql.com/ns/title/TheSaints</td><td>http://learningsparql.com/ns/instrument/rhythmguitar</td></tr><tr><td>http://learningsparql.com/ns/title/TheSaints</td><td>http://learningsparql.com/ns/instrument/vocals</td></tr><tr><td>http://learningsparql.com/ns/musician/TonySheridan</td><td>http://www.w3.org/1999/02/22-rdf-syntax-ns#type</td></tr><tr><td>http://learningsparql.com/ns/musician/TonySheridan</td><td>http://www.w3.org/2000/01/rdf-schema#label</td></tr><tr><td>http://learningsparql.com/ns/title/Maxwell%26%238217%3BsSilverHammer</td><td>http://www.w3.org/1999/02/22-rdf-syntax-ns#type</td></tr><tr><td>http://learningsparql.com/ns/title/Maxwell%26%238217%3BsSilverHammer</td><td>http://www.w3.org/2000/01/rdf-schema#label</td></tr><tr><td>http://learningsparql.com/ns/title/Maxwell%26%238217%3BsSilverHammer</td><td>http://learningsparql.com/ns/instrument/bass</td></tr><tr><td>http://learningsparql.com/ns/title/Maxwell%26%238217%3BsSilverHammer</td><td>http://learningsparql.com/ns/instrument/drums</td></tr><tr><td>http://learningsparql.com/ns/title/Maxwell%26%238217%3BsSilverHammer</td><td>http://learningsparql.com/ns/instrument/leadguitar</td></tr><tr><td>http://learningsparql.com/ns/title/Maxwell%26%238217%3BsSilverHammer</td><td>http://learningsparql.com/ns/instrument/vocals</td></tr><tr><td>http://learningsparql.com/ns/title/Maxwell%26%238217%3BsSilverHammer</td><td>http://learningsparql.com/ns/instrument/Hammondorgan</td></tr><tr><td>http://learningsparql.com/ns/title/Maxwell%26%238217%3BsSilverHammer</td><td>http://learningsparql.com/ns/instrument/Moogsynthesiser</td></tr><tr><td>http://learningsparql.com/ns/title/Maxwell%26%238217%3BsSilverHammer</td><td>http://learningsparql.com/ns/instrument/anvil</td></tr><tr><td>http://learningsparql.com/ns/title/Maxwell%26%238217%3BsSilverHammer</td><td>http://learningsparql.com/ns/instrument/backingvocals</td></tr><tr><td>http://learningsparql.com/ns/title/Maxwell%26%238217%3BsSilverHammer</td><td>http://learningsparql.com/ns/instrument/backingvocals</td></tr><tr><td>http://learningsparql.com/ns/title/Maxwell%26%238217%3BsSilverHammer</td><td>http://learningsparql.com/ns/instrument/backingvocals</td></tr><tr><td>http://learningsparql.com/ns/title/Maxwell%26%238217%3BsSilverHammer</td><td>http://learningsparql.com/ns/instrument/guitar</td></tr><tr><td>http://learningsparql.com/ns/title/Maxwell%26%238217%3BsSilverHammer</td><td>http://learningsparql.com/ns/instrument/piano</td></tr><tr><td>http://learningsparql.com/ns/instrument/Hammondorgan</td><td>http://www.w3.org/1999/02/22-rdf-syntax-ns#type</td></tr><tr><td>http://learningsparql.com/ns/instrument/Hammondorgan</td><td>http://www.w3.org/2000/01/rdf-schema#label</td></tr><tr><td>http://learningsparql.com/ns/musician/GeorgeMartin</td><td>http://www.w3.org/1999/02/22-rdf-syntax-ns#type</td></tr><tr><td>http://learningsparql.com/ns/musician/GeorgeMartin</td><td>http://www.w3.org/2000/01/rdf-schema#label</td></tr><tr><td>http://learningsparql.com/ns/instrument/Moogsynthesiser</td><td>http://www.w3.org/1999/02/22-rdf-syntax-ns#type</td></tr><tr><td>http://learningsparql.com/ns/instrument/Moogsynthesiser</td><td>http://www.w3.org/2000/01/rdf-schema#label</td></tr><tr><td>http://learningsparql.com/ns/instrument/anvil</td><td>http://www.w3.org/1999/02/22-rdf-syntax-ns#type</td></tr><tr><td>http://learningsparql.com/ns/instrument/anvil</td><td>http://www.w3.org/2000/01/rdf-schema#label</td></tr><tr><td>http://learningsparql.com/ns/instrument/backingvocals</td><td>http://www.w3.org/1999/02/22-rdf-syntax-ns#type</td></tr><tr><td>http://learningsparql.com/ns/instrument/backingvocals</td><td>http://www.w3.org/2000/01/rdf-schema#label</td></tr><tr><td>http://learningsparql.com/ns/instrument/guitar</td><td>http://www.w3.org/1999/02/22-rdf-syntax-ns#type</td></tr><tr><td>http://learningsparql.com/ns/instrument/guitar</td><td>http://www.w3.org/2000/01/rdf-schema#label</td></tr><tr><td>http://learningsparql.com/ns/instrument/piano</td><td>http://www.w3.org/1999/02/22-rdf-syntax-ns#type</td></tr><tr><td>http://learningsparql.com/ns/instrument/piano</td><td>http://www.w3.org/2000/01/rdf-schema#label</td></tr><tr><td>http://learningsparql.com/ns/instrument/electricspinetBaldwinharpsichord</td><td>http://www.w3.org/1999/02/22-rdf-syntax-ns#type</td></tr><tr><td>http://learningsparql.com/ns/instrument/electricspinetBaldwinharpsichord</td><td>http://www.w3.org/2000/01/rdf-schema#label</td></tr><tr><td>http://learningsparql.com/ns/title/I%26%238217%3BmHappyJustToDanceWithYou</td><td>http://www.w3.org/1999/02/22-rdf-syntax-ns#type</td></tr><tr><td>http://learningsparql.com/ns/title/I%26%238217%3BmHappyJustToDanceWithYou</td><td>http://www.w3.org/2000/01/rdf-schema#label</td></tr><tr><td>http://learningsparql.com/ns/title/I%26%238217%3BmHappyJustToDanceWithYou</td><td>http://learningsparql.com/ns/instrument/bass</td></tr><tr><td>http://learningsparql.com/ns/title/I%26%238217%3BmHappyJustToDanceWithYou</td><td>http://learningsparql.com/ns/instrument/drums</td></tr><tr><td>http://learningsparql.com/ns/title/I%26%238217%3BmHappyJustToDanceWithYou</td><td>http://learningsparql.com/ns/instrument/rhythmguitar</td></tr><tr><td>http://learningsparql.com/ns/title/I%26%238217%3BmHappyJustToDanceWithYou</td><td>http://learningsparql.com/ns/instrument/rhythmguitar</td></tr><tr><td>http://learningsparql.com/ns/title/I%26%238217%3BmHappyJustToDanceWithYou</td><td>http://learningsparql.com/ns/instrument/vocals</td></tr><tr><td>http://learningsparql.com/ns/title/I%26%238217%3BmHappyJustToDanceWithYou</td><td>http://learningsparql.com/ns/instrument/backingvocals</td></tr><tr><td>http://learningsparql.com/ns/title/I%26%238217%3BmHappyJustToDanceWithYou</td><td>http://learningsparql.com/ns/instrument/backingvocals</td></tr><tr><td>http://learningsparql.com/ns/musician/DennisMcConnell</td><td>http://www.w3.org/1999/02/22-rdf-syntax-ns#type</td></tr><tr><td>http://learningsparql.com/ns/musician/DennisMcConnell</td><td>http://www.w3.org/2000/01/rdf-schema#label</td></tr><tr><td>http://learningsparql.com/ns/musician/JackEllory</td><td>http://www.w3.org/1999/02/22-rdf-syntax-ns#type</td></tr><tr><td>http://learningsparql.com/ns/musician/JackEllory</td><td>http://www.w3.org/2000/01/rdf-schema#label</td></tr><tr><td>http://learningsparql.com/ns/title/LetItBe</td><td>http://www.w3.org/1999/02/22-rdf-syntax-ns#type</td></tr><tr><td>http://learningsparql.com/ns/title/LetItBe</td><td>http://www.w3.org/2000/01/rdf-schema#label</td></tr><tr><td>http://learningsparql.com/ns/title/LetItBe</td><td>http://learningsparql.com/ns/instrument/drums</td></tr><tr><td>http://learningsparql.com/ns/title/LetItBe</td><td>http://learningsparql.com/ns/instrument/leadguitar</td></tr><tr><td>http://learningsparql.com/ns/title/LetItBe</td><td>http://learningsparql.com/ns/instrument/vocals</td></tr><tr><td>http://learningsparql.com/ns/title/LetItBe</td><td>http://learningsparql.com/ns/instrument/backingvocals</td></tr><tr><td>http://learningsparql.com/ns/title/LetItBe</td><td>http://learningsparql.com/ns/instrument/backingvocals</td></tr></tbody></table>"
      ],
      "text/plain": [
       "<IPython.core.display.HTML object>"
      ]
     },
     "execution_count": 5,
     "metadata": {},
     "output_type": "execute_result"
    }
   ],
   "source": [
    "%%sparql http://fuseki.gsi.upm.es/sitc/\n",
    "\n",
    "SELECT ?entity ?prop\n",
    "WHERE {\n",
    "# YOUR ANSWER HERE\n",
    "    ?entity ?prop ?type\n",
    "}\n",
    "LIMIT 100"
   ]
  },
  {
   "cell_type": "code",
   "execution_count": 6,
   "metadata": {
    "deletable": false,
    "editable": false,
    "nbgrader": {
     "cell_type": "code",
     "checksum": "e78b57fa9baab578f5a4bd22dc499fca",
     "grade": true,
     "grade_id": "cell-3fc0d3c43dfd04a3",
     "locked": true,
     "points": 1,
     "schema_version": 3,
     "solution": false
    }
   },
   "outputs": [],
   "source": [
    "s = solution()\n",
    "assert len(s['tuples']) >= 100  # There are at least 100 results\n",
    "assert 'entity' in s['columns']  # A column named entity exists\n",
    "assert 'http://learningsparql.com/ns/musician/RaymondBrown' in s['columns']['entity'] # RaymondBrown is an entity"
   ]
  },
  {
   "cell_type": "markdown",
   "metadata": {},
   "source": [
    "### Getting a list of DISTINCT types"
   ]
  },
  {
   "cell_type": "markdown",
   "metadata": {},
   "source": [
    "To get a better grip of the dataset, we will get a list of types.\n",
    "\n",
    "We may try to do so with a simple query: "
   ]
  },
  {
   "cell_type": "code",
   "execution_count": 7,
   "metadata": {},
   "outputs": [
    {
     "data": {
      "text/html": [
       "<table><thead><tr><th>type</th><tr></thead><tbody><tr><td>http://learningsparql.com/ns/schema/Musician</td></tr><tr><td>http://learningsparql.com/ns/schema/Musician</td></tr><tr><td>http://learningsparql.com/ns/schema/Musician</td></tr><tr><td>http://learningsparql.com/ns/schema/Musician</td></tr><tr><td>http://learningsparql.com/ns/schema/Musician</td></tr><tr><td>http://learningsparql.com/ns/schema/Musician</td></tr><tr><td>http://learningsparql.com/ns/schema/Musician</td></tr><tr><td>http://learningsparql.com/ns/schema/Musician</td></tr><tr><td>http://learningsparql.com/ns/schema/Musician</td></tr><tr><td>http://learningsparql.com/ns/schema/Musician</td></tr></tbody></table>"
      ],
      "text/plain": [
       "<IPython.core.display.HTML object>"
      ]
     },
     "execution_count": 7,
     "metadata": {},
     "output_type": "execute_result"
    }
   ],
   "source": [
    "%%sparql http://fuseki.gsi.upm.es/sitc/\n",
    "\n",
    "SELECT ?type\n",
    "WHERE {\n",
    "    ?entity a ?type\n",
    "}\n",
    "LIMIT 10"
   ]
  },
  {
   "cell_type": "markdown",
   "metadata": {},
   "source": [
    "However, this list has many duplicates.\n",
    "In fact, we only get one type (`Musician`).\n",
    "\n",
    "To remove duplicates, we will need the `DISTINCT` statement, which only shows unique (distinct) rows:"
   ]
  },
  {
   "cell_type": "code",
   "execution_count": 8,
   "metadata": {},
   "outputs": [
    {
     "data": {
      "text/html": [
       "<table><thead><tr><th>type</th><tr></thead><tbody><tr><td>http://learningsparql.com/ns/schema/Musician</td></tr><tr><td>http://learningsparql.com/ns/schema/Song</td></tr><tr><td>http://learningsparql.com/ns/schema/Instrument</td></tr></tbody></table>"
      ],
      "text/plain": [
       "<IPython.core.display.HTML object>"
      ]
     },
     "execution_count": 8,
     "metadata": {},
     "output_type": "execute_result"
    }
   ],
   "source": [
    "%%sparql http://fuseki.gsi.upm.es/sitc/\n",
    "\n",
    "SELECT DISTINCT ?type\n",
    "WHERE {\n",
    "    ?entity a ?type\n",
    "}\n",
    "LIMIT 100"
   ]
  },
  {
   "cell_type": "markdown",
   "metadata": {},
   "source": [
    "We should see only three types now (`Musician`, `Song`, and `Instrument`)."
   ]
  },
  {
   "cell_type": "code",
   "execution_count": 9,
   "metadata": {},
   "outputs": [],
   "source": [
    "assert 'type' in solution()['columns']\n",
    "assert len(solution()['tuples']) == 3\n",
    "assert 'http://learningsparql.com/ns/schema/Musician' in solution()['columns']['type']\n",
    "assert 'http://learningsparql.com/ns/schema/Song' in solution()['columns']['type']\n",
    "assert 'http://learningsparql.com/ns/schema/Instrument' in solution()['columns']['type']"
   ]
  },
  {
   "cell_type": "markdown",
   "metadata": {},
   "source": [
    "Now, **build a query to get the list of unique properties**:"
   ]
  },
  {
   "cell_type": "code",
   "execution_count": 11,
   "metadata": {
    "deletable": false,
    "nbgrader": {
     "cell_type": "code",
     "checksum": "35563ff455c7e8b1c91f61db97b2011b",
     "grade": false,
     "grade_id": "cell-e615f9a77c4bc9a5",
     "locked": false,
     "schema_version": 3,
     "solution": true
    }
   },
   "outputs": [
    {
     "data": {
      "text/html": [
       "<table><thead><tr><th>property</th><tr></thead><tbody><tr><td>http://www.w3.org/1999/02/22-rdf-syntax-ns#type</td></tr><tr><td>http://www.w3.org/2000/01/rdf-schema#label</td></tr><tr><td>http://learningsparql.com/ns/instrument/bass</td></tr><tr><td>http://learningsparql.com/ns/instrument/drums</td></tr><tr><td>http://learningsparql.com/ns/instrument/leadguitar</td></tr><tr><td>http://learningsparql.com/ns/instrument/rhythmguitar</td></tr><tr><td>http://learningsparql.com/ns/instrument/vocals</td></tr><tr><td>http://learningsparql.com/ns/instrument/Hammondorgan</td></tr><tr><td>http://learningsparql.com/ns/instrument/Moogsynthesiser</td></tr><tr><td>http://learningsparql.com/ns/instrument/anvil</td></tr><tr><td>http://learningsparql.com/ns/instrument/backingvocals</td></tr><tr><td>http://learningsparql.com/ns/instrument/guitar</td></tr><tr><td>http://learningsparql.com/ns/instrument/piano</td></tr><tr><td>http://learningsparql.com/ns/instrument/bassguitar</td></tr><tr><td>http://learningsparql.com/ns/instrument/cello</td></tr><tr><td>http://learningsparql.com/ns/instrument/electricpiano</td></tr><tr><td>http://learningsparql.com/ns/instrument/maracas</td></tr><tr><td>http://learningsparql.com/ns/instrument/organ</td></tr><tr><td>http://learningsparql.com/ns/instrument/tenorsaxophone</td></tr><tr><td>http://learningsparql.com/ns/instrument/twotrombones</td></tr><tr><td>http://learningsparql.com/ns/instrument/twotrumpets</td></tr><tr><td>http://learningsparql.com/ns/instrument/effects</td></tr><tr><td>http://learningsparql.com/ns/instrument/percussion</td></tr><tr><td>http://learningsparql.com/ns/instrument/synthesiser</td></tr><tr><td>http://learningsparql.com/ns/instrument/harmonyvocals</td></tr><tr><td>http://learningsparql.com/ns/instrument/double-trackedleadvocals</td></tr><tr><td>http://learningsparql.com/ns/instrument/handclaps</td></tr><tr><td>http://learningsparql.com/ns/instrument/tambourine</td></tr><tr><td>http://learningsparql.com/ns/instrument/acousticguitar</td></tr><tr><td>http://learningsparql.com/ns/instrument/bongo</td></tr><tr><td>http://learningsparql.com/ns/instrument/threesaxophones</td></tr><tr><td>http://learningsparql.com/ns/instrument/12violins</td></tr><tr><td>http://learningsparql.com/ns/instrument/celesta</td></tr><tr><td>http://learningsparql.com/ns/instrument/clarinet</td></tr><tr><td>http://learningsparql.com/ns/instrument/doublebass</td></tr><tr><td>http://learningsparql.com/ns/instrument/harp</td></tr><tr><td>http://learningsparql.com/ns/instrument/horn</td></tr><tr><td>http://learningsparql.com/ns/instrument/threecellos</td></tr><tr><td>http://learningsparql.com/ns/instrument/threeflutes</td></tr><tr><td>http://learningsparql.com/ns/instrument/threeviolas</td></tr><tr><td>http://learningsparql.com/ns/instrument/vibraphone</td></tr><tr><td>http://learningsparql.com/ns/instrument/acousticrhythmguitar</td></tr><tr><td>http://learningsparql.com/ns/instrument/trombone</td></tr><tr><td>http://learningsparql.com/ns/instrument/trumpet</td></tr><tr><td>http://learningsparql.com/ns/instrument/HohnerPianetelectricpiano</td></tr><tr><td>http://learningsparql.com/ns/instrument/cowbell</td></tr><tr><td>http://learningsparql.com/ns/instrument/double-trackedleadguitar</td></tr><tr><td>http://learningsparql.com/ns/instrument/harmonica</td></tr><tr><td>http://learningsparql.com/ns/instrument/shaker</td></tr><tr><td>http://learningsparql.com/ns/instrument/viola</td></tr><tr><td>http://learningsparql.com/ns/instrument/violin</td></tr><tr><td>http://learningsparql.com/ns/instrument/12-stringacousticguitar</td></tr><tr><td>http://learningsparql.com/ns/instrument/altoflute</td></tr><tr><td>http://learningsparql.com/ns/instrument/tenorflute</td></tr><tr><td>http://learningsparql.com/ns/instrument/leadacousticguitar</td></tr><tr><td>http://learningsparql.com/ns/instrument/leadvocals</td></tr><tr><td>http://learningsparql.com/ns/instrument/flutesorpiccolos</td></tr><tr><td>http://learningsparql.com/ns/instrument/congas%28%3F%29</td></tr><tr><td>http://learningsparql.com/ns/instrument/electricguitar</td></tr><tr><td>http://learningsparql.com/ns/instrument/harmonium</td></tr><tr><td>http://learningsparql.com/ns/instrument/oboesorcoranglais</td></tr><tr><td>http://learningsparql.com/ns/instrument/trumpetsorflugelhorn</td></tr><tr><td>http://learningsparql.com/ns/instrument/tubularbells</td></tr><tr><td>http://learningsparql.com/ns/instrument/bassdrum</td></tr><tr><td>http://learningsparql.com/ns/instrument/sitar</td></tr><tr><td>http://learningsparql.com/ns/instrument/Lowreyorgan</td></tr><tr><td>http://learningsparql.com/ns/instrument/tapeloops</td></tr><tr><td>http://learningsparql.com/ns/instrument/4cellos</td></tr><tr><td>http://learningsparql.com/ns/instrument/4violas</td></tr><tr><td>http://learningsparql.com/ns/instrument/acoustic12-stringguitar</td></tr><tr><td>http://learningsparql.com/ns/instrument/conga</td></tr><tr><td>http://learningsparql.com/ns/instrument/lapsteelguitar</td></tr><tr><td>http://learningsparql.com/ns/instrument/harpsichord</td></tr><tr><td>http://learningsparql.com/ns/instrument/recorder</td></tr><tr><td>http://learningsparql.com/ns/instrument/14femalevocalists</td></tr><tr><td>http://learningsparql.com/ns/instrument/twoguitarists</td></tr><tr><td>http://learningsparql.com/ns/instrument/18violins</td></tr><tr><td>http://learningsparql.com/ns/instrument/fourcellos</td></tr><tr><td>http://learningsparql.com/ns/instrument/fourviolas</td></tr><tr><td>http://learningsparql.com/ns/instrument/threetrombones</td></tr><tr><td>http://learningsparql.com/ns/instrument/threetrumpets</td></tr><tr><td>http://learningsparql.com/ns/instrument/chocalho</td></tr><tr><td>http://learningsparql.com/ns/instrument/acousticleadguitar</td></tr><tr><td>http://learningsparql.com/ns/instrument/claves</td></tr><tr><td>http://learningsparql.com/ns/instrument/sleighbell</td></tr><tr><td>http://learningsparql.com/ns/instrument/timpani</td></tr><tr><td>http://learningsparql.com/ns/instrument/pianette</td></tr><tr><td>http://learningsparql.com/ns/instrument/tambura</td></tr><tr><td>http://learningsparql.com/ns/instrument/Jewsharp</td></tr><tr><td>http://learningsparql.com/ns/instrument/fingercymbals</td></tr><tr><td>http://learningsparql.com/ns/instrument/flute</td></tr><tr><td>http://learningsparql.com/ns/instrument/baritonesaxophones</td></tr><tr><td>http://learningsparql.com/ns/instrument/cymbals</td></tr><tr><td>http://learningsparql.com/ns/instrument/tapdancing</td></tr><tr><td>http://learningsparql.com/ns/instrument/spokenword</td></tr><tr><td>http://learningsparql.com/ns/instrument/fuzzbass</td></tr><tr><td>http://learningsparql.com/ns/instrument/10violins</td></tr><tr><td>http://learningsparql.com/ns/instrument/1bassoon</td></tr><tr><td>http://learningsparql.com/ns/instrument/4trumpets</td></tr><tr><td>http://learningsparql.com/ns/instrument/1bassclarinet</td></tr><tr><td>http://learningsparql.com/ns/instrument/1contrabassoon</td></tr><tr><td>http://learningsparql.com/ns/instrument/1percussion</td></tr><tr><td>http://learningsparql.com/ns/instrument/2clarinets</td></tr><tr><td>http://learningsparql.com/ns/instrument/2doublebasses</td></tr><tr><td>http://learningsparql.com/ns/instrument/2flutes</td></tr><tr><td>http://learningsparql.com/ns/instrument/2horns</td></tr><tr><td>http://learningsparql.com/ns/instrument/3cellos</td></tr><tr><td>http://learningsparql.com/ns/instrument/3violas</td></tr><tr><td>http://learningsparql.com/ns/instrument/4trombones</td></tr><tr><td>http://learningsparql.com/ns/instrument/12-stringrhythmguitar</td></tr><tr><td>http://learningsparql.com/ns/instrument/six-stringbassguitar</td></tr><tr><td>http://learningsparql.com/ns/instrument/saxophone</td></tr><tr><td>http://learningsparql.com/ns/instrument/electricspinetBaldwinharpsichord</td></tr><tr><td>http://learningsparql.com/ns/instrument/backingvocalsorhandclaps</td></tr><tr><td>http://learningsparql.com/ns/instrument/leadandbackingvocals</td></tr><tr><td>http://learningsparql.com/ns/instrument/six-stringbass</td></tr><tr><td>http://learningsparql.com/ns/instrument/</td></tr><tr><td>http://learningsparql.com/ns/instrument/double-trackedvocals</td></tr><tr><td>http://learningsparql.com/ns/instrument/electricandacousticrhythmguitars</td></tr><tr><td>http://learningsparql.com/ns/instrument/hi-hat</td></tr><tr><td>http://learningsparql.com/ns/instrument/snaredrum</td></tr><tr><td>http://learningsparql.com/ns/instrument/acousticguitarpercussion</td></tr><tr><td>http://learningsparql.com/ns/instrument/12-stringelectricguitar</td></tr><tr><td>http://learningsparql.com/ns/instrument/14choristers</td></tr><tr><td>http://learningsparql.com/ns/instrument/svaramandal</td></tr><tr><td>http://learningsparql.com/ns/instrument/vibes</td></tr><tr><td>http://learningsparql.com/ns/instrument/spadeingravel</td></tr><tr><td>http://learningsparql.com/ns/instrument/altosaxophone</td></tr><tr><td>http://learningsparql.com/ns/instrument/castanets</td></tr><tr><td>http://learningsparql.com/ns/instrument/accordion</td></tr><tr><td>http://learningsparql.com/ns/instrument/banjo</td></tr><tr><td>http://learningsparql.com/ns/instrument/chorus</td></tr><tr><td>http://learningsparql.com/ns/instrument/conductor</td></tr><tr><td>http://learningsparql.com/ns/instrument/3trumpets</td></tr><tr><td>http://learningsparql.com/ns/instrument/4horns</td></tr><tr><td>http://learningsparql.com/ns/instrument/basstrombone</td></tr><tr><td>http://learningsparql.com/ns/instrument/flugelhorn</td></tr><tr><td>http://learningsparql.com/ns/instrument/fingerclicks</td></tr><tr><td>http://learningsparql.com/ns/instrument/shehnai</td></tr><tr><td>http://learningsparql.com/ns/instrument/sarod</td></tr><tr><td>http://learningsparql.com/ns/instrument/tabla</td></tr><tr><td>http://learningsparql.com/ns/instrument/pakavaj</td></tr><tr><td>http://learningsparql.com/ns/instrument/Mellotron</td></tr><tr><td>http://learningsparql.com/ns/instrument/guiro</td></tr><tr><td>http://learningsparql.com/ns/instrument/svarmandal</td></tr><tr><td>http://learningsparql.com/ns/instrument/dilruba</td></tr><tr><td>http://learningsparql.com/ns/instrument/tamboura</td></tr><tr><td>http://learningsparql.com/ns/instrument/VoxContinentalorgan</td></tr><tr><td>http://learningsparql.com/ns/instrument/combandpaper</td></tr><tr><td>http://learningsparql.com/ns/instrument/clavioline</td></tr><tr><td>http://learningsparql.com/ns/instrument/Africandrum</td></tr><tr><td>http://learningsparql.com/ns/instrument/shakerbells</td></tr><tr><td>http://learningsparql.com/ns/instrument/bassharmonica</td></tr><tr><td>http://learningsparql.com/ns/instrument/g%C3%BCiro</td></tr><tr><td>http://learningsparql.com/ns/instrument/electricrhythmguitar</td></tr><tr><td>http://learningsparql.com/ns/instrument/Frenchhorn</td></tr><tr><td>http://learningsparql.com/ns/instrument/tuba</td></tr><tr><td>http://learningsparql.com/ns/instrument/chimes</td></tr><tr><td>http://learningsparql.com/ns/instrument/twoclarinets</td></tr><tr><td>http://learningsparql.com/ns/instrument/twopiccolos</td></tr><tr><td>http://learningsparql.com/ns/instrument/twoaltoflutes</td></tr><tr><td>http://learningsparql.com/ns/instrument/twoflutes</td></tr><tr><td>http://learningsparql.com/ns/instrument/glockenspiel</td></tr><tr><td>http://learningsparql.com/ns/instrument/drummachine</td></tr><tr><td>http://learningsparql.com/ns/instrument/sticks</td></tr><tr><td>http://learningsparql.com/ns/instrument/ukulele</td></tr><tr><td>http://learningsparql.com/ns/instrument/keyboards</td></tr><tr><td>http://learningsparql.com/ns/instrument/electricslideguitar</td></tr><tr><td>http://learningsparql.com/ns/instrument/alarmclock</td></tr><tr><td>http://learningsparql.com/ns/instrument/bassoons</td></tr><tr><td>http://learningsparql.com/ns/instrument/doublebasses</td></tr><tr><td>http://learningsparql.com/ns/instrument/oboe</td></tr><tr><td>http://learningsparql.com/ns/instrument/pianetelectricpiano</td></tr><tr><td>http://learningsparql.com/ns/instrument/soundeffects</td></tr><tr><td>http://learningsparql.com/ns/instrument/clavichord</td></tr><tr><td>http://learningsparql.com/ns/instrument/drums%28Anthology3%29</td></tr><tr><td>http://learningsparql.com/ns/instrument/drums%28Anthology1%29</td></tr><tr><td>http://learningsparql.com/ns/instrument/bassclarinet</td></tr><tr><td>http://learningsparql.com/ns/instrument/woodblock</td></tr><tr><td>http://learningsparql.com/ns/instrument/whistling</td></tr><tr><td>http://learningsparql.com/ns/instrument/handbell</td></tr><tr><td>http://learningsparql.com/ns/instrument/brushedsnaredrum</td></tr></tbody></table>"
      ],
      "text/plain": [
       "<IPython.core.display.HTML object>"
      ]
     },
     "execution_count": 11,
     "metadata": {},
     "output_type": "execute_result"
    }
   ],
   "source": [
    "%%sparql http://fuseki.gsi.upm.es/sitc/\n",
    "\n",
    "SELECT DISTINCT ?property\n",
    "WHERE {\n",
    "# YOUR ANSWER HERE\n",
    "    ?entity ?property ?type\n",
    "}"
   ]
  },
  {
   "cell_type": "code",
   "execution_count": 12,
   "metadata": {
    "deletable": false,
    "editable": false,
    "nbgrader": {
     "cell_type": "code",
     "checksum": "7603c90d8c177e2e6678baa2f1b6af36",
     "grade": true,
     "grade_id": "cell-9168718938ab7347",
     "locked": true,
     "points": 1,
     "schema_version": 3,
     "solution": false
    }
   },
   "outputs": [],
   "source": [
    "assert len(solution()['tuples']) == 182\n",
    "assert 'http://learningsparql.com/ns/instrument/bass' in solution()['columns']['property']"
   ]
  },
  {
   "cell_type": "markdown",
   "metadata": {},
   "source": [
    "### Geting all properties for songs"
   ]
  },
  {
   "cell_type": "markdown",
   "metadata": {},
   "source": [
    "The `WHERE` statement can contain more than one line.\n",
    "\n",
    "For example, we can restrict the list of properties from the previous exercise, to only get properties of musicians:"
   ]
  },
  {
   "cell_type": "code",
   "execution_count": 72,
   "metadata": {},
   "outputs": [
    {
     "data": {
      "text/html": [
       "<table><thead><tr><th>prop</th><tr></thead><tbody><tr><td>http://www.w3.org/1999/02/22-rdf-syntax-ns#type</td></tr><tr><td>http://www.w3.org/2000/01/rdf-schema#label</td></tr></tbody></table>"
      ],
      "text/plain": [
       "<IPython.core.display.HTML object>"
      ]
     },
     "execution_count": 72,
     "metadata": {},
     "output_type": "execute_result"
    }
   ],
   "source": [
    "%%sparql http://fuseki.gsi.upm.es/sitc/\n",
    "\n",
    "PREFIX s: <http://learningsparql.com/ns/schema/>\n",
    "PREFIX rdfs: <http://www.w3.org/2000/01/rdf-schema#>\n",
    "\n",
    "SELECT DISTINCT ?prop\n",
    "WHERE {\n",
    "    ?song a s:Musician .\n",
    "    ?song ?prop ?value .\n",
    "}\n",
    "LIMIT 20"
   ]
  },
  {
   "cell_type": "markdown",
   "metadata": {},
   "source": [
    "There should be two results:"
   ]
  },
  {
   "cell_type": "code",
   "execution_count": 14,
   "metadata": {},
   "outputs": [],
   "source": [
    "assert len(solution()['tuples']) == 2 # There are exactly two results"
   ]
  },
  {
   "cell_type": "markdown",
   "metadata": {},
   "source": [
    "Notice the use of prefixes, just like in turtle.\n",
    "Also, these two options are equivalent:\n",
    "\n",
    "```turtle\n",
    "?song a s:Musician ;\n",
    "     ?prop ?value .\n",
    "\n",
    "# And\n",
    "\n",
    "?song a s:Musician ;\n",
    "?song ?prop ?value .\n",
    "```\n",
    "\n",
    "The first one is just shorter to write.\n",
    "\n",
    "Alternatively, in this example we can also replace the properties we are not using with square brackets `[]`:\n",
    "\n",
    "```turtle\n",
    "[] a s:Musician ;\n",
    "   ?prop [] .\n",
    "```"
   ]
  },
  {
   "cell_type": "markdown",
   "metadata": {},
   "source": [
    "Now, use the same concepts to get a list of **songs and properties**, without duplicates:"
   ]
  },
  {
   "cell_type": "code",
   "execution_count": 19,
   "metadata": {
    "deletable": false,
    "nbgrader": {
     "cell_type": "code",
     "checksum": "069811507dbac4b86dc5d3adc82ba4ec",
     "grade": false,
     "grade_id": "cell-0223a51f609edcf9",
     "locked": false,
     "schema_version": 3,
     "solution": true
    }
   },
   "outputs": [
    {
     "data": {
      "text/html": [
       "<table><thead><tr><th>song</th><th>properties</th><tr></thead><tbody><tr><td>http://learningsparql.com/ns/title/BesameMucho</td><td>http://www.w3.org/1999/02/22-rdf-syntax-ns#type</td></tr><tr><td>http://learningsparql.com/ns/title/BesameMucho</td><td>http://www.w3.org/2000/01/rdf-schema#label</td></tr><tr><td>http://learningsparql.com/ns/title/BesameMucho</td><td>http://learningsparql.com/ns/instrument/bass</td></tr><tr><td>http://learningsparql.com/ns/title/BesameMucho</td><td>http://learningsparql.com/ns/instrument/drums</td></tr><tr><td>http://learningsparql.com/ns/title/BesameMucho</td><td>http://learningsparql.com/ns/instrument/leadguitar</td></tr><tr><td>http://learningsparql.com/ns/title/BesameMucho</td><td>http://learningsparql.com/ns/instrument/rhythmguitar</td></tr><tr><td>http://learningsparql.com/ns/title/BesameMucho</td><td>http://learningsparql.com/ns/instrument/vocals</td></tr><tr><td>http://learningsparql.com/ns/title/LendMeYourComb</td><td>http://www.w3.org/1999/02/22-rdf-syntax-ns#type</td></tr><tr><td>http://learningsparql.com/ns/title/LendMeYourComb</td><td>http://www.w3.org/2000/01/rdf-schema#label</td></tr><tr><td>http://learningsparql.com/ns/title/LendMeYourComb</td><td>http://learningsparql.com/ns/instrument/bass</td></tr><tr><td>http://learningsparql.com/ns/title/LendMeYourComb</td><td>http://learningsparql.com/ns/instrument/drums</td></tr><tr><td>http://learningsparql.com/ns/title/LendMeYourComb</td><td>http://learningsparql.com/ns/instrument/leadguitar</td></tr><tr><td>http://learningsparql.com/ns/title/LendMeYourComb</td><td>http://learningsparql.com/ns/instrument/rhythmguitar</td></tr><tr><td>http://learningsparql.com/ns/title/LendMeYourComb</td><td>http://learningsparql.com/ns/instrument/vocals</td></tr><tr><td>http://learningsparql.com/ns/title/TheSaints</td><td>http://www.w3.org/1999/02/22-rdf-syntax-ns#type</td></tr><tr><td>http://learningsparql.com/ns/title/TheSaints</td><td>http://www.w3.org/2000/01/rdf-schema#label</td></tr><tr><td>http://learningsparql.com/ns/title/TheSaints</td><td>http://learningsparql.com/ns/instrument/bass</td></tr><tr><td>http://learningsparql.com/ns/title/TheSaints</td><td>http://learningsparql.com/ns/instrument/drums</td></tr><tr><td>http://learningsparql.com/ns/title/TheSaints</td><td>http://learningsparql.com/ns/instrument/leadguitar</td></tr><tr><td>http://learningsparql.com/ns/title/TheSaints</td><td>http://learningsparql.com/ns/instrument/rhythmguitar</td></tr></tbody></table>"
      ],
      "text/plain": [
       "<IPython.core.display.HTML object>"
      ]
     },
     "execution_count": 19,
     "metadata": {},
     "output_type": "execute_result"
    }
   ],
   "source": [
    "%%sparql http://fuseki.gsi.upm.es/sitc/\n",
    "\n",
    "PREFIX s: <http://learningsparql.com/ns/schema/>\n",
    "PREFIX rdfs: <http://www.w3.org/2000/01/rdf-schema#>\n",
    "\n",
    "# YOUR ANSWER HERE\n",
    "SELECT DISTINCT ?song ?properties\n",
    "WHERE {\n",
    "# YOUR ANSWER HERE\n",
    "     ?song a s:Song .\n",
    "?song?properties   ?value \n",
    "}\n",
    "LIMIT 20"
   ]
  },
  {
   "cell_type": "code",
   "execution_count": 20,
   "metadata": {
    "deletable": false,
    "editable": false,
    "nbgrader": {
     "cell_type": "code",
     "checksum": "9833a3efa75c7e2784ef5d60aae2a13e",
     "grade": true,
     "grade_id": "cell-3c7943c6382c62f5",
     "locked": true,
     "points": 1,
     "schema_version": 3,
     "solution": false
    }
   },
   "outputs": [],
   "source": [
    "s = solution()\n",
    "assert len(set(s['tuples'])) == len(s['tuples'])  # There are no duplicates\n",
    "assert len(s['tuples']) >= 20"
   ]
  },
  {
   "cell_type": "markdown",
   "metadata": {},
   "source": [
    "### Getting a list of song names"
   ]
  },
  {
   "cell_type": "markdown",
   "metadata": {},
   "source": [
    "In the previous exercise, we saw the properties for Songs.\n",
    "One of them is `rdfs:label`, which gives a human readable name for the entity.\n",
    "\n",
    "Using `rdfs:label`, get a list of song names:"
   ]
  },
  {
   "cell_type": "code",
   "execution_count": 22,
   "metadata": {
    "deletable": false,
    "nbgrader": {
     "cell_type": "code",
     "checksum": "b68a279085a1ed087f5e474a6602299e",
     "grade": false,
     "grade_id": "cell-8f43547dd788bb33",
     "locked": false,
     "schema_version": 3,
     "solution": true
    }
   },
   "outputs": [
    {
     "data": {
      "text/html": [
       "<table><thead><tr><th>name</th><tr></thead><tbody><tr><td>Besame Mucho</td></tr><tr><td>Lend Me Your Comb</td></tr><tr><td>The Saints</td></tr><tr><td>Maxwell&#8217;s Silver Hammer</td></tr><tr><td>I&#8217;m Happy Just To Dance With You</td></tr><tr><td>Let It Be</td></tr><tr><td>Octopus&#8217;s Garden</td></tr><tr><td>I Got A Woman</td></tr><tr><td>Ticket To Ride</td></tr><tr><td>Ob-La-Di, Ob-La-Da</td></tr><tr><td>Memphis, Tennessee</td></tr><tr><td>Old Brown Shoe</td></tr><tr><td>Good Night</td></tr><tr><td>Things We Said Today</td></tr><tr><td>Hallelujah, I Love Her So</td></tr><tr><td>I Wanna Be Your Man</td></tr><tr><td>Yes It Is</td></tr><tr><td>Revolution 1</td></tr><tr><td>Dizzy Miss Lizzy</td></tr><tr><td>I Got To Find My Baby</td></tr></tbody></table>"
      ],
      "text/plain": [
       "<IPython.core.display.HTML object>"
      ]
     },
     "execution_count": 22,
     "metadata": {},
     "output_type": "execute_result"
    }
   ],
   "source": [
    "%%sparql http://fuseki.gsi.upm.es/sitc/\n",
    "\n",
    "PREFIX s: <http://learningsparql.com/ns/schema/>\n",
    "PREFIX rdfs: <http://www.w3.org/2000/01/rdf-schema#>\n",
    "\n",
    "SELECT ?name\n",
    "WHERE {\n",
    "# YOUR ANSWER HERE\n",
    "     ?song a s:Song .\n",
    "     ?song rdfs:label ?name\n",
    "}\n",
    "LIMIT 20"
   ]
  },
  {
   "cell_type": "code",
   "execution_count": 23,
   "metadata": {
    "deletable": false,
    "editable": false,
    "nbgrader": {
     "cell_type": "code",
     "checksum": "b4461d243cc058b1828769cc906d4947",
     "grade": true,
     "grade_id": "cell-e13a1c921af2f6eb",
     "locked": true,
     "points": 1,
     "schema_version": 3,
     "solution": false
    }
   },
   "outputs": [],
   "source": [
    "s = solution()\n",
    "assert 'Besame Mucho' in s['columns']['name']"
   ]
  },
  {
   "cell_type": "markdown",
   "metadata": {},
   "source": [
    "### Getting an ordered list of songs (ORDER BY)"
   ]
  },
  {
   "cell_type": "markdown",
   "metadata": {},
   "source": [
    "The `ORDER BY` statement allows us to determine the way results will be sorted.\n",
    "This makes it easier to find errors, or missing data.\n",
    "\n",
    "The syntax is the following:\n",
    "\n",
    "```sparql\n",
    "\n",
    "SELECT *\n",
    "WHERE { ... }\n",
    "ORDER BY <variable> <variable> ... DESC(<variable>) ASC(<variable>)\n",
    "... other statements like LIMIT ...\n",
    "```\n",
    "\n",
    "The results can be sorted in ascending or descending order, and using several variables."
   ]
  },
  {
   "cell_type": "markdown",
   "metadata": {},
   "source": [
    "Use `ORDER BY` to get a list of songs in **descending order**:"
   ]
  },
  {
   "cell_type": "code",
   "execution_count": 71,
   "metadata": {
    "deletable": false,
    "nbgrader": {
     "cell_type": "code",
     "checksum": "335403f01e484ce5563ff059e9764ff4",
     "grade": false,
     "grade_id": "cell-a0f0b9d9b05c9631",
     "locked": false,
     "schema_version": 3,
     "solution": true
    }
   },
   "outputs": [
    {
     "data": {
      "text/html": [
       "<table><thead><tr><th>name</th><tr></thead><tbody><tr><td>Your Mother Should Know</td></tr><tr><td>Young Blood</td></tr><tr><td>You&#8217;ve Got To Hide Your Love Away</td></tr><tr><td>You&#8217;re Going To Lose That Girl</td></tr><tr><td>You&#8217;ll Be Mine</td></tr><tr><td>You Won&#8217;t See Me</td></tr><tr><td>You Really Got A Hold On Me</td></tr><tr><td>You Never Give Me Your Money</td></tr><tr><td>You Like Me Too Much</td></tr><tr><td>You Know What To Do</td></tr><tr><td>You Know My Name (Look Up The Number)</td></tr><tr><td>You Can&#8217;t Do That</td></tr><tr><td>Yesterday</td></tr><tr><td>Yes It Is</td></tr><tr><td>Yer Blues</td></tr><tr><td>Yellow Submarine In Pepperland</td></tr><tr><td>Yellow Submarine</td></tr><tr><td>Words Of Love</td></tr><tr><td>Within You Without You</td></tr><tr><td>With A Little Help From My Friends</td></tr><tr><td>Wild Honey Pie</td></tr><tr><td>Why Don&#8217;t We Do It In The Road?</td></tr><tr><td>Why</td></tr><tr><td>While My Guitar Gently Weeps</td></tr><tr><td>When I&#8217;m Sixty-Four</td></tr><tr><td>When I Get Home</td></tr><tr><td>What&#8217;s The New Mary Jane</td></tr><tr><td>What You&#8217;re Doing</td></tr><tr><td>What Goes On</td></tr><tr><td>We Can Work It Out</td></tr><tr><td>Wait</td></tr><tr><td>Two Of Us</td></tr><tr><td>Twist And Shout</td></tr><tr><td>Too Much Monkey Business</td></tr><tr><td>Tomorrow Never Knows</td></tr><tr><td>To Know Her Is To Love Her</td></tr><tr><td>Till There Was You</td></tr><tr><td>Ticket To Ride</td></tr><tr><td>Three Cool Cats</td></tr><tr><td>This Boy</td></tr><tr><td>Think For Yourself</td></tr><tr><td>Things We Said Today</td></tr><tr><td>There&#8217;s A Place</td></tr><tr><td>The Word</td></tr><tr><td>The Sheik Of Araby</td></tr><tr><td>The Saints</td></tr><tr><td>The Night Before</td></tr><tr><td>The Long And Winding Road</td></tr><tr><td>The Inner Light</td></tr><tr><td>The Honeymoon Song</td></tr></tbody></table>"
      ],
      "text/plain": [
       "<IPython.core.display.HTML object>"
      ]
     },
     "execution_count": 71,
     "metadata": {},
     "output_type": "execute_result"
    }
   ],
   "source": [
    "%%sparql http://fuseki.gsi.upm.es/sitc/\n",
    "\n",
    "PREFIX s: <http://learningsparql.com/ns/schema/>\n",
    "PREFIX rdfs: <http://www.w3.org/2000/01/rdf-schema#>\n",
    "\n",
    "SELECT ?name\n",
    "WHERE {\n",
    "# YOUR ANSWER HERE\n",
    "  ?song a s:Song .\n",
    "?song rdfs:label ?name .\n",
    "}\n",
    "# YOUR ANSWER HERE\n",
    "ORDER BY DESC(?name)\n",
    "LIMIT 50"
   ]
  },
  {
   "cell_type": "code",
   "execution_count": null,
   "metadata": {
    "deletable": false,
    "editable": false,
    "nbgrader": {
     "cell_type": "code",
     "checksum": "45530eb91cbc5b3fddcc93d96f07e579",
     "grade": true,
     "grade_id": "cell-bc012ca9d7ad2867",
     "locked": true,
     "points": 1,
     "schema_version": 3,
     "solution": false
    }
   },
   "outputs": [],
   "source": [
    "s = solution()\n",
    "assert len(s['tuples']) >= 20\n",
    "assert s['columns']['name'][0][0] > s['columns']['name'][-1]"
   ]
  },
  {
   "cell_type": "markdown",
   "metadata": {},
   "source": [
    "### Get a list of musicians who collaborated in at least one song (Traversing the graph)"
   ]
  },
  {
   "cell_type": "markdown",
   "metadata": {},
   "source": [
    "From our inspection of the properties in previous exercises, we know that each song has a list of properties that link to musicians, and each musician has a name. For example:\n",
    "\n",
    "\n",
    "```turtle\n",
    "song:HeyJude a schema:Song ;\n",
    "         instrument:guitar musician:RingoStarr .\n",
    "\n",
    "musician:RingoStarr a schema:Musician ;\n",
    "                    rdfs:label \"Ringo Starr\" .\n",
    "```\n",
    "\n",
    "Using this structure, and the SPARQL statements you already know, to get the **names** of all musicians that collaborated in at least one song.\n"
   ]
  },
  {
   "cell_type": "code",
   "execution_count": 26,
   "metadata": {
    "deletable": false,
    "nbgrader": {
     "cell_type": "code",
     "checksum": "8fb253675d2e8510e2c6780b960721e5",
     "grade": false,
     "grade_id": "cell-523b963fa4e288d0",
     "locked": false,
     "schema_version": 3,
     "solution": true
    }
   },
   "outputs": [
    {
     "data": {
      "text/html": [
       "<table><thead><tr><th>musician</th><tr></thead><tbody><tr><td>Alan Branscombe</td></tr><tr><td>Alan Civil</td></tr><tr><td>Alan Dalziel</td></tr><tr><td>Alan Holmes</td></tr><tr><td>Alan Loveday</td></tr><tr><td>Alex Nifosi</td></tr><tr><td>Alf Bicknell</td></tr><tr><td>Alf Reece</td></tr><tr><td>Alfred Waters</td></tr><tr><td>Allan Grant</td></tr><tr><td>Allen Ford</td></tr><tr><td>Amrit Gajjar</td></tr><tr><td>Andrew McGee</td></tr><tr><td>Andy White</td></tr><tr><td>Anil Bhagwat</td></tr><tr><td>Anna Joshi</td></tr><tr><td>Art Ellefson</td></tr><tr><td>Ashish Khan</td></tr><tr><td>Barrie Cameron</td></tr><tr><td>Basil Tschaikov</td></tr><tr><td>Bernard Davis</td></tr><tr><td>Bernard George</td></tr><tr><td>Bernard Miller</td></tr><tr><td>Bert Courtley</td></tr><tr><td>Bill Jackman</td></tr><tr><td>Bill Monro</td></tr><tr><td>Bill Povey</td></tr><tr><td>Billy Preston</td></tr><tr><td>Bram Martin</td></tr><tr><td>Brian Jones</td></tr><tr><td>Buddhadev Kansara</td></tr><tr><td>Chris Thomas</td></tr><tr><td>Christopher Taylor</td></tr><tr><td>Clifford Seville</td></tr><tr><td>Colin Hanton</td></tr><tr><td>Cyril MacArthur</td></tr><tr><td>D Bradley</td></tr><tr><td>D Griffiths</td></tr><tr><td>Danny Moss</td></tr><tr><td>David Glyde</td></tr><tr><td>David Mason</td></tr><tr><td>David Mason and three others</td></tr><tr><td>David McCallum</td></tr><tr><td>David Sanderman</td></tr><tr><td>David Smith</td></tr><tr><td>David Wolfsthal</td></tr><tr><td>Dennis McConnell</td></tr><tr><td>Dennis Vigay</td></tr><tr><td>Dennis Walton</td></tr><tr><td>Derek Collins</td></tr><tr><td>Derek Jacobs</td></tr><tr><td>Derek Simpson</td></tr><tr><td>Derek Watkins</td></tr><tr><td>Dick Morgan</td></tr><tr><td>Don Honeywill</td></tr><tr><td>Don Lang</td></tr><tr><td>Donald Weekes</td></tr><tr><td>Duncan Campbell</td></tr><tr><td>Eddie Kramer</td></tr><tr><td>Eddie Thornton</td></tr><tr><td>Eldon Fox</td></tr><tr><td>Elgar Howarth</td></tr><tr><td>Eric Bowie</td></tr><tr><td>Eric Clapton</td></tr><tr><td>Eric Morecambe</td></tr><tr><td>Erich Gruenberg</td></tr><tr><td>Ernest Scott</td></tr><tr><td>Ernie Wise</td></tr><tr><td>Evan Watkins</td></tr><tr><td>F Dachtler</td></tr><tr><td>Francie Schwartz</td></tr><tr><td>Francisco Gabarro</td></tr><tr><td>Frank Clarke</td></tr><tr><td>Frank Reidy</td></tr><tr><td>Fred Lucas</td></tr><tr><td>Freddy Clayton</td></tr><tr><td>Frederick Alexander</td></tr><tr><td>G Mallen</td></tr><tr><td>Gary Leeds and more</td></tr><tr><td>Gayleen Pease</td></tr><tr><td>Geoff Emerick</td></tr><tr><td>George Harrison</td></tr><tr><td>George Martin</td></tr><tr><td>Gordon Lewin</td></tr><tr><td>Gordon Pearce</td></tr><tr><td>Graham Nash</td></tr><tr><td>Granville Jones</td></tr><tr><td>Greg Bowen</td></tr><tr><td>Gwynne Edwards</td></tr><tr><td>Hans Geiger</td></tr><tr><td>Hariprasad Chaurasia/SR Kenkare</td></tr><tr><td>Harold Jackson</td></tr><tr><td>Harry Klein</td></tr><tr><td>Harry Spain</td></tr><tr><td>Henry Datyner</td></tr><tr><td>Henry MacKenzie</td></tr><tr><td>Henry Myerscough</td></tr><tr><td>Hunter Davies</td></tr><tr><td>Ian Hamer</td></tr><tr><td>Ingrid Thomas</td></tr><tr><td>Irene King</td></tr><tr><td>J Fraser</td></tr><tr><td>J Power</td></tr><tr><td>J Smith</td></tr><tr><td>Jack Brymer</td></tr><tr><td>Jack Ellory</td></tr><tr><td>Jack Emblow</td></tr><tr><td>Jack Fallon</td></tr><tr><td>Jack Greene</td></tr><tr><td>Jack Holmes</td></tr><tr><td>Jack Richards</td></tr><tr><td>Jack Rothstein</td></tr><tr><td>Jackie Lomax</td></tr><tr><td>James W Buck</td></tr><tr><td>Jane Asher</td></tr><tr><td>Jeff Lynne</td></tr><tr><td>Jill Utting</td></tr><tr><td>Jim Chester</td></tr><tr><td>John Burden</td></tr><tr><td>John 'Duff' Lowe</td></tr><tr><td>John Hall</td></tr><tr><td>John Jezzard</td></tr><tr><td>John Lee</td></tr><tr><td>John Lennon</td></tr><tr><td>John Marston</td></tr><tr><td>John McCartney</td></tr><tr><td>John Meek</td></tr><tr><td>John O'Neill</td></tr><tr><td>John Ronayne</td></tr><tr><td>John Sharpe</td></tr><tr><td>John Underwood</td></tr><tr><td>John Wilbraham</td></tr><tr><td>Johnnie Scott</td></tr><tr><td>José Luis Garcia</td></tr><tr><td>Julien Gaillard</td></tr><tr><td>June Day</td></tr><tr><td>Jurgen Hess</td></tr><tr><td>Keith Cummings</td></tr><tr><td>Keith Moon</td></tr><tr><td>Keith Richards</td></tr><tr><td>Ken Barrie</td></tr><tr><td>Kenneth Essex</td></tr><tr><td>Kenny Powell</td></tr><tr><td>Leo Birnbaum</td></tr><tr><td>Leon Calvert</td></tr><tr><td>Les Condon</td></tr><tr><td>Les Maddox</td></tr><tr><td>Linda McCartney</td></tr><tr><td>Lionel Bentley</td></tr><tr><td>Lionel Ross</td></tr><tr><td>Lizzie Bravo</td></tr><tr><td>Lou Sofier</td></tr><tr><td>Louis Stevens</td></tr><tr><td>Mahapurush Misra</td></tr><tr><td>Mal Evans</td></tr><tr><td>Manny Winters</td></tr><tr><td>Marianne Faithfull</td></tr><tr><td>Marijke Koger</td></tr><tr><td>Michael Barnes</td></tr><tr><td>Mick Jagger</td></tr><tr><td>Mike McCartney</td></tr><tr><td>Mike Redway</td></tr><tr><td>Mike Vickers</td></tr><tr><td>Mike Winfield</td></tr><tr><td>Monty Montgomery</td></tr><tr><td>Morris Miller</td></tr><tr><td>N Fawcett</td></tr><tr><td>Natwar Soni</td></tr><tr><td>Neil Aspinall</td></tr><tr><td>Neil Sanders</td></tr><tr><td>Nicky Hopkins</td></tr><tr><td>Norman Jones</td></tr><tr><td>Norman Lederman</td></tr><tr><td>Norman Smith</td></tr><tr><td>Other musicians</td></tr><tr><td>P Goody</td></tr><tr><td>Pat Whitmore</td></tr><tr><td>Patrick Halling</td></tr><tr><td>Pattie Harrison</td></tr><tr><td>Paul Harvey</td></tr><tr><td>Paul McCartney</td></tr><tr><td>Paul Scherman</td></tr><tr><td>Peggie Allen</td></tr><tr><td>Personnel unknown; instruments include</td></tr><tr><td>Pete Best</td></tr><tr><td>Peter Beavan</td></tr><tr><td>Peter Coe</td></tr><tr><td>Peter Willison</td></tr><tr><td>Ralph Elman</td></tr><tr><td>Ray Swinfield</td></tr><tr><td>Raymond Brown</td></tr><tr><td>Raymond Newman</td></tr><tr><td>Raymond Premru</td></tr><tr><td>Reginald Kilbey</td></tr><tr><td>Rex Morris</td></tr><tr><td>Richard Taylor</td></tr><tr><td>Rij Ram Desad</td></tr><tr><td>Ringo Starr</td></tr><tr><td>Robert Burns</td></tr><tr><td>Roger Lord</td></tr><tr><td>Ronald Chamberlain</td></tr><tr><td>Ronald Thomas</td></tr><tr><td>Ronnie Hughes</td></tr><tr><td>Ronnie Ross</td></tr><tr><td>Ronnie Scott</td></tr><tr><td>Ross Gilmour</td></tr><tr><td>Roy Copestake</td></tr><tr><td>Sharad Ghosh/Hanuman Jadev</td></tr><tr><td>Sheila Bromberg</td></tr><tr><td>Sidney Sax</td></tr><tr><td>Stanley Reynolds</td></tr><tr><td>Stanley Roderick</td></tr><tr><td>Stanley Woods</td></tr><tr><td>Stephen Shingles</td></tr><tr><td>Stuart Sutcliffe</td></tr><tr><td>Sylvia King</td></tr><tr><td>T Moore</td></tr><tr><td>Ted Barker</td></tr><tr><td>Terry Doran</td></tr><tr><td>Terry Weil</td></tr><tr><td>Tom (surname unknown)</td></tr><tr><td>Tony Fisher</td></tr><tr><td>Tony Gilbert</td></tr><tr><td>Tony Randall</td></tr><tr><td>Tony Sheridan</td></tr><tr><td>Tony Tunstall</td></tr><tr><td>Trevor Williams</td></tr><tr><td>Tristan Fry</td></tr><tr><td>Uncredited</td></tr><tr><td>Unknown</td></tr><tr><td>Unknown musician</td></tr><tr><td>Val Stockwell</td></tr><tr><td>Various others</td></tr><tr><td>Victor Spinetti</td></tr><tr><td>Wendy Horan</td></tr><tr><td>Yoko Ono</td></tr><tr><td>including Maureen Starkey</td></tr><tr><td>unknown</td></tr></tbody></table>"
      ],
      "text/plain": [
       "<IPython.core.display.HTML object>"
      ]
     },
     "execution_count": 26,
     "metadata": {},
     "output_type": "execute_result"
    }
   ],
   "source": [
    "%%sparql http://fuseki.gsi.upm.es/sitc/\n",
    "\n",
    "PREFIX s: <http://learningsparql.com/ns/schema/>\n",
    "PREFIX rdfs: <http://www.w3.org/2000/01/rdf-schema#>\n",
    "\n",
    "SELECT DISTINCT ?musician\n",
    "WHERE {\n",
    "    ?song a s:Song .\n",
    "# YOUR ANSWER HERE\n",
    "    ?song a s:Song .\n",
    "    ?song ?prop ?artist .\n",
    "    ?artist a s:Musician .\n",
    "    ?artist rdfs:label ?musician .\n",
    "    \n",
    "}\n",
    "ORDER BY ?name"
   ]
  },
  {
   "cell_type": "code",
   "execution_count": 27,
   "metadata": {
    "deletable": false,
    "editable": false,
    "nbgrader": {
     "cell_type": "code",
     "checksum": "f4474b302bc2f634b3b2ee6e1c7e7257",
     "grade": true,
     "grade_id": "cell-aa9a4e18d6fda225",
     "locked": true,
     "points": 1,
     "schema_version": 3,
     "solution": false
    }
   },
   "outputs": [],
   "source": [
    "s = solution()\n",
    "assert 'musician' in s['columns']\n",
    "assert 'Paul McCartney' in s['columns']['musician']\n",
    "assert 'Peter Coe' in s['columns']['musician']\n",
    "assert len(solution()['tuples']) >= 200"
   ]
  },
  {
   "cell_type": "markdown",
   "metadata": {},
   "source": [
    "### In how many songs did Ringo collaborate? (COUNT)"
   ]
  },
  {
   "cell_type": "markdown",
   "metadata": {},
   "source": [
    "\n",
    "Results can be aggregated using different functions.\n",
    "One of the simplest functions is `COUNT`.\n",
    "The syntax for COUNT is:\n",
    "    \n",
    "```sparql\n",
    "SELECT (COUNT(?variable) as ?count_name)\n",
    "```\n",
    "\n",
    "Use `COUNT` to get the number of songs in which Ringo collaborated."
   ]
  },
  {
   "cell_type": "code",
   "execution_count": 29,
   "metadata": {
    "deletable": false,
    "nbgrader": {
     "cell_type": "code",
     "checksum": "c7b6620f5ba28b482197ab693cb7142a",
     "grade": false,
     "grade_id": "cell-e89d08031e30b299",
     "locked": false,
     "schema_version": 3,
     "solution": true
    }
   },
   "outputs": [
    {
     "data": {
      "text/html": [
       "<table><thead><tr><th>number</th><tr></thead><tbody><tr><td>412</td></tr></tbody></table>"
      ],
      "text/plain": [
       "<IPython.core.display.HTML object>"
      ]
     },
     "execution_count": 29,
     "metadata": {},
     "output_type": "execute_result"
    }
   ],
   "source": [
    "%%sparql http://fuseki.gsi.upm.es/sitc/\n",
    "\n",
    "PREFIX s: <http://learningsparql.com/ns/schema/>\n",
    "PREFIX m: <http://learningsparql.com/ns/musician/>\n",
    "PREFIX rdfs: <http://www.w3.org/2000/01/rdf-schema#>\n",
    "\n",
    "# YOUR ANSWER HERE\n",
    "SELECT (COUNT (?song) as ?number)\n",
    "WHERE {\n",
    "    ?song a s:Song .\n",
    "    ?song ?instrument m:RingoStarr .\n",
    "}"
   ]
  },
  {
   "cell_type": "code",
   "execution_count": 30,
   "metadata": {
    "deletable": false,
    "editable": false,
    "nbgrader": {
     "cell_type": "code",
     "checksum": "c90e1427d7e48d9ae8abab40ff92e3b0",
     "grade": true,
     "grade_id": "cell-903d2be00885e1d2",
     "locked": true,
     "points": 1,
     "schema_version": 3,
     "solution": false
    }
   },
   "outputs": [],
   "source": [
    "assert solution()['columns']['number'][0] == '412'"
   ]
  },
  {
   "cell_type": "markdown",
   "metadata": {},
   "source": [
    "### Getting the frequency of each instrument (GROUP BY)"
   ]
  },
  {
   "cell_type": "markdown",
   "metadata": {},
   "source": [
    "Results can be grouped by one or more of the variables.\n",
    "\n",
    "Grouping is achieved with the `GROUP BY` statement. \n",
    "The syntax for `GROUP BY` is:\n",
    "\n",
    "    \n",
    "```sparql\n",
    "SELECT GROUP BY ?variable1 ?variable2 ...\n",
    "```\n",
    "\n",
    "Once results are grouped, they can be aggregated using any aggregation function, such as `COUNT`.\n",
    "\n",
    "Using `GROUP BY` and `COUNT`, get the count of songs that use each instrument:"
   ]
  },
  {
   "cell_type": "code",
   "execution_count": 69,
   "metadata": {
    "deletable": false,
    "nbgrader": {
     "cell_type": "code",
     "checksum": "7556bacb20c1fbd059dec165c982908d",
     "grade": false,
     "grade_id": "cell-1429e4eb5400dbc7",
     "locked": false,
     "schema_version": 3,
     "solution": true
    }
   },
   "outputs": [
    {
     "data": {
      "text/html": [
       "<table><thead><tr><th>instrument</th><th>number</th><tr></thead><tbody><tr><td>http://learningsparql.com/ns/instrument/drums</td><td>233</td></tr><tr><td>http://learningsparql.com/ns/instrument/tambourine</td><td>45</td></tr><tr><td>http://learningsparql.com/ns/instrument/handclaps</td><td>23</td></tr><tr><td>http://learningsparql.com/ns/instrument/maracas</td><td>21</td></tr><tr><td>http://learningsparql.com/ns/instrument/vocals</td><td>20</td></tr><tr><td>http://learningsparql.com/ns/instrument/percussion</td><td>13</td></tr><tr><td>http://learningsparql.com/ns/instrument/bongo</td><td>9</td></tr><tr><td>http://learningsparql.com/ns/instrument/cowbell</td><td>8</td></tr><tr><td>http://learningsparql.com/ns/instrument/backingvocals</td><td>5</td></tr><tr><td>http://learningsparql.com/ns/instrument/conga</td><td>4</td></tr><tr><td>http://learningsparql.com/ns/instrument/claves</td><td>2</td></tr><tr><td>http://learningsparql.com/ns/instrument/fingercymbals</td><td>2</td></tr><tr><td>http://learningsparql.com/ns/instrument/shaker</td><td>2</td></tr><tr><td>http://learningsparql.com/ns/instrument/timpani</td><td>2</td></tr><tr><td>http://learningsparql.com/ns/instrument/acousticguitarpercussion</td><td>1</td></tr><tr><td>http://learningsparql.com/ns/instrument/anvil</td><td>1</td></tr><tr><td>http://learningsparql.com/ns/instrument/bassdrum</td><td>1</td></tr><tr><td>http://learningsparql.com/ns/instrument/brushedsnaredrum</td><td>1</td></tr><tr><td>http://learningsparql.com/ns/instrument/castanets</td><td>1</td></tr><tr><td>http://learningsparql.com/ns/instrument/chimes</td><td>1</td></tr><tr><td>http://learningsparql.com/ns/instrument/chocalho</td><td>1</td></tr><tr><td>http://learningsparql.com/ns/instrument/combandpaper</td><td>1</td></tr><tr><td>http://learningsparql.com/ns/instrument/cymbals</td><td>1</td></tr><tr><td>http://learningsparql.com/ns/instrument/drums%28Anthology3%29</td><td>1</td></tr><tr><td>http://learningsparql.com/ns/instrument/effects</td><td>1</td></tr><tr><td>http://learningsparql.com/ns/instrument/fingerclicks</td><td>1</td></tr><tr><td>http://learningsparql.com/ns/instrument/harmonica</td><td>1</td></tr><tr><td>http://learningsparql.com/ns/instrument/organ</td><td>1</td></tr><tr><td>http://learningsparql.com/ns/instrument/piano</td><td>1</td></tr><tr><td>http://learningsparql.com/ns/instrument/shakerbells</td><td>1</td></tr><tr><td>http://learningsparql.com/ns/instrument/sleighbell</td><td>1</td></tr><tr><td>http://learningsparql.com/ns/instrument/soundeffects</td><td>1</td></tr><tr><td>http://learningsparql.com/ns/instrument/sticks</td><td>1</td></tr><tr><td>http://learningsparql.com/ns/instrument/svaramandal</td><td>1</td></tr><tr><td>http://learningsparql.com/ns/instrument/tapdancing</td><td>1</td></tr><tr><td>http://learningsparql.com/ns/instrument/tapeloops</td><td>1</td></tr><tr><td>http://learningsparql.com/ns/instrument/tubularbells</td><td>1</td></tr></tbody></table>"
      ],
      "text/plain": [
       "<IPython.core.display.HTML object>"
      ]
     },
     "execution_count": 69,
     "metadata": {},
     "output_type": "execute_result"
    }
   ],
   "source": [
    "%%sparql http://fuseki.gsi.upm.es/sitc/\n",
    "\n",
    "PREFIX s: <http://learningsparql.com/ns/schema/>\n",
    "PREFIX m: <http://learningsparql.com/ns/musician/>\n",
    "PREFIX rdfs: <http://www.w3.org/2000/01/rdf-schema#>\n",
    "\n",
    "SELECT ?instrument (COUNT(?song) as ?number)\n",
    "WHERE {\n",
    "    ?song a s:Song .\n",
    "    ?song ?instrument m:RingoStarr .\n",
    "}\n",
    "# YOUR ANSWER HERE\n",
    "GROUP BY ?instrument\n",
    "ORDER BY DESC(?number)"
   ]
  },
  {
   "cell_type": "code",
   "execution_count": 70,
   "metadata": {
    "deletable": false,
    "editable": false,
    "nbgrader": {
     "cell_type": "code",
     "checksum": "34a8432e8d4cea70994c8214ed0e5eb6",
     "grade": true,
     "grade_id": "cell-907aaf6001e27e50",
     "locked": true,
     "points": 1,
     "schema_version": 3,
     "solution": false
    }
   },
   "outputs": [],
   "source": [
    "s = solution()\n",
    "assert len(s['tuples']) == 37\n",
    "assert s['columns']['number'][-1] == '1'\n",
    "assert s['columns']['number'][0] == '233'"
   ]
  },
  {
   "cell_type": "markdown",
   "metadata": {},
   "source": [
    "### How many different instruments are there in every song?"
   ]
  },
  {
   "cell_type": "markdown",
   "metadata": {},
   "source": [
    "We can use other keywords inside our aggregation.\n",
    "For example, we could use `DISTINCT` to remove duplicates before aggregating.\n",
    "\n",
    "Here is an example, which shows the number of songs each musician collaborated in.\n",
    "It has to use `DISTINCT` because some artists play multiple instruments in a song."
   ]
  },
  {
   "cell_type": "code",
   "execution_count": 34,
   "metadata": {},
   "outputs": [
    {
     "data": {
      "text/html": [
       "<table><thead><tr><th>artist</th><th>number</th><tr></thead><tbody><tr><td>http://learningsparql.com/ns/musician/PaulMcCartney</td><td>278</td></tr><tr><td>http://learningsparql.com/ns/musician/GeorgeHarrison</td><td>265</td></tr><tr><td>http://learningsparql.com/ns/musician/JohnLennon</td><td>261</td></tr><tr><td>http://learningsparql.com/ns/musician/RingoStarr</td><td>247</td></tr><tr><td>http://learningsparql.com/ns/musician/GeorgeMartin</td><td>40</td></tr><tr><td>http://learningsparql.com/ns/musician/PeteBest</td><td>14</td></tr><tr><td>http://learningsparql.com/ns/musician/MalEvans</td><td>12</td></tr><tr><td>http://learningsparql.com/ns/musician/BillyPreston</td><td>10</td></tr><tr><td>http://learningsparql.com/ns/musician/Uncredited</td><td>9</td></tr><tr><td>http://learningsparql.com/ns/musician/ChrisThomas</td><td>5</td></tr><tr><td>http://learningsparql.com/ns/musician/JohnUnderwood</td><td>5</td></tr><tr><td>http://learningsparql.com/ns/musician/NeilAspinall</td><td>5</td></tr><tr><td>http://learningsparql.com/ns/musician/SidneySax</td><td>5</td></tr><tr><td>http://learningsparql.com/ns/musician/TonySheridan</td><td>5</td></tr><tr><td>http://learningsparql.com/ns/musician/DavidMason</td><td>4</td></tr><tr><td>http://learningsparql.com/ns/musician/ReginaldKilbey</td><td>4</td></tr><tr><td>http://learningsparql.com/ns/musician/Unknown</td><td>4</td></tr><tr><td>http://learningsparql.com/ns/musician/EldonFox</td><td>3</td></tr><tr><td>http://learningsparql.com/ns/musician/EricBowie</td><td>3</td></tr><tr><td>http://learningsparql.com/ns/musician/ErichGruenberg</td><td>3</td></tr><tr><td>http://learningsparql.com/ns/musician/HarryKlein</td><td>3</td></tr><tr><td>http://learningsparql.com/ns/musician/HenryDatyner</td><td>3</td></tr><tr><td>http://learningsparql.com/ns/musician/NeilSanders</td><td>3</td></tr><tr><td>http://learningsparql.com/ns/musician/PattieHarrison</td><td>3</td></tr><tr><td>http://learningsparql.com/ns/musician/RexMorris</td><td>3</td></tr><tr><td>http://learningsparql.com/ns/musician/StuartSutcliffe</td><td>3</td></tr><tr><td>http://learningsparql.com/ns/musician/YokoOno</td><td>3</td></tr><tr><td>http://learningsparql.com/ns/musician/AlanCivil</td><td>2</td></tr><tr><td>http://learningsparql.com/ns/musician/AlanDalziel</td><td>2</td></tr><tr><td>http://learningsparql.com/ns/musician/AndyWhite</td><td>2</td></tr><tr><td>http://learningsparql.com/ns/musician/BillPovey</td><td>2</td></tr><tr><td>http://learningsparql.com/ns/musician/BrianJones</td><td>2</td></tr><tr><td>http://learningsparql.com/ns/musician/ColinHanton</td><td>2</td></tr><tr><td>http://learningsparql.com/ns/musician/DennisVigay</td><td>2</td></tr><tr><td>http://learningsparql.com/ns/musician/DennisWalton</td><td>2</td></tr><tr><td>http://learningsparql.com/ns/musician/DerekSimpson</td><td>2</td></tr><tr><td>http://learningsparql.com/ns/musician/DerekWatkins</td><td>2</td></tr><tr><td>http://learningsparql.com/ns/musician/EricClapton</td><td>2</td></tr><tr><td>http://learningsparql.com/ns/musician/FranciscoGabarro</td><td>2</td></tr><tr><td>http://learningsparql.com/ns/musician/FredLucas</td><td>2</td></tr><tr><td>http://learningsparql.com/ns/musician/FreddyClayton</td><td>2</td></tr><tr><td>http://learningsparql.com/ns/musician/GeoffEmerick</td><td>2</td></tr><tr><td>http://learningsparql.com/ns/musician/GordonPearce</td><td>2</td></tr><tr><td>http://learningsparql.com/ns/musician/IreneKing</td><td>2</td></tr><tr><td>http://learningsparql.com/ns/musician/JackGreene</td><td>2</td></tr><tr><td>http://learningsparql.com/ns/musician/JackRothstein</td><td>2</td></tr><tr><td>http://learningsparql.com/ns/musician/JeffLynne</td><td>2</td></tr><tr><td>http://learningsparql.com/ns/musician/JohnDuffLowe</td><td>2</td></tr><tr><td>http://learningsparql.com/ns/musician/JurgenHess</td><td>2</td></tr><tr><td>http://learningsparql.com/ns/musician/KeithCummings</td><td>2</td></tr><tr><td>http://learningsparql.com/ns/musician/KennethEssex</td><td>2</td></tr><tr><td>http://learningsparql.com/ns/musician/LeoBirnbaum</td><td>2</td></tr><tr><td>http://learningsparql.com/ns/musician/LeonCalvert</td><td>2</td></tr><tr><td>http://learningsparql.com/ns/musician/LionelRoss</td><td>2</td></tr><tr><td>http://learningsparql.com/ns/musician/MarianneFaithfull</td><td>2</td></tr><tr><td>http://learningsparql.com/ns/musician/MickJagger</td><td>2</td></tr><tr><td>http://learningsparql.com/ns/musician/MikeRedway</td><td>2</td></tr><tr><td>http://learningsparql.com/ns/musician/NormanJones</td><td>2</td></tr><tr><td>http://learningsparql.com/ns/musician/NormanLederman</td><td>2</td></tr><tr><td>http://learningsparql.com/ns/musician/NormanSmith</td><td>2</td></tr><tr><td>http://learningsparql.com/ns/musician/PatWhitmore</td><td>2</td></tr><tr><td>http://learningsparql.com/ns/musician/RalphElman</td><td>2</td></tr><tr><td>http://learningsparql.com/ns/musician/RonaldThomas</td><td>2</td></tr><tr><td>http://learningsparql.com/ns/musician/StephenShingles</td><td>2</td></tr><tr><td>http://learningsparql.com/ns/musician/TonyGilbert</td><td>2</td></tr><tr><td>http://learningsparql.com/ns/musician/TonyTunstall</td><td>2</td></tr><tr><td>http://learningsparql.com/ns/musician/AlanBranscombe</td><td>1</td></tr><tr><td>http://learningsparql.com/ns/musician/AlanHolmes</td><td>1</td></tr><tr><td>http://learningsparql.com/ns/musician/AlanLoveday</td><td>1</td></tr><tr><td>http://learningsparql.com/ns/musician/AlexNifosi</td><td>1</td></tr><tr><td>http://learningsparql.com/ns/musician/AlfBicknell</td><td>1</td></tr><tr><td>http://learningsparql.com/ns/musician/AlfReece</td><td>1</td></tr><tr><td>http://learningsparql.com/ns/musician/AlfredWaters</td><td>1</td></tr><tr><td>http://learningsparql.com/ns/musician/AllanGrant</td><td>1</td></tr><tr><td>http://learningsparql.com/ns/musician/AllenFord</td><td>1</td></tr><tr><td>http://learningsparql.com/ns/musician/AmritGajjar</td><td>1</td></tr><tr><td>http://learningsparql.com/ns/musician/AndrewMcGee</td><td>1</td></tr><tr><td>http://learningsparql.com/ns/musician/AnilBhagwat</td><td>1</td></tr><tr><td>http://learningsparql.com/ns/musician/AnnaJoshi</td><td>1</td></tr><tr><td>http://learningsparql.com/ns/musician/ArtEllefson</td><td>1</td></tr><tr><td>http://learningsparql.com/ns/musician/AshishKhan</td><td>1</td></tr><tr><td>http://learningsparql.com/ns/musician/BarrieCameron</td><td>1</td></tr><tr><td>http://learningsparql.com/ns/musician/BasilTschaikov</td><td>1</td></tr><tr><td>http://learningsparql.com/ns/musician/BernardDavis</td><td>1</td></tr><tr><td>http://learningsparql.com/ns/musician/BernardGeorge</td><td>1</td></tr><tr><td>http://learningsparql.com/ns/musician/BernardMiller</td><td>1</td></tr><tr><td>http://learningsparql.com/ns/musician/BertCourtley</td><td>1</td></tr><tr><td>http://learningsparql.com/ns/musician/BillJackman</td><td>1</td></tr><tr><td>http://learningsparql.com/ns/musician/BillMonro</td><td>1</td></tr><tr><td>http://learningsparql.com/ns/musician/BramMartin</td><td>1</td></tr><tr><td>http://learningsparql.com/ns/musician/BuddhadevKansara</td><td>1</td></tr><tr><td>http://learningsparql.com/ns/musician/ChristopherTaylor</td><td>1</td></tr><tr><td>http://learningsparql.com/ns/musician/CliffordSeville</td><td>1</td></tr><tr><td>http://learningsparql.com/ns/musician/CyrilMacArthur</td><td>1</td></tr><tr><td>http://learningsparql.com/ns/musician/DBradley</td><td>1</td></tr><tr><td>http://learningsparql.com/ns/musician/DGriffiths</td><td>1</td></tr><tr><td>http://learningsparql.com/ns/musician/DannyMoss</td><td>1</td></tr><tr><td>http://learningsparql.com/ns/musician/DavidGlyde</td><td>1</td></tr><tr><td>http://learningsparql.com/ns/musician/DavidMasonandthreeothers</td><td>1</td></tr><tr><td>http://learningsparql.com/ns/musician/DavidMcCallum</td><td>1</td></tr><tr><td>http://learningsparql.com/ns/musician/DavidSanderman</td><td>1</td></tr><tr><td>http://learningsparql.com/ns/musician/DavidSmith</td><td>1</td></tr><tr><td>http://learningsparql.com/ns/musician/DavidWolfsthal</td><td>1</td></tr><tr><td>http://learningsparql.com/ns/musician/DennisMcConnell</td><td>1</td></tr><tr><td>http://learningsparql.com/ns/musician/DerekCollins</td><td>1</td></tr><tr><td>http://learningsparql.com/ns/musician/DerekJacobs</td><td>1</td></tr><tr><td>http://learningsparql.com/ns/musician/DickMorgan</td><td>1</td></tr><tr><td>http://learningsparql.com/ns/musician/DonHoneywill</td><td>1</td></tr><tr><td>http://learningsparql.com/ns/musician/DonLang</td><td>1</td></tr><tr><td>http://learningsparql.com/ns/musician/DonaldWeekes</td><td>1</td></tr><tr><td>http://learningsparql.com/ns/musician/DuncanCampbell</td><td>1</td></tr><tr><td>http://learningsparql.com/ns/musician/EddieKramer</td><td>1</td></tr><tr><td>http://learningsparql.com/ns/musician/EddieThornton</td><td>1</td></tr><tr><td>http://learningsparql.com/ns/musician/ElgarHowarth</td><td>1</td></tr><tr><td>http://learningsparql.com/ns/musician/EricMorecambe</td><td>1</td></tr><tr><td>http://learningsparql.com/ns/musician/ErnestScott</td><td>1</td></tr><tr><td>http://learningsparql.com/ns/musician/ErnieWise</td><td>1</td></tr><tr><td>http://learningsparql.com/ns/musician/EvanWatkins</td><td>1</td></tr><tr><td>http://learningsparql.com/ns/musician/FDachtler</td><td>1</td></tr><tr><td>http://learningsparql.com/ns/musician/FrancieSchwartz</td><td>1</td></tr><tr><td>http://learningsparql.com/ns/musician/FrankClarke</td><td>1</td></tr><tr><td>http://learningsparql.com/ns/musician/FrankReidy</td><td>1</td></tr><tr><td>http://learningsparql.com/ns/musician/FrederickAlexander</td><td>1</td></tr><tr><td>http://learningsparql.com/ns/musician/GMallen</td><td>1</td></tr><tr><td>http://learningsparql.com/ns/musician/GaryLeedsandmore</td><td>1</td></tr><tr><td>http://learningsparql.com/ns/musician/GayleenPease</td><td>1</td></tr><tr><td>http://learningsparql.com/ns/musician/GordonLewin</td><td>1</td></tr><tr><td>http://learningsparql.com/ns/musician/GrahamNash</td><td>1</td></tr><tr><td>http://learningsparql.com/ns/musician/GranvilleJones</td><td>1</td></tr><tr><td>http://learningsparql.com/ns/musician/GregBowen</td><td>1</td></tr><tr><td>http://learningsparql.com/ns/musician/GwynneEdwards</td><td>1</td></tr><tr><td>http://learningsparql.com/ns/musician/HansGeiger</td><td>1</td></tr><tr><td>http://learningsparql.com/ns/musician/HariprasadChaurasiaSRKenkare</td><td>1</td></tr><tr><td>http://learningsparql.com/ns/musician/HaroldJackson</td><td>1</td></tr><tr><td>http://learningsparql.com/ns/musician/HarrySpain</td><td>1</td></tr><tr><td>http://learningsparql.com/ns/musician/HenryMacKenzie</td><td>1</td></tr><tr><td>http://learningsparql.com/ns/musician/HenryMyerscough</td><td>1</td></tr><tr><td>http://learningsparql.com/ns/musician/HunterDavies</td><td>1</td></tr><tr><td>http://learningsparql.com/ns/musician/IanHamer</td><td>1</td></tr><tr><td>http://learningsparql.com/ns/musician/IngridThomas</td><td>1</td></tr><tr><td>http://learningsparql.com/ns/musician/JFraser</td><td>1</td></tr><tr><td>http://learningsparql.com/ns/musician/JPower</td><td>1</td></tr><tr><td>http://learningsparql.com/ns/musician/JSmith</td><td>1</td></tr><tr><td>http://learningsparql.com/ns/musician/JackBrymer</td><td>1</td></tr><tr><td>http://learningsparql.com/ns/musician/JackEllory</td><td>1</td></tr><tr><td>http://learningsparql.com/ns/musician/JackEmblow</td><td>1</td></tr><tr><td>http://learningsparql.com/ns/musician/JackFallon</td><td>1</td></tr><tr><td>http://learningsparql.com/ns/musician/JackHolmes</td><td>1</td></tr><tr><td>http://learningsparql.com/ns/musician/JackRichards</td><td>1</td></tr><tr><td>http://learningsparql.com/ns/musician/JackieLomax</td><td>1</td></tr><tr><td>http://learningsparql.com/ns/musician/JamesWBuck</td><td>1</td></tr><tr><td>http://learningsparql.com/ns/musician/JaneAsher</td><td>1</td></tr><tr><td>http://learningsparql.com/ns/musician/JillUtting</td><td>1</td></tr><tr><td>http://learningsparql.com/ns/musician/JimChester</td><td>1</td></tr><tr><td>http://learningsparql.com/ns/musician/JohnBurden</td><td>1</td></tr><tr><td>http://learningsparql.com/ns/musician/JohnHall</td><td>1</td></tr><tr><td>http://learningsparql.com/ns/musician/JohnJezzard</td><td>1</td></tr><tr><td>http://learningsparql.com/ns/musician/JohnLee</td><td>1</td></tr><tr><td>http://learningsparql.com/ns/musician/JohnMarston</td><td>1</td></tr><tr><td>http://learningsparql.com/ns/musician/JohnMcCartney</td><td>1</td></tr><tr><td>http://learningsparql.com/ns/musician/JohnMeek</td><td>1</td></tr><tr><td>http://learningsparql.com/ns/musician/JohnONeill</td><td>1</td></tr><tr><td>http://learningsparql.com/ns/musician/JohnRonayne</td><td>1</td></tr><tr><td>http://learningsparql.com/ns/musician/JohnSharpe</td><td>1</td></tr><tr><td>http://learningsparql.com/ns/musician/JohnWilbraham</td><td>1</td></tr><tr><td>http://learningsparql.com/ns/musician/JohnnieScott</td><td>1</td></tr><tr><td>http://learningsparql.com/ns/musician/Jos%C3%A9LuisGarcia</td><td>1</td></tr><tr><td>http://learningsparql.com/ns/musician/JulienGaillard</td><td>1</td></tr><tr><td>http://learningsparql.com/ns/musician/JuneDay</td><td>1</td></tr><tr><td>http://learningsparql.com/ns/musician/KeithMoon</td><td>1</td></tr><tr><td>http://learningsparql.com/ns/musician/KeithRichards</td><td>1</td></tr><tr><td>http://learningsparql.com/ns/musician/KenBarrie</td><td>1</td></tr><tr><td>http://learningsparql.com/ns/musician/KennyPowell</td><td>1</td></tr><tr><td>http://learningsparql.com/ns/musician/LesCondon</td><td>1</td></tr><tr><td>http://learningsparql.com/ns/musician/LesMaddox</td><td>1</td></tr><tr><td>http://learningsparql.com/ns/musician/LindaMcCartney</td><td>1</td></tr><tr><td>http://learningsparql.com/ns/musician/LionelBentley</td><td>1</td></tr><tr><td>http://learningsparql.com/ns/musician/LizzieBravo</td><td>1</td></tr><tr><td>http://learningsparql.com/ns/musician/LouSofier</td><td>1</td></tr><tr><td>http://learningsparql.com/ns/musician/LouisStevens</td><td>1</td></tr><tr><td>http://learningsparql.com/ns/musician/MahapurushMisra</td><td>1</td></tr><tr><td>http://learningsparql.com/ns/musician/MannyWinters</td><td>1</td></tr><tr><td>http://learningsparql.com/ns/musician/MarijkeKoger</td><td>1</td></tr><tr><td>http://learningsparql.com/ns/musician/MichaelBarnes</td><td>1</td></tr><tr><td>http://learningsparql.com/ns/musician/MikeMcCartney</td><td>1</td></tr><tr><td>http://learningsparql.com/ns/musician/MikeVickers</td><td>1</td></tr><tr><td>http://learningsparql.com/ns/musician/MikeWinfield</td><td>1</td></tr><tr><td>http://learningsparql.com/ns/musician/MontyMontgomery</td><td>1</td></tr><tr><td>http://learningsparql.com/ns/musician/MorrisMiller</td><td>1</td></tr><tr><td>http://learningsparql.com/ns/musician/NFawcett</td><td>1</td></tr><tr><td>http://learningsparql.com/ns/musician/NatwarSoni</td><td>1</td></tr><tr><td>http://learningsparql.com/ns/musician/NickyHopkins</td><td>1</td></tr><tr><td>http://learningsparql.com/ns/musician/Othermusicians</td><td>1</td></tr><tr><td>http://learningsparql.com/ns/musician/PGoody</td><td>1</td></tr><tr><td>http://learningsparql.com/ns/musician/PatrickHalling</td><td>1</td></tr><tr><td>http://learningsparql.com/ns/musician/PaulHarvey</td><td>1</td></tr><tr><td>http://learningsparql.com/ns/musician/PaulScherman</td><td>1</td></tr><tr><td>http://learningsparql.com/ns/musician/PeggieAllen</td><td>1</td></tr><tr><td>http://learningsparql.com/ns/musician/Personnelunknown%3Binstrumentsinclude</td><td>1</td></tr><tr><td>http://learningsparql.com/ns/musician/PeterBeavan</td><td>1</td></tr><tr><td>http://learningsparql.com/ns/musician/PeterCoe</td><td>1</td></tr><tr><td>http://learningsparql.com/ns/musician/PeterWillison</td><td>1</td></tr><tr><td>http://learningsparql.com/ns/musician/RaySwinfield</td><td>1</td></tr><tr><td>http://learningsparql.com/ns/musician/RaymondBrown</td><td>1</td></tr><tr><td>http://learningsparql.com/ns/musician/RaymondNewman</td><td>1</td></tr><tr><td>http://learningsparql.com/ns/musician/RaymondPremru</td><td>1</td></tr><tr><td>http://learningsparql.com/ns/musician/RichardTaylor</td><td>1</td></tr><tr><td>http://learningsparql.com/ns/musician/RijRamDesad</td><td>1</td></tr><tr><td>http://learningsparql.com/ns/musician/RobertBurns</td><td>1</td></tr><tr><td>http://learningsparql.com/ns/musician/RogerLord</td><td>1</td></tr><tr><td>http://learningsparql.com/ns/musician/RonaldChamberlain</td><td>1</td></tr><tr><td>http://learningsparql.com/ns/musician/RonnieHughes</td><td>1</td></tr><tr><td>http://learningsparql.com/ns/musician/RonnieRoss</td><td>1</td></tr><tr><td>http://learningsparql.com/ns/musician/RonnieScott</td><td>1</td></tr><tr><td>http://learningsparql.com/ns/musician/RossGilmour</td><td>1</td></tr><tr><td>http://learningsparql.com/ns/musician/RoyCopestake</td><td>1</td></tr><tr><td>http://learningsparql.com/ns/musician/SharadGhoshHanumanJadev</td><td>1</td></tr><tr><td>http://learningsparql.com/ns/musician/SheilaBromberg</td><td>1</td></tr><tr><td>http://learningsparql.com/ns/musician/StanleyReynolds</td><td>1</td></tr><tr><td>http://learningsparql.com/ns/musician/StanleyRoderick</td><td>1</td></tr><tr><td>http://learningsparql.com/ns/musician/StanleyWoods</td><td>1</td></tr><tr><td>http://learningsparql.com/ns/musician/SylviaKing</td><td>1</td></tr><tr><td>http://learningsparql.com/ns/musician/TMoore</td><td>1</td></tr><tr><td>http://learningsparql.com/ns/musician/TedBarker</td><td>1</td></tr><tr><td>http://learningsparql.com/ns/musician/TerryDoran</td><td>1</td></tr><tr><td>http://learningsparql.com/ns/musician/TerryWeil</td><td>1</td></tr><tr><td>http://learningsparql.com/ns/musician/Tom%28surnameunknown%29</td><td>1</td></tr><tr><td>http://learningsparql.com/ns/musician/TonyFisher</td><td>1</td></tr><tr><td>http://learningsparql.com/ns/musician/TonyRandall</td><td>1</td></tr><tr><td>http://learningsparql.com/ns/musician/TrevorWilliams</td><td>1</td></tr><tr><td>http://learningsparql.com/ns/musician/TristanFry</td><td>1</td></tr><tr><td>http://learningsparql.com/ns/musician/Unknownmusician</td><td>1</td></tr><tr><td>http://learningsparql.com/ns/musician/ValStockwell</td><td>1</td></tr><tr><td>http://learningsparql.com/ns/musician/Variousothers</td><td>1</td></tr><tr><td>http://learningsparql.com/ns/musician/VictorSpinetti</td><td>1</td></tr><tr><td>http://learningsparql.com/ns/musician/WendyHoran</td><td>1</td></tr><tr><td>http://learningsparql.com/ns/musician/includingMaureenStarkey</td><td>1</td></tr><tr><td>http://learningsparql.com/ns/musician/unknown</td><td>1</td></tr></tbody></table>"
      ],
      "text/plain": [
       "<IPython.core.display.HTML object>"
      ]
     },
     "execution_count": 34,
     "metadata": {},
     "output_type": "execute_result"
    }
   ],
   "source": [
    "%%sparql http://fuseki.gsi.upm.es/sitc/\n",
    "\n",
    "PREFIX s: <http://learningsparql.com/ns/schema/>\n",
    "PREFIX rdfs: <http://www.w3.org/2000/01/rdf-schema#>\n",
    "\n",
    "SELECT ?artist (COUNT(DISTINCT ?song) as ?number)\n",
    "WHERE {\n",
    "    ?artist a s:Musician .\n",
    "    ?song ?instrument ?artist .\n",
    "}\n",
    "GROUP BY ?artist\n",
    "ORDER BY DESC(?number)"
   ]
  },
  {
   "cell_type": "markdown",
   "metadata": {},
   "source": [
    "Now, use the same principle to get the count of **different** instruments in each song.\n",
    "Some songs have several musicians playing the same instrument, but we only care about *different* instruments in each song.\n",
    "\n",
    "Use `?number` for the count."
   ]
  },
  {
   "cell_type": "code",
   "execution_count": 36,
   "metadata": {
    "deletable": false,
    "nbgrader": {
     "cell_type": "code",
     "checksum": "2d0633303eedd0655e9b64bb00317dba",
     "grade": false,
     "grade_id": "cell-ee208c762d00da9c",
     "locked": false,
     "schema_version": 3,
     "solution": true
    }
   },
   "outputs": [
    {
     "data": {
      "text/html": [
       "<table><thead><tr><th>song</th><th>number</th><tr></thead><tbody><tr><td>A Day In The Life</td><td>27</td></tr><tr><td>Across The Universe</td><td>23</td></tr><tr><td>Hey Jude</td><td>23</td></tr><tr><td>Penny Lane</td><td>19</td></tr><tr><td>All You Need Is Love</td><td>18</td></tr><tr><td>Strawberry Fields Forever</td><td>18</td></tr><tr><td>Carry That Weight</td><td>17</td></tr><tr><td>Here Comes The Sun</td><td>17</td></tr><tr><td>Martha My Dear</td><td>17</td></tr><tr><td>The End</td><td>17</td></tr><tr><td>I Me Mine</td><td>16</td></tr><tr><td>Let It Be</td><td>15</td></tr><tr><td>Polythene Pam</td><td>15</td></tr><tr><td>She Came In Through The Bathroom Window</td><td>15</td></tr><tr><td>Sun King</td><td>15</td></tr><tr><td>The Long And Winding Road</td><td>15</td></tr><tr><td>You Know My Name (Look Up The Number)</td><td>15</td></tr><tr><td>Being For The Benefit Of Mr Kite!</td><td>14</td></tr><tr><td>Golden Slumbers</td><td>14</td></tr><tr><td>Good Night</td><td>14</td></tr><tr><td>Hello, Goodbye</td><td>14</td></tr><tr><td>Real Love</td><td>14</td></tr><tr><td>Something</td><td>14</td></tr><tr><td>While My Guitar Gently Weeps</td><td>14</td></tr><tr><td>Dear Prudence</td><td>13</td></tr><tr><td>Getting Better</td><td>13</td></tr><tr><td>Glass Onion</td><td>13</td></tr><tr><td>I Am The Walrus</td><td>13</td></tr><tr><td>Savoy Truffle</td><td>13</td></tr><tr><td>The Fool On The Hill</td><td>13</td></tr><tr><td>Tomorrow Never Knows</td><td>13</td></tr><tr><td>Baby You&#8217;re A Rich Man</td><td>12</td></tr><tr><td>Come Together</td><td>12</td></tr><tr><td>Drive My Car</td><td>12</td></tr><tr><td>Free As A Bird</td><td>12</td></tr><tr><td>Good Morning Good Morning</td><td>12</td></tr><tr><td>Maxwell&#8217;s Silver Hammer</td><td>12</td></tr><tr><td>Ob-La-Di, Ob-La-Da</td><td>12</td></tr><tr><td>Octopus&#8217;s Garden</td><td>12</td></tr><tr><td>Piggies</td><td>12</td></tr><tr><td>Revolution 1</td><td>12</td></tr><tr><td>Sexy Sadie</td><td>12</td></tr><tr><td>Within You Without You</td><td>12</td></tr><tr><td>All Together Now</td><td>11</td></tr><tr><td>Cry Baby Cry</td><td>11</td></tr><tr><td>Got To Get You Into My Life</td><td>11</td></tr><tr><td>I Want To Tell You</td><td>11</td></tr><tr><td>I Want You (She&#8217;s So Heavy)</td><td>11</td></tr><tr><td>I&#8217;m Looking Through You</td><td>11</td></tr><tr><td>It&#8217;s All Too Much</td><td>11</td></tr><tr><td>Lady Madonna</td><td>11</td></tr><tr><td>Love You To</td><td>11</td></tr><tr><td>Lucy In The Sky With Diamonds</td><td>11</td></tr><tr><td>Mean Mr Mustard</td><td>11</td></tr><tr><td>Rocky Raccoon</td><td>11</td></tr><tr><td>With A Little Help From My Friends</td><td>11</td></tr><tr><td>You Like Me Too Much</td><td>11</td></tr><tr><td>You Never Give Me Your Money</td><td>11</td></tr><tr><td>You&#8217;ve Got To Hide Your Love Away</td><td>11</td></tr><tr><td>A Hard Day&#8217;s Night</td><td>10</td></tr><tr><td>And Your Bird Can Sing</td><td>10</td></tr><tr><td>Back In The USSR</td><td>10</td></tr><tr><td>Birthday</td><td>10</td></tr><tr><td>Dizzy Miss Lizzy</td><td>10</td></tr><tr><td>Doctor Robert</td><td>10</td></tr><tr><td>Don&#8217;t Bother Me</td><td>10</td></tr><tr><td>Every Little Thing</td><td>10</td></tr><tr><td>Everybody&#8217;s Got Something To Hide Except Me And My Monkey</td><td>10</td></tr><tr><td>Flying</td><td>10</td></tr><tr><td>For No One</td><td>10</td></tr><tr><td>Honey Pie</td><td>10</td></tr><tr><td>I Don&#8217;t Want To Spoil The Party</td><td>10</td></tr><tr><td>I Need You</td><td>10</td></tr><tr><td>I Wanna Be Your Man</td><td>10</td></tr><tr><td>I&#8217;ll Get You</td><td>10</td></tr><tr><td>I&#8217;m A Loser</td><td>10</td></tr><tr><td>I&#8217;m Down</td><td>10</td></tr><tr><td>I&#8217;m So Tired</td><td>10</td></tr><tr><td>In My Life</td><td>10</td></tr><tr><td>It&#8217;s Only Love</td><td>10</td></tr><tr><td>Kansas City/Hey-Hey-Hey-Hey!</td><td>10</td></tr><tr><td>Magical Mystery Tour</td><td>10</td></tr><tr><td>Mr Moonlight</td><td>10</td></tr><tr><td>No Reply</td><td>10</td></tr><tr><td>Norwegian Wood (This Bird Has Flown)</td><td>10</td></tr><tr><td>Only A Northern Song</td><td>10</td></tr><tr><td>Run For Your Life</td><td>10</td></tr><tr><td>Sgt Pepper&#8217;s Lonely Hearts Club Band (Reprise)</td><td>10</td></tr><tr><td>She Said She Said</td><td>10</td></tr><tr><td>She&#8217;s Leaving Home</td><td>10</td></tr><tr><td>Tell Me What You See</td><td>10</td></tr><tr><td>That Means A Lot</td><td>10</td></tr><tr><td>The Ballad Of John And Yoko</td><td>10</td></tr><tr><td>The Continuing Story Of Bungalow Bill</td><td>10</td></tr><tr><td>The Inner Light</td><td>10</td></tr><tr><td>The Word</td><td>10</td></tr><tr><td>Think For Yourself</td><td>10</td></tr><tr><td>Ticket To Ride</td><td>10</td></tr><tr><td>When I&#8217;m Sixty-Four</td><td>10</td></tr><tr><td>You Can&#8217;t Do That</td><td>10</td></tr><tr><td>You Won&#8217;t See Me</td><td>10</td></tr><tr><td>You&#8217;re Going To Lose That Girl</td><td>10</td></tr><tr><td>Your Mother Should Know</td><td>10</td></tr><tr><td>Act Naturally</td><td>9</td></tr><tr><td>Another Girl</td><td>9</td></tr><tr><td>Any Time At All</td><td>9</td></tr><tr><td>Baby It&#8217;s You</td><td>9</td></tr><tr><td>Bad Boy</td><td>9</td></tr><tr><td>Blue Jay Way</td><td>9</td></tr><tr><td>Can&#8217;t Buy Me Love</td><td>9</td></tr><tr><td>Christmas Time (Is Here Again)</td><td>9</td></tr><tr><td>Devil In Her Heart</td><td>9</td></tr><tr><td>Dig It</td><td>9</td></tr><tr><td>Do You Want To Know A Secret</td><td>9</td></tr><tr><td>Don&#8217;t Let Me Down</td><td>9</td></tr><tr><td>Fixing A Hole</td><td>9</td></tr><tr><td>From Me To You</td><td>9</td></tr><tr><td>Get Back</td><td>9</td></tr><tr><td>Girl</td><td>9</td></tr><tr><td>Help!</td><td>9</td></tr><tr><td>Helter Skelter</td><td>9</td></tr><tr><td>Here, There And Everywhere</td><td>9</td></tr><tr><td>Hold Me Tight</td><td>9</td></tr><tr><td>I Saw Her Standing There</td><td>9</td></tr><tr><td>I&#8217;ll Follow The Sun</td><td>9</td></tr><tr><td>If I Needed Someone</td><td>9</td></tr><tr><td>Little Child</td><td>9</td></tr><tr><td>Long, Long, Long</td><td>9</td></tr><tr><td>Lovely Rita</td><td>9</td></tr><tr><td>Michelle</td><td>9</td></tr><tr><td>Money (That&#8217;s What I Want)</td><td>9</td></tr><tr><td>Mother Nature&#8217;s Son</td><td>9</td></tr><tr><td>Old Brown Shoe</td><td>9</td></tr><tr><td>PS I Love You</td><td>9</td></tr><tr><td>Paperback Writer</td><td>9</td></tr><tr><td>Please Please Me</td><td>9</td></tr><tr><td>Revolution</td><td>9</td></tr><tr><td>She&#8217;s A Woman</td><td>9</td></tr><tr><td>Taxman</td><td>9</td></tr><tr><td>Tell Me Why</td><td>9</td></tr><tr><td>The Night Before</td><td>9</td></tr><tr><td>There&#8217;s A Place</td><td>9</td></tr><tr><td>Things We Said Today</td><td>9</td></tr><tr><td>Wait</td><td>9</td></tr><tr><td>What You&#8217;re Doing</td><td>9</td></tr><tr><td>Why Don&#8217;t We Do It In The Road?</td><td>9</td></tr><tr><td>Yellow Submarine</td><td>9</td></tr><tr><td>Yes It Is</td><td>9</td></tr><tr><td>You Really Got A Hold On Me</td><td>9</td></tr><tr><td>A Shot Of Rhythm And Blues</td><td>8</td></tr><tr><td>A Taste Of Honey</td><td>8</td></tr><tr><td>Ain&#8217;t She Sweet</td><td>8</td></tr><tr><td>All I&#8217;ve Got To Do</td><td>8</td></tr><tr><td>All My Loving</td><td>8</td></tr><tr><td>And I Love Her</td><td>8</td></tr><tr><td>Anna (Go To Him)</td><td>8</td></tr><tr><td>Ask Me Why</td><td>8</td></tr><tr><td>Boys</td><td>8</td></tr><tr><td>Chains</td><td>8</td></tr><tr><td>Clarabella</td><td>8</td></tr><tr><td>Crying, Waiting, Hoping</td><td>8</td></tr><tr><td>Day Tripper</td><td>8</td></tr><tr><td>Dig A Pony</td><td>8</td></tr><tr><td>Don&#8217;t Pass Me By</td><td>8</td></tr><tr><td>Eight Days A Week</td><td>8</td></tr><tr><td>Everybody&#8217;s Trying To Be My Baby</td><td>8</td></tr><tr><td>Good Day Sunshine</td><td>8</td></tr><tr><td>Happiness Is A Warm Gun</td><td>8</td></tr><tr><td>Hello Little Girl</td><td>8</td></tr><tr><td>Hey Bulldog</td><td>8</td></tr><tr><td>Honey Don&#8217;t</td><td>8</td></tr><tr><td>How Do You Do It</td><td>8</td></tr><tr><td>I Call Your Name</td><td>8</td></tr><tr><td>I Got To Find My Baby</td><td>8</td></tr><tr><td>I Just Don&#8217;t Understand</td><td>8</td></tr><tr><td>I Should Have Known Better</td><td>8</td></tr><tr><td>I Want To Hold Your Hand</td><td>8</td></tr><tr><td>I Will</td><td>8</td></tr><tr><td>I&#8217;ll Be Back</td><td>8</td></tr><tr><td>I&#8217;ll Be On My Way</td><td>8</td></tr><tr><td>I&#8217;ll Cry Instead</td><td>8</td></tr><tr><td>I&#8217;m Only Sleeping</td><td>8</td></tr><tr><td>I&#8217;ve Got A Feeling</td><td>8</td></tr><tr><td>It Won&#8217;t Be Long</td><td>8</td></tr><tr><td>Keep Your Hands Off My Baby</td><td>8</td></tr><tr><td>Komm, Gib Mir Deine Hand</td><td>8</td></tr><tr><td>Leave My Kitten Alone</td><td>8</td></tr><tr><td>Long Tall Sally</td><td>8</td></tr><tr><td>Love Me Do</td><td>8</td></tr><tr><td>Matchbox</td><td>8</td></tr><tr><td>Misery</td><td>8</td></tr><tr><td>My Bonnie</td><td>8</td></tr><tr><td>Nowhere Man</td><td>8</td></tr><tr><td>Oh! Darling</td><td>8</td></tr><tr><td>One After 909</td><td>8</td></tr><tr><td>Please Mister Postman</td><td>8</td></tr><tr><td>Rain</td><td>8</td></tr><tr><td>Rip It Up/Shake, Rattle And Roll/Blue Suede Shoes</td><td>8</td></tr><tr><td>Rock And Roll Music</td><td>8</td></tr><tr><td>Roll Over Beethoven</td><td>8</td></tr><tr><td>Searchin&#8217;</td><td>8</td></tr><tr><td>Sgt Pepper&#8217;s Lonely Hearts Club Band</td><td>8</td></tr><tr><td>Slow Down</td><td>8</td></tr><tr><td>So How Come (No One Loves Me)</td><td>8</td></tr><tr><td>Soldier Of Love</td><td>8</td></tr><tr><td>Sure To Fall (In Love With You)</td><td>8</td></tr><tr><td>Thank You Girl</td><td>8</td></tr><tr><td>The Sheik Of Araby</td><td>8</td></tr><tr><td>Three Cool Cats</td><td>8</td></tr><tr><td>To Know Her Is To Love Her</td><td>8</td></tr><tr><td>Twist And Shout</td><td>8</td></tr><tr><td>We Can Work It Out</td><td>8</td></tr><tr><td>What Goes On</td><td>8</td></tr><tr><td>When I Get Home</td><td>8</td></tr><tr><td>Words Of Love</td><td>8</td></tr><tr><td>Young Blood</td><td>8</td></tr><tr><td>Baby&#8217;s In Black</td><td>7</td></tr><tr><td>Beautiful Dreamer</td><td>7</td></tr><tr><td>Because</td><td>7</td></tr><tr><td>Besame Mucho</td><td>7</td></tr><tr><td>Carol</td><td>7</td></tr><tr><td>Come And Get It</td><td>7</td></tr><tr><td>Don&#8217;t Ever Change</td><td>7</td></tr><tr><td>Eleanor Rigby</td><td>7</td></tr><tr><td>For You Blue</td><td>7</td></tr><tr><td>Glad All Over</td><td>7</td></tr><tr><td>I Forgot To Remember To Forget</td><td>7</td></tr><tr><td>I Got A Woman</td><td>7</td></tr><tr><td>I&#8217;m Gonna Sit Right Down And Cry (Over You)</td><td>7</td></tr><tr><td>I&#8217;m Happy Just To Dance With You</td><td>7</td></tr><tr><td>I&#8217;m Talking About You</td><td>7</td></tr><tr><td>I&#8217;ve Just Seen A Face</td><td>7</td></tr><tr><td>If I Fell</td><td>7</td></tr><tr><td>If You&#8217;ve Got Trouble</td><td>7</td></tr><tr><td>In Spite Of All The Danger</td><td>7</td></tr><tr><td>Johnny B Goode</td><td>7</td></tr><tr><td>Lend Me Your Comb</td><td>7</td></tr><tr><td>Like Dreamers Do</td><td>7</td></tr><tr><td>Lonesome Tears In My Eyes</td><td>7</td></tr><tr><td>Lucille</td><td>7</td></tr><tr><td>Memphis, Tennessee</td><td>7</td></tr><tr><td>Not A Second Time</td><td>7</td></tr><tr><td>Not Guilty</td><td>7</td></tr><tr><td>Nothin&#8217; Shakin&#8217;</td><td>7</td></tr><tr><td>Ooh! My Soul</td><td>7</td></tr><tr><td>She Loves You</td><td>7</td></tr><tr><td>Shout</td><td>7</td></tr><tr><td>Sie Liebt Dich</td><td>7</td></tr><tr><td>Some Other Guy</td><td>7</td></tr><tr><td>Sweet Little Sixteen</td><td>7</td></tr><tr><td>Take Out Some Insurance On Me, Baby</td><td>7</td></tr><tr><td>That&#8217;ll Be The Day</td><td>7</td></tr><tr><td>That&#8217;s All Right (Mama)</td><td>7</td></tr><tr><td>The Hippy Hippy Shake</td><td>7</td></tr><tr><td>The Honeymoon Song</td><td>7</td></tr><tr><td>The Saints</td><td>7</td></tr><tr><td>This Boy</td><td>7</td></tr><tr><td>Till There Was You</td><td>7</td></tr><tr><td>Too Much Monkey Business</td><td>7</td></tr><tr><td>Two Of Us</td><td>7</td></tr><tr><td>What&#8217;s The New Mary Jane</td><td>7</td></tr><tr><td>Why</td><td>7</td></tr><tr><td>Yer Blues</td><td>7</td></tr><tr><td>Yesterday</td><td>7</td></tr><tr><td>12-Bar Original</td><td>6</td></tr><tr><td>Cry For A Shadow</td><td>6</td></tr><tr><td>I Feel Fine</td><td>6</td></tr><tr><td>Los Paranoias</td><td>6</td></tr><tr><td>Maggie Mae</td><td>6</td></tr><tr><td>Mailman, Bring Me No More Blues</td><td>6</td></tr><tr><td>Nobody&#8217;s Child</td><td>6</td></tr><tr><td>Step Inside Love</td><td>6</td></tr><tr><td>Teddy Boy</td><td>6</td></tr><tr><td>You Know What To Do</td><td>6</td></tr><tr><td>Hallelujah, I Love Her So</td><td>5</td></tr><tr><td>Moonlight Bay</td><td>5</td></tr><tr><td>Wild Honey Pie</td><td>5</td></tr><tr><td>You&#8217;ll Be Mine</td><td>5</td></tr><tr><td>All Things Must Pass</td><td>4</td></tr><tr><td>Blackbird</td><td>4</td></tr><tr><td>Cayenne</td><td>4</td></tr><tr><td>Her Majesty</td><td>4</td></tr><tr><td>Julia</td><td>4</td></tr><tr><td>Junk</td><td>4</td></tr><tr><td>A Beginning</td><td>3</td></tr><tr><td>March Of The Meanies</td><td>2</td></tr><tr><td>Pepperland</td><td>2</td></tr><tr><td>Pepperland Laid Waste</td><td>2</td></tr><tr><td>Revolution 9</td><td>2</td></tr><tr><td>Sea Of Holes</td><td>2</td></tr><tr><td>Sea Of Monsters</td><td>2</td></tr><tr><td>Sea Of Time</td><td>2</td></tr><tr><td>Yellow Submarine In Pepperland</td><td>2</td></tr></tbody></table>"
      ],
      "text/plain": [
       "<IPython.core.display.HTML object>"
      ]
     },
     "execution_count": 36,
     "metadata": {},
     "output_type": "execute_result"
    }
   ],
   "source": [
    "%%sparql http://fuseki.gsi.upm.es/sitc/\n",
    "\n",
    "PREFIX s: <http://learningsparql.com/ns/schema/>\n",
    "PREFIX rdfs: <http://www.w3.org/2000/01/rdf-schema#>\n",
    "\n",
    "# YOUR ANSWER HERE\n",
    "SELECT ?song (COUNT (DISTINCT ?instrument) as ?number)\n",
    "WHERE {\n",
    "    [] a           s:Song ;\n",
    "       rdfs:label  ?song ;\n",
    "       ?instrument ?musician .\n",
    "}\n",
    "GROUP BY ?song\n",
    "# YOUR ANSWER HERE\n",
    "ORDER BY DESC(?number)"
   ]
  },
  {
   "cell_type": "code",
   "execution_count": 37,
   "metadata": {
    "deletable": false,
    "editable": false,
    "nbgrader": {
     "cell_type": "code",
     "checksum": "301aa479241fa02534ee047cf7577eee",
     "grade": true,
     "grade_id": "cell-ddeec32b8ac3d894",
     "locked": true,
     "points": 1,
     "schema_version": 3,
     "solution": false
    }
   },
   "outputs": [],
   "source": [
    "s = solution()\n",
    "assert s['columns']['number'][0] == '27'"
   ]
  },
  {
   "cell_type": "markdown",
   "metadata": {},
   "source": [
    "### Who is the vocalist in every song? (using OPTIONAL)"
   ]
  },
  {
   "cell_type": "markdown",
   "metadata": {},
   "source": [
    "In this exercise, we will get a list of songs and their vocalists.\n",
    "\n",
    "We coul start with this query:"
   ]
  },
  {
   "cell_type": "code",
   "execution_count": 38,
   "metadata": {},
   "outputs": [
    {
     "data": {
      "text/html": [
       "<table><thead><tr><th>song</th><th>vocalist</th><tr></thead><tbody><tr><td>http://learningsparql.com/ns/title/BesameMucho</td><td>http://learningsparql.com/ns/musician/PaulMcCartney</td></tr><tr><td>http://learningsparql.com/ns/title/LendMeYourComb</td><td>http://learningsparql.com/ns/musician/PaulMcCartney</td></tr><tr><td>http://learningsparql.com/ns/title/LendMeYourComb</td><td>http://learningsparql.com/ns/musician/GeorgeHarrison</td></tr><tr><td>http://learningsparql.com/ns/title/LendMeYourComb</td><td>http://learningsparql.com/ns/musician/JohnLennon</td></tr><tr><td>http://learningsparql.com/ns/title/TheSaints</td><td>http://learningsparql.com/ns/musician/TonySheridan</td></tr><tr><td>http://learningsparql.com/ns/title/Maxwell%26%238217%3BsSilverHammer</td><td>http://learningsparql.com/ns/musician/PaulMcCartney</td></tr><tr><td>http://learningsparql.com/ns/title/I%26%238217%3BmHappyJustToDanceWithYou</td><td>http://learningsparql.com/ns/musician/GeorgeHarrison</td></tr><tr><td>http://learningsparql.com/ns/title/LetItBe</td><td>http://learningsparql.com/ns/musician/PaulMcCartney</td></tr><tr><td>http://learningsparql.com/ns/title/Octopus%26%238217%3BsGarden</td><td>http://learningsparql.com/ns/musician/RingoStarr</td></tr><tr><td>http://learningsparql.com/ns/title/IGotAWoman</td><td>http://learningsparql.com/ns/musician/JohnLennon</td></tr><tr><td>http://learningsparql.com/ns/title/Ob-La-DiOb-La-Da</td><td>http://learningsparql.com/ns/musician/PaulMcCartney</td></tr><tr><td>http://learningsparql.com/ns/title/MemphisTennessee</td><td>http://learningsparql.com/ns/musician/JohnLennon</td></tr><tr><td>http://learningsparql.com/ns/title/OldBrownShoe</td><td>http://learningsparql.com/ns/musician/GeorgeHarrison</td></tr><tr><td>http://learningsparql.com/ns/title/GoodNight</td><td>http://learningsparql.com/ns/musician/RingoStarr</td></tr><tr><td>http://learningsparql.com/ns/title/ThingsWeSaidToday</td><td>http://learningsparql.com/ns/musician/PaulMcCartney</td></tr><tr><td>http://learningsparql.com/ns/title/HallelujahILoveHerSo</td><td>http://learningsparql.com/ns/musician/PaulMcCartney</td></tr><tr><td>http://learningsparql.com/ns/title/IWannaBeYourMan</td><td>http://learningsparql.com/ns/musician/RingoStarr</td></tr><tr><td>http://learningsparql.com/ns/title/YesItIs</td><td>http://learningsparql.com/ns/musician/JohnLennon</td></tr><tr><td>http://learningsparql.com/ns/title/Revolution1</td><td>http://learningsparql.com/ns/musician/JohnLennon</td></tr><tr><td>http://learningsparql.com/ns/title/DizzyMissLizzy</td><td>http://learningsparql.com/ns/musician/JohnLennon</td></tr><tr><td>http://learningsparql.com/ns/title/IGotToFindMyBaby</td><td>http://learningsparql.com/ns/musician/JohnLennon</td></tr><tr><td>http://learningsparql.com/ns/title/LosParanoias</td><td>http://learningsparql.com/ns/musician/PaulMcCartney</td></tr><tr><td>http://learningsparql.com/ns/title/LikeDreamersDo</td><td>http://learningsparql.com/ns/musician/PaulMcCartney</td></tr><tr><td>http://learningsparql.com/ns/title/Yesterday</td><td>http://learningsparql.com/ns/musician/PaulMcCartney</td></tr><tr><td>http://learningsparql.com/ns/title/NotASecondTime</td><td>http://learningsparql.com/ns/musician/JohnLennon</td></tr><tr><td>http://learningsparql.com/ns/title/I%26%238217%3BmDown</td><td>http://learningsparql.com/ns/musician/PaulMcCartney</td></tr><tr><td>http://learningsparql.com/ns/title/You%26%238217%3BveGotToHideYourLoveAway</td><td>http://learningsparql.com/ns/musician/JohnLennon</td></tr><tr><td>http://learningsparql.com/ns/title/Baby%26%238217%3BsInBlack</td><td>http://learningsparql.com/ns/musician/PaulMcCartney</td></tr><tr><td>http://learningsparql.com/ns/title/Baby%26%238217%3BsInBlack</td><td>http://learningsparql.com/ns/musician/JohnLennon</td></tr><tr><td>http://learningsparql.com/ns/title/PennyLane</td><td>http://learningsparql.com/ns/musician/PaulMcCartney</td></tr><tr><td>http://learningsparql.com/ns/title/MagicalMysteryTour</td><td>http://learningsparql.com/ns/musician/PaulMcCartney</td></tr><tr><td>http://learningsparql.com/ns/title/MagicalMysteryTour</td><td>http://learningsparql.com/ns/musician/GeorgeHarrison</td></tr><tr><td>http://learningsparql.com/ns/title/MagicalMysteryTour</td><td>http://learningsparql.com/ns/musician/JohnLennon</td></tr><tr><td>http://learningsparql.com/ns/title/IWantToHoldYourHand</td><td>http://learningsparql.com/ns/musician/PaulMcCartney</td></tr><tr><td>http://learningsparql.com/ns/title/IWantToHoldYourHand</td><td>http://learningsparql.com/ns/musician/JohnLennon</td></tr><tr><td>http://learningsparql.com/ns/title/NorwegianWood%28ThisBirdHasFlown%29</td><td>http://learningsparql.com/ns/musician/JohnLennon</td></tr><tr><td>http://learningsparql.com/ns/title/SunKing</td><td>http://learningsparql.com/ns/musician/JohnLennon</td></tr><tr><td>http://learningsparql.com/ns/title/Something</td><td>http://learningsparql.com/ns/musician/GeorgeHarrison</td></tr><tr><td>http://learningsparql.com/ns/title/HoneyDon%26%238217%3Bt</td><td>http://learningsparql.com/ns/musician/RingoStarr</td></tr><tr><td>http://learningsparql.com/ns/title/HelloGoodbye</td><td>http://learningsparql.com/ns/musician/PaulMcCartney</td></tr><tr><td>http://learningsparql.com/ns/title/YoungBlood</td><td>http://learningsparql.com/ns/musician/GeorgeHarrison</td></tr><tr><td>http://learningsparql.com/ns/title/YoungBlood</td><td>http://learningsparql.com/ns/musician/RingoStarr</td></tr><tr><td>http://learningsparql.com/ns/title/YouKnowWhatToDo</td><td>http://learningsparql.com/ns/musician/GeorgeHarrison</td></tr><tr><td>http://learningsparql.com/ns/title/ForYouBlue</td><td>http://learningsparql.com/ns/musician/GeorgeHarrison</td></tr><tr><td>http://learningsparql.com/ns/title/OohMySoul</td><td>http://learningsparql.com/ns/musician/PaulMcCartney</td></tr><tr><td>http://learningsparql.com/ns/title/HerMajesty</td><td>http://learningsparql.com/ns/musician/PaulMcCartney</td></tr><tr><td>http://learningsparql.com/ns/title/RockAndRollMusic</td><td>http://learningsparql.com/ns/musician/JohnLennon</td></tr><tr><td>http://learningsparql.com/ns/title/Why</td><td>http://learningsparql.com/ns/musician/TonySheridan</td></tr><tr><td>http://learningsparql.com/ns/title/WhyDon%26%238217%3BtWeDoItInTheRoad%3F</td><td>http://learningsparql.com/ns/musician/PaulMcCartney</td></tr><tr><td>http://learningsparql.com/ns/title/IFeelFine</td><td>http://learningsparql.com/ns/musician/PaulMcCartney</td></tr><tr><td>http://learningsparql.com/ns/title/IFeelFine</td><td>http://learningsparql.com/ns/musician/GeorgeHarrison</td></tr><tr><td>http://learningsparql.com/ns/title/IFeelFine</td><td>http://learningsparql.com/ns/musician/JohnLennon</td></tr><tr><td>http://learningsparql.com/ns/title/NotGuilty</td><td>http://learningsparql.com/ns/musician/GeorgeHarrison</td></tr><tr><td>http://learningsparql.com/ns/title/GlassOnion</td><td>http://learningsparql.com/ns/musician/JohnLennon</td></tr><tr><td>http://learningsparql.com/ns/title/EleanorRigby</td><td>http://learningsparql.com/ns/musician/PaulMcCartney</td></tr><tr><td>http://learningsparql.com/ns/title/Girl</td><td>http://learningsparql.com/ns/musician/JohnLennon</td></tr><tr><td>http://learningsparql.com/ns/title/Michelle</td><td>http://learningsparql.com/ns/musician/PaulMcCartney</td></tr><tr><td>http://learningsparql.com/ns/title/ThankYouGirl</td><td>http://learningsparql.com/ns/musician/PaulMcCartney</td></tr><tr><td>http://learningsparql.com/ns/title/ThankYouGirl</td><td>http://learningsparql.com/ns/musician/JohnLennon</td></tr><tr><td>http://learningsparql.com/ns/title/OhDarling</td><td>http://learningsparql.com/ns/musician/PaulMcCartney</td></tr><tr><td>http://learningsparql.com/ns/title/TheLongAndWindingRoad</td><td>http://learningsparql.com/ns/musician/PaulMcCartney</td></tr><tr><td>http://learningsparql.com/ns/title/You%26%238217%3BllBeMine</td><td>http://learningsparql.com/ns/musician/PaulMcCartney</td></tr><tr><td>http://learningsparql.com/ns/title/You%26%238217%3BllBeMine</td><td>http://learningsparql.com/ns/musician/JohnLennon</td></tr><tr><td>http://learningsparql.com/ns/title/She%26%238217%3BsAWoman</td><td>http://learningsparql.com/ns/musician/PaulMcCartney</td></tr><tr><td>http://learningsparql.com/ns/title/AndILoveHer</td><td>http://learningsparql.com/ns/musician/PaulMcCartney</td></tr><tr><td>http://learningsparql.com/ns/title/Junk</td><td>http://learningsparql.com/ns/musician/PaulMcCartney</td></tr><tr><td>http://learningsparql.com/ns/title/YourMotherShouldKnow</td><td>http://learningsparql.com/ns/musician/PaulMcCartney</td></tr><tr><td>http://learningsparql.com/ns/title/GladAllOver</td><td>http://learningsparql.com/ns/musician/PaulMcCartney</td></tr><tr><td>http://learningsparql.com/ns/title/GladAllOver</td><td>http://learningsparql.com/ns/musician/GeorgeHarrison</td></tr><tr><td>http://learningsparql.com/ns/title/KommGibMirDeineHand</td><td>http://learningsparql.com/ns/musician/PaulMcCartney</td></tr><tr><td>http://learningsparql.com/ns/title/KommGibMirDeineHand</td><td>http://learningsparql.com/ns/musician/GeorgeHarrison</td></tr><tr><td>http://learningsparql.com/ns/title/KommGibMirDeineHand</td><td>http://learningsparql.com/ns/musician/JohnLennon</td></tr><tr><td>http://learningsparql.com/ns/title/Don%26%238217%3BtPassMeBy</td><td>http://learningsparql.com/ns/musician/RingoStarr</td></tr><tr><td>http://learningsparql.com/ns/title/WeCanWorkItOut</td><td>http://learningsparql.com/ns/musician/PaulMcCartney</td></tr><tr><td>http://learningsparql.com/ns/title/WeCanWorkItOut</td><td>http://learningsparql.com/ns/musician/JohnLennon</td></tr><tr><td>http://learningsparql.com/ns/title/MotherNature%26%238217%3BsSon</td><td>http://learningsparql.com/ns/musician/PaulMcCartney</td></tr><tr><td>http://learningsparql.com/ns/title/TakeOutSomeInsuranceOnMeBaby</td><td>http://learningsparql.com/ns/musician/TonySheridan</td></tr><tr><td>http://learningsparql.com/ns/title/WildHoneyPie</td><td>http://learningsparql.com/ns/musician/PaulMcCartney</td></tr><tr><td>http://learningsparql.com/ns/title/EveryLittleThing</td><td>http://learningsparql.com/ns/musician/PaulMcCartney</td></tr><tr><td>http://learningsparql.com/ns/title/EveryLittleThing</td><td>http://learningsparql.com/ns/musician/JohnLennon</td></tr><tr><td>http://learningsparql.com/ns/title/GettingBetter</td><td>http://learningsparql.com/ns/musician/PaulMcCartney</td></tr><tr><td>http://learningsparql.com/ns/title/TheFoolOnTheHill</td><td>http://learningsparql.com/ns/musician/PaulMcCartney</td></tr><tr><td>http://learningsparql.com/ns/title/LadyMadonna</td><td>http://learningsparql.com/ns/musician/PaulMcCartney</td></tr><tr><td>http://learningsparql.com/ns/title/AllI%26%238217%3BveGotToDo</td><td>http://learningsparql.com/ns/musician/JohnLennon</td></tr><tr><td>http://learningsparql.com/ns/title/Wait</td><td>http://learningsparql.com/ns/musician/PaulMcCartney</td></tr><tr><td>http://learningsparql.com/ns/title/Wait</td><td>http://learningsparql.com/ns/musician/JohnLennon</td></tr><tr><td>http://learningsparql.com/ns/title/HelloLittleGirl</td><td>http://learningsparql.com/ns/musician/JohnLennon</td></tr><tr><td>http://learningsparql.com/ns/title/LongLongLong</td><td>http://learningsparql.com/ns/musician/GeorgeHarrison</td></tr><tr><td>http://learningsparql.com/ns/title/MoonlightBay</td><td>http://learningsparql.com/ns/musician/PaulMcCartney</td></tr><tr><td>http://learningsparql.com/ns/title/MoonlightBay</td><td>http://learningsparql.com/ns/musician/GeorgeHarrison</td></tr><tr><td>http://learningsparql.com/ns/title/MoonlightBay</td><td>http://learningsparql.com/ns/musician/JohnLennon</td></tr><tr><td>http://learningsparql.com/ns/title/MoonlightBay</td><td>http://learningsparql.com/ns/musician/EricMorecambe</td></tr><tr><td>http://learningsparql.com/ns/title/MoonlightBay</td><td>http://learningsparql.com/ns/musician/ErnieWise</td></tr><tr><td>http://learningsparql.com/ns/title/IWill</td><td>http://learningsparql.com/ns/musician/PaulMcCartney</td></tr><tr><td>http://learningsparql.com/ns/title/ChristmasTime%28IsHereAgain%29</td><td>http://learningsparql.com/ns/musician/PaulMcCartney</td></tr><tr><td>http://learningsparql.com/ns/title/ChristmasTime%28IsHereAgain%29</td><td>http://learningsparql.com/ns/musician/GeorgeHarrison</td></tr><tr><td>http://learningsparql.com/ns/title/ChristmasTime%28IsHereAgain%29</td><td>http://learningsparql.com/ns/musician/JohnLennon</td></tr><tr><td>http://learningsparql.com/ns/title/ChristmasTime%28IsHereAgain%29</td><td>http://learningsparql.com/ns/musician/RingoStarr</td></tr><tr><td>http://learningsparql.com/ns/title/ChristmasTime%28IsHereAgain%29</td><td>http://learningsparql.com/ns/musician/GeorgeMartin</td></tr><tr><td>http://learningsparql.com/ns/title/ChristmasTime%28IsHereAgain%29</td><td>http://learningsparql.com/ns/musician/VictorSpinetti</td></tr></tbody></table>"
      ],
      "text/plain": [
       "<IPython.core.display.HTML object>"
      ]
     },
     "execution_count": 38,
     "metadata": {},
     "output_type": "execute_result"
    }
   ],
   "source": [
    "%%sparql http://fuseki.gsi.upm.es/sitc/\n",
    "\n",
    "PREFIX s: <http://learningsparql.com/ns/schema/>\n",
    "PREFIX i: <http://learningsparql.com/ns/instrument/>\n",
    "PREFIX m: <http://learningsparql.com/ns/musician/>\n",
    "PREFIX rdfs: <http://www.w3.org/2000/01/rdf-schema#>\n",
    "\n",
    "SELECT ?song ?vocalist\n",
    "WHERE {\n",
    "    ?song a s:Song .\n",
    "    ?song i:vocals ?vocalist\n",
    "}\n",
    "LIMIT 100"
   ]
  },
  {
   "cell_type": "markdown",
   "metadata": {},
   "source": [
    "However, there are some songs that do not have a vocalist (at least, in the dataset).\n",
    "Those songs will not appear in the list above, because we they do not match part of the `WHERE` clause.\n",
    "\n",
    "In these cases, we can specify optional values in a query using the `OPTIONAL` keyword.\n",
    "When a set of clauses are inside an OPTIONAL group, the SPARQL endpoint will try to use them in the query.\n",
    "If there are no results for that part of the query, the variables it specifies will not be bound (i.e. they will be empty).\n",
    "\n",
    "To exemplify this, we can use a property that **does not exist in the dataset**:"
   ]
  },
  {
   "cell_type": "code",
   "execution_count": 39,
   "metadata": {},
   "outputs": [
    {
     "data": {
      "text/html": [
       "<table><thead><tr><th>song</th><th>musician</th><tr></thead><tbody><tr><td>http://learningsparql.com/ns/title/BesameMucho</td><td></td></tr><tr><td>http://learningsparql.com/ns/title/LendMeYourComb</td><td></td></tr><tr><td>http://learningsparql.com/ns/title/TheSaints</td><td></td></tr><tr><td>http://learningsparql.com/ns/title/Maxwell%26%238217%3BsSilverHammer</td><td></td></tr><tr><td>http://learningsparql.com/ns/title/I%26%238217%3BmHappyJustToDanceWithYou</td><td></td></tr><tr><td>http://learningsparql.com/ns/title/LetItBe</td><td></td></tr><tr><td>http://learningsparql.com/ns/title/Octopus%26%238217%3BsGarden</td><td></td></tr><tr><td>http://learningsparql.com/ns/title/IGotAWoman</td><td></td></tr><tr><td>http://learningsparql.com/ns/title/TicketToRide</td><td></td></tr><tr><td>http://learningsparql.com/ns/title/Ob-La-DiOb-La-Da</td><td></td></tr><tr><td>http://learningsparql.com/ns/title/MemphisTennessee</td><td></td></tr><tr><td>http://learningsparql.com/ns/title/OldBrownShoe</td><td></td></tr><tr><td>http://learningsparql.com/ns/title/GoodNight</td><td></td></tr><tr><td>http://learningsparql.com/ns/title/ThingsWeSaidToday</td><td></td></tr><tr><td>http://learningsparql.com/ns/title/HallelujahILoveHerSo</td><td></td></tr><tr><td>http://learningsparql.com/ns/title/IWannaBeYourMan</td><td></td></tr><tr><td>http://learningsparql.com/ns/title/YesItIs</td><td></td></tr><tr><td>http://learningsparql.com/ns/title/Revolution1</td><td></td></tr><tr><td>http://learningsparql.com/ns/title/DizzyMissLizzy</td><td></td></tr><tr><td>http://learningsparql.com/ns/title/IGotToFindMyBaby</td><td></td></tr><tr><td>http://learningsparql.com/ns/title/LosParanoias</td><td></td></tr><tr><td>http://learningsparql.com/ns/title/LikeDreamersDo</td><td></td></tr><tr><td>http://learningsparql.com/ns/title/Yesterday</td><td></td></tr><tr><td>http://learningsparql.com/ns/title/NotASecondTime</td><td></td></tr><tr><td>http://learningsparql.com/ns/title/I%26%238217%3BmDown</td><td></td></tr><tr><td>http://learningsparql.com/ns/title/You%26%238217%3BveGotToHideYourLoveAway</td><td></td></tr><tr><td>http://learningsparql.com/ns/title/Baby%26%238217%3BsInBlack</td><td></td></tr><tr><td>http://learningsparql.com/ns/title/I%26%238217%3BllBeBack</td><td></td></tr><tr><td>http://learningsparql.com/ns/title/PennyLane</td><td></td></tr><tr><td>http://learningsparql.com/ns/title/MagicalMysteryTour</td><td></td></tr><tr><td>http://learningsparql.com/ns/title/IWantToHoldYourHand</td><td></td></tr><tr><td>http://learningsparql.com/ns/title/WhenIGetHome</td><td></td></tr><tr><td>http://learningsparql.com/ns/title/NorwegianWood%28ThisBirdHasFlown%29</td><td></td></tr><tr><td>http://learningsparql.com/ns/title/SunKing</td><td></td></tr><tr><td>http://learningsparql.com/ns/title/Something</td><td></td></tr><tr><td>http://learningsparql.com/ns/title/HoneyDon%26%238217%3Bt</td><td></td></tr><tr><td>http://learningsparql.com/ns/title/HelloGoodbye</td><td></td></tr><tr><td>http://learningsparql.com/ns/title/YoungBlood</td><td></td></tr><tr><td>http://learningsparql.com/ns/title/YouKnowWhatToDo</td><td></td></tr><tr><td>http://learningsparql.com/ns/title/CryForAShadow</td><td></td></tr><tr><td>http://learningsparql.com/ns/title/ForYouBlue</td><td></td></tr><tr><td>http://learningsparql.com/ns/title/OohMySoul</td><td></td></tr><tr><td>http://learningsparql.com/ns/title/HerMajesty</td><td></td></tr><tr><td>http://learningsparql.com/ns/title/RockAndRollMusic</td><td></td></tr><tr><td>http://learningsparql.com/ns/title/SeaOfTime</td><td></td></tr><tr><td>http://learningsparql.com/ns/title/KansasCityHey-Hey-Hey-Hey</td><td></td></tr><tr><td>http://learningsparql.com/ns/title/PleasePleaseMe</td><td></td></tr><tr><td>http://learningsparql.com/ns/title/Why</td><td></td></tr><tr><td>http://learningsparql.com/ns/title/WhyDon%26%238217%3BtWeDoItInTheRoad%3F</td><td></td></tr><tr><td>http://learningsparql.com/ns/title/IFeelFine</td><td></td></tr><tr><td>http://learningsparql.com/ns/title/NotGuilty</td><td></td></tr><tr><td>http://learningsparql.com/ns/title/GlassOnion</td><td></td></tr><tr><td>http://learningsparql.com/ns/title/EleanorRigby</td><td></td></tr><tr><td>http://learningsparql.com/ns/title/Girl</td><td></td></tr><tr><td>http://learningsparql.com/ns/title/Michelle</td><td></td></tr><tr><td>http://learningsparql.com/ns/title/ThankYouGirl</td><td></td></tr><tr><td>http://learningsparql.com/ns/title/OhDarling</td><td></td></tr><tr><td>http://learningsparql.com/ns/title/TheLongAndWindingRoad</td><td></td></tr><tr><td>http://learningsparql.com/ns/title/You%26%238217%3BllBeMine</td><td></td></tr><tr><td>http://learningsparql.com/ns/title/She%26%238217%3BsAWoman</td><td></td></tr><tr><td>http://learningsparql.com/ns/title/AndILoveHer</td><td></td></tr><tr><td>http://learningsparql.com/ns/title/Junk</td><td></td></tr><tr><td>http://learningsparql.com/ns/title/YourMotherShouldKnow</td><td></td></tr><tr><td>http://learningsparql.com/ns/title/GladAllOver</td><td></td></tr><tr><td>http://learningsparql.com/ns/title/MarchOfTheMeanies</td><td></td></tr><tr><td>http://learningsparql.com/ns/title/SeaOfHoles</td><td></td></tr><tr><td>http://learningsparql.com/ns/title/KommGibMirDeineHand</td><td></td></tr><tr><td>http://learningsparql.com/ns/title/Don%26%238217%3BtPassMeBy</td><td></td></tr><tr><td>http://learningsparql.com/ns/title/WeCanWorkItOut</td><td></td></tr><tr><td>http://learningsparql.com/ns/title/MotherNature%26%238217%3BsSon</td><td></td></tr><tr><td>http://learningsparql.com/ns/title/TakeOutSomeInsuranceOnMeBaby</td><td></td></tr><tr><td>http://learningsparql.com/ns/title/WildHoneyPie</td><td></td></tr><tr><td>http://learningsparql.com/ns/title/YouReallyGotAHoldOnMe</td><td></td></tr><tr><td>http://learningsparql.com/ns/title/EveryLittleThing</td><td></td></tr><tr><td>http://learningsparql.com/ns/title/YellowSubmarineInPepperland</td><td></td></tr><tr><td>http://learningsparql.com/ns/title/GettingBetter</td><td></td></tr><tr><td>http://learningsparql.com/ns/title/TheFoolOnTheHill</td><td></td></tr><tr><td>http://learningsparql.com/ns/title/LadyMadonna</td><td></td></tr><tr><td>http://learningsparql.com/ns/title/AllI%26%238217%3BveGotToDo</td><td></td></tr><tr><td>http://learningsparql.com/ns/title/Wait</td><td></td></tr><tr><td>http://learningsparql.com/ns/title/HelloLittleGirl</td><td></td></tr><tr><td>http://learningsparql.com/ns/title/LongLongLong</td><td></td></tr><tr><td>http://learningsparql.com/ns/title/MoonlightBay</td><td></td></tr><tr><td>http://learningsparql.com/ns/title/IWill</td><td></td></tr><tr><td>http://learningsparql.com/ns/title/ChristmasTime%28IsHereAgain%29</td><td></td></tr><tr><td>http://learningsparql.com/ns/title/WhatYou%26%238217%3BreDoing</td><td></td></tr><tr><td>http://learningsparql.com/ns/title/IMeMine</td><td></td></tr><tr><td>http://learningsparql.com/ns/title/Shout</td><td></td></tr><tr><td>http://learningsparql.com/ns/title/RipItUpShakeRattleAndRollBlueSuedeShoes</td><td></td></tr><tr><td>http://learningsparql.com/ns/title/DayTripper</td><td></td></tr><tr><td>http://learningsparql.com/ns/title/MeanMrMustard</td><td></td></tr><tr><td>http://learningsparql.com/ns/title/Lucille</td><td></td></tr><tr><td>http://learningsparql.com/ns/title/ComeAndGetIt</td><td></td></tr><tr><td>http://learningsparql.com/ns/title/LucyInTheSkyWithDiamonds</td><td></td></tr><tr><td>http://learningsparql.com/ns/title/That%26%238217%3BllBeTheDay</td><td></td></tr><tr><td>http://learningsparql.com/ns/title/HeyJude</td><td></td></tr><tr><td>http://learningsparql.com/ns/title/ICallYourName</td><td></td></tr><tr><td>http://learningsparql.com/ns/title/YouCan%26%238217%3BtDoThat</td><td></td></tr><tr><td>http://learningsparql.com/ns/title/DigIt</td><td></td></tr><tr><td>http://learningsparql.com/ns/title/HoneyPie</td><td></td></tr></tbody></table>"
      ],
      "text/plain": [
       "<IPython.core.display.HTML object>"
      ]
     },
     "execution_count": 39,
     "metadata": {},
     "output_type": "execute_result"
    }
   ],
   "source": [
    "%%sparql http://fuseki.gsi.upm.es/sitc/\n",
    "\n",
    "PREFIX s: <http://learningsparql.com/ns/schema/>\n",
    "PREFIX i: <http://learningsparql.com/ns/instrument/>\n",
    "PREFIX m: <http://learningsparql.com/ns/musician/>\n",
    "PREFIX rdfs: <http://www.w3.org/2000/01/rdf-schema#>\n",
    "\n",
    "SELECT ?song ?musician\n",
    "WHERE {\n",
    "    ?song a s:Song .\n",
    "    OPTIONAL {\n",
    "        ?song i:a_made_up_instrument ?musician\n",
    "    }\n",
    "}\n",
    "LIMIT 100"
   ]
  },
  {
   "cell_type": "markdown",
   "metadata": {},
   "source": [
    "Although the property does not exist, the query will still return all the songs.\n",
    "In the column for our instrument, it returns an empty value.\n",
    "\n",
    "Now, use the same concept, to get a list of the **names** of the vocalists (if any) in each song."
   ]
  },
  {
   "cell_type": "code",
   "execution_count": 41,
   "metadata": {
    "deletable": false,
    "nbgrader": {
     "cell_type": "code",
     "checksum": "3bc508872193750d57d07efbf334c212",
     "grade": false,
     "grade_id": "cell-dcd68c45c1608a28",
     "locked": false,
     "schema_version": 3,
     "solution": true
    }
   },
   "outputs": [
    {
     "data": {
      "text/html": [
       "<table><thead><tr><th>song</th><th>vocalist</th><tr></thead><tbody><tr><td>Besame Mucho</td><td>Paul McCartney</td></tr><tr><td>Lend Me Your Comb</td><td>Paul McCartney</td></tr><tr><td>Lend Me Your Comb</td><td>George Harrison</td></tr><tr><td>Lend Me Your Comb</td><td>John Lennon</td></tr><tr><td>The Saints</td><td>Tony Sheridan</td></tr><tr><td>Maxwell&#8217;s Silver Hammer</td><td>Paul McCartney</td></tr><tr><td>I&#8217;m Happy Just To Dance With You</td><td>George Harrison</td></tr><tr><td>Let It Be</td><td>Paul McCartney</td></tr><tr><td>Octopus&#8217;s Garden</td><td>Ringo Starr</td></tr><tr><td>I Got A Woman</td><td>John Lennon</td></tr><tr><td>Ticket To Ride</td><td></td></tr><tr><td>Ob-La-Di, Ob-La-Da</td><td>Paul McCartney</td></tr><tr><td>Memphis, Tennessee</td><td>John Lennon</td></tr><tr><td>Old Brown Shoe</td><td>George Harrison</td></tr><tr><td>Good Night</td><td>Ringo Starr</td></tr><tr><td>Things We Said Today</td><td>Paul McCartney</td></tr><tr><td>Hallelujah, I Love Her So</td><td>Paul McCartney</td></tr><tr><td>I Wanna Be Your Man</td><td>Ringo Starr</td></tr><tr><td>Yes It Is</td><td>John Lennon</td></tr><tr><td>Revolution 1</td><td>John Lennon</td></tr><tr><td>Dizzy Miss Lizzy</td><td>John Lennon</td></tr><tr><td>I Got To Find My Baby</td><td>John Lennon</td></tr><tr><td>Los Paranoias</td><td>Paul McCartney</td></tr><tr><td>Like Dreamers Do</td><td>Paul McCartney</td></tr><tr><td>Yesterday</td><td>Paul McCartney</td></tr><tr><td>Not A Second Time</td><td>John Lennon</td></tr><tr><td>I&#8217;m Down</td><td>Paul McCartney</td></tr><tr><td>You&#8217;ve Got To Hide Your Love Away</td><td>John Lennon</td></tr><tr><td>Baby&#8217;s In Black</td><td>Paul McCartney</td></tr><tr><td>Baby&#8217;s In Black</td><td>John Lennon</td></tr><tr><td>I&#8217;ll Be Back</td><td></td></tr><tr><td>Penny Lane</td><td>Paul McCartney</td></tr><tr><td>Magical Mystery Tour</td><td>Paul McCartney</td></tr><tr><td>Magical Mystery Tour</td><td>George Harrison</td></tr><tr><td>Magical Mystery Tour</td><td>John Lennon</td></tr><tr><td>I Want To Hold Your Hand</td><td>Paul McCartney</td></tr><tr><td>I Want To Hold Your Hand</td><td>John Lennon</td></tr><tr><td>When I Get Home</td><td></td></tr><tr><td>Norwegian Wood (This Bird Has Flown)</td><td>John Lennon</td></tr><tr><td>Sun King</td><td>John Lennon</td></tr><tr><td>Something</td><td>George Harrison</td></tr><tr><td>Honey Don&#8217;t</td><td>Ringo Starr</td></tr><tr><td>Hello, Goodbye</td><td>Paul McCartney</td></tr><tr><td>Young Blood</td><td>George Harrison</td></tr><tr><td>Young Blood</td><td>Ringo Starr</td></tr><tr><td>You Know What To Do</td><td>George Harrison</td></tr><tr><td>Cry For A Shadow</td><td></td></tr><tr><td>For You Blue</td><td>George Harrison</td></tr><tr><td>Ooh! My Soul</td><td>Paul McCartney</td></tr><tr><td>Her Majesty</td><td>Paul McCartney</td></tr><tr><td>Rock And Roll Music</td><td>John Lennon</td></tr><tr><td>Sea Of Time</td><td></td></tr><tr><td>Kansas City/Hey-Hey-Hey-Hey!</td><td></td></tr><tr><td>Please Please Me</td><td></td></tr><tr><td>Why</td><td>Tony Sheridan</td></tr><tr><td>Why Don&#8217;t We Do It In The Road?</td><td>Paul McCartney</td></tr><tr><td>I Feel Fine</td><td>Paul McCartney</td></tr><tr><td>I Feel Fine</td><td>George Harrison</td></tr><tr><td>I Feel Fine</td><td>John Lennon</td></tr><tr><td>Not Guilty</td><td>George Harrison</td></tr><tr><td>Glass Onion</td><td>John Lennon</td></tr><tr><td>Eleanor Rigby</td><td>Paul McCartney</td></tr><tr><td>Girl</td><td>John Lennon</td></tr><tr><td>Michelle</td><td>Paul McCartney</td></tr><tr><td>Thank You Girl</td><td>Paul McCartney</td></tr><tr><td>Thank You Girl</td><td>John Lennon</td></tr><tr><td>Oh! Darling</td><td>Paul McCartney</td></tr><tr><td>The Long And Winding Road</td><td>Paul McCartney</td></tr><tr><td>You&#8217;ll Be Mine</td><td>Paul McCartney</td></tr><tr><td>You&#8217;ll Be Mine</td><td>John Lennon</td></tr><tr><td>She&#8217;s A Woman</td><td>Paul McCartney</td></tr><tr><td>And I Love Her</td><td>Paul McCartney</td></tr><tr><td>Junk</td><td>Paul McCartney</td></tr><tr><td>Your Mother Should Know</td><td>Paul McCartney</td></tr><tr><td>Glad All Over</td><td>Paul McCartney</td></tr><tr><td>Glad All Over</td><td>George Harrison</td></tr><tr><td>March Of The Meanies</td><td></td></tr><tr><td>Sea Of Holes</td><td></td></tr><tr><td>Komm, Gib Mir Deine Hand</td><td>Paul McCartney</td></tr><tr><td>Komm, Gib Mir Deine Hand</td><td>George Harrison</td></tr><tr><td>Komm, Gib Mir Deine Hand</td><td>John Lennon</td></tr><tr><td>Don&#8217;t Pass Me By</td><td>Ringo Starr</td></tr><tr><td>We Can Work It Out</td><td>Paul McCartney</td></tr><tr><td>We Can Work It Out</td><td>John Lennon</td></tr><tr><td>Mother Nature&#8217;s Son</td><td>Paul McCartney</td></tr><tr><td>Take Out Some Insurance On Me, Baby</td><td>Tony Sheridan</td></tr><tr><td>Wild Honey Pie</td><td>Paul McCartney</td></tr><tr><td>You Really Got A Hold On Me</td><td></td></tr><tr><td>Every Little Thing</td><td>Paul McCartney</td></tr><tr><td>Every Little Thing</td><td>John Lennon</td></tr><tr><td>Yellow Submarine In Pepperland</td><td></td></tr><tr><td>Getting Better</td><td>Paul McCartney</td></tr><tr><td>The Fool On The Hill</td><td>Paul McCartney</td></tr><tr><td>Lady Madonna</td><td>Paul McCartney</td></tr><tr><td>All I&#8217;ve Got To Do</td><td>John Lennon</td></tr><tr><td>Wait</td><td>Paul McCartney</td></tr><tr><td>Wait</td><td>John Lennon</td></tr><tr><td>Hello Little Girl</td><td>John Lennon</td></tr><tr><td>Long, Long, Long</td><td>George Harrison</td></tr><tr><td>Moonlight Bay</td><td>Paul McCartney</td></tr></tbody></table>"
      ],
      "text/plain": [
       "<IPython.core.display.HTML object>"
      ]
     },
     "execution_count": 41,
     "metadata": {},
     "output_type": "execute_result"
    }
   ],
   "source": [
    "%%sparql http://fuseki.gsi.upm.es/sitc/\n",
    "\n",
    "PREFIX s: <http://learningsparql.com/ns/schema/>\n",
    "PREFIX i: <http://learningsparql.com/ns/instrument/>\n",
    "PREFIX m: <http://learningsparql.com/ns/musician/>\n",
    "PREFIX rdfs: <http://www.w3.org/2000/01/rdf-schema#>\n",
    "\n",
    "SELECT ?song ?vocalist\n",
    "WHERE {\n",
    "    ?s a s:Song .\n",
    "    ?s rdfs:label ?song .\n",
    "    \n",
    "# YOUR ANSWER HERE\n",
    "     OPTIONAL {\n",
    "    ?s i:vocals ?vocal .\n",
    "    ?vocal a s:Musician .\n",
    "    ?vocal rdfs:label ?vocalist .\n",
    "     }\n",
    "}\n",
    "LIMIT 100"
   ]
  },
  {
   "cell_type": "code",
   "execution_count": 42,
   "metadata": {
    "deletable": false,
    "editable": false,
    "nbgrader": {
     "cell_type": "code",
     "checksum": "69edef3121b8dfab385a00cd181c956f",
     "grade": true,
     "grade_id": "cell-1e706b9c1c1331bc",
     "locked": true,
     "points": 1,
     "schema_version": 3,
     "solution": false
    }
   },
   "outputs": [],
   "source": [
    "s = solution()\n",
    "assert 'Paul McCartney' in s['columns']['vocalist']\n",
    "assert 'Paul McCartney' in s['columns']['vocalist']\n",
    "assert ('Besame Mucho', 'Paul McCartney') in s['tuples']\n",
    "assert '' in s['columns']['vocalist']  # Some songs do not have a vocalist"
   ]
  },
  {
   "cell_type": "markdown",
   "metadata": {},
   "source": [
    "### What songs do not have a vocalist? (Bound)"
   ]
  },
  {
   "cell_type": "markdown",
   "metadata": {},
   "source": [
    "Now we only want to list those songs that **do not** have a vocalist.\n",
    "\n",
    "To do so, we can copy the query from the previous exercise, and filter the results with the `BOUND` function.\n",
    "\n",
    "`BOUND` will return `true` if the variable has a value, and `false` otherwise.\n",
    "\n",
    "This is very useful for two purposes.\n",
    "Firstly, it allows us to look for patterns that **do not occur** in the graph, such as missing properties.\n",
    "For instance, we could search for the authors with missing birth information so we can add it.\n",
    "Secondly, we can use bound in filters to get conditional filters.\n",
    "\n",
    "Add a filter below to only get songs without a vocalist:"
   ]
  },
  {
   "cell_type": "code",
   "execution_count": 45,
   "metadata": {
    "deletable": false,
    "nbgrader": {
     "cell_type": "code",
     "checksum": "300df0a3cf9729dd4814b3153b2fedb4",
     "grade": false,
     "grade_id": "cell-0c7cc924a13d792a",
     "locked": false,
     "schema_version": 3,
     "solution": true
    }
   },
   "outputs": [
    {
     "data": {
      "text/html": [
       "<table><thead><tr><th>song</th><tr></thead><tbody><tr><td>Ticket To Ride</td></tr><tr><td>I&#8217;ll Be Back</td></tr><tr><td>When I Get Home</td></tr><tr><td>Cry For A Shadow</td></tr><tr><td>Sea Of Time</td></tr><tr><td>Kansas City/Hey-Hey-Hey-Hey!</td></tr><tr><td>Please Please Me</td></tr><tr><td>March Of The Meanies</td></tr><tr><td>Sea Of Holes</td></tr><tr><td>You Really Got A Hold On Me</td></tr><tr><td>Yellow Submarine In Pepperland</td></tr><tr><td>Cayenne</td></tr><tr><td>Fixing A Hole</td></tr><tr><td>A Beginning</td></tr><tr><td>I Don&#8217;t Want To Spoil The Party</td></tr><tr><td>12-Bar Original</td></tr><tr><td>PS I Love You</td></tr><tr><td>Tell Me Why</td></tr><tr><td>I Want To Tell You</td></tr><tr><td>Revolution 9</td></tr><tr><td>Sea Of Monsters</td></tr><tr><td>Pepperland Laid Waste</td></tr><tr><td>Pepperland</td></tr></tbody></table>"
      ],
      "text/plain": [
       "<IPython.core.display.HTML object>"
      ]
     },
     "execution_count": 45,
     "metadata": {},
     "output_type": "execute_result"
    }
   ],
   "source": [
    "%%sparql http://fuseki.gsi.upm.es/sitc/\n",
    "\n",
    "PREFIX s: <http://learningsparql.com/ns/schema/>\n",
    "PREFIX i: <http://learningsparql.com/ns/instrument/>\n",
    "PREFIX m: <http://learningsparql.com/ns/musician/>\n",
    "PREFIX rdfs: <http://www.w3.org/2000/01/rdf-schema#>\n",
    "\n",
    "SELECT ?song\n",
    "WHERE {\n",
    "    ?s a s:Song .\n",
    "    ?s rdfs:label ?song .\n",
    "    OPTIONAL {\n",
    "    ?s i:vocals ?vocalist\n",
    "     }\n",
    "# YOUR ANSWER HERE\n",
    "    FILTER(!bound(?vocalist))\n",
    "}\n",
    "LIMIT 100"
   ]
  },
  {
   "cell_type": "code",
   "execution_count": 46,
   "metadata": {
    "deletable": false,
    "editable": false,
    "nbgrader": {
     "cell_type": "code",
     "checksum": "22d6fcdb72a8b2c5ab496cdbb5e2740a",
     "grade": true,
     "grade_id": "cell-2541abc93ab4d506",
     "locked": true,
     "points": 1,
     "schema_version": 3,
     "solution": false
    }
   },
   "outputs": [],
   "source": [
    "s = solution()\n",
    "assert len(s['tuples']) == 23"
   ]
  },
  {
   "cell_type": "markdown",
   "metadata": {},
   "source": [
    "### Who played guitar OR bass in the most songs? (Advanced FILTER with GROUP)"
   ]
  },
  {
   "cell_type": "markdown",
   "metadata": {},
   "source": [
    "In this exercise, we want a table with the name of musicians that played either the guitar (`i:guitar`) or the bass (`i:bass`), the instrument they played, and the times they played it.\n",
    "\n",
    "If a musician played both instruments, it should appear twice."
   ]
  },
  {
   "cell_type": "code",
   "execution_count": 47,
   "metadata": {
    "deletable": false,
    "nbgrader": {
     "cell_type": "code",
     "checksum": "e4e898c8a16b8aa5865dfde2f6e68ec6",
     "grade": false,
     "grade_id": "cell-d750b6d64c6aa0a7",
     "locked": false,
     "schema_version": 3,
     "solution": true
    }
   },
   "outputs": [
    {
     "data": {
      "text/html": [
       "<table><thead><tr><th>musician</th><th>instrument</th><th>number</th><tr></thead><tbody><tr><td>George Harrison</td><td>guitar</td><td>27</td></tr><tr><td>John Lennon</td><td>guitar</td><td>19</td></tr><tr><td>Paul McCartney</td><td>guitar</td><td>10</td></tr><tr><td>Jeff Lynne</td><td>guitar</td><td>2</td></tr><tr><td>Tony Sheridan</td><td>guitar</td><td>1</td></tr><tr><td>Paul McCartney</td><td>bass</td><td>216</td></tr><tr><td>George Harrison</td><td>bass</td><td>6</td></tr><tr><td>Stuart Sutcliffe</td><td>bass</td><td>3</td></tr><tr><td>John Lennon</td><td>bass</td><td>1</td></tr></tbody></table>"
      ],
      "text/plain": [
       "<IPython.core.display.HTML object>"
      ]
     },
     "execution_count": 47,
     "metadata": {},
     "output_type": "execute_result"
    }
   ],
   "source": [
    "%%sparql http://fuseki.gsi.upm.es/sitc/\n",
    "\n",
    "PREFIX  rdfs:  <http://www.w3.org/2000/01/rdf-schema#> \n",
    "PREFIX s: <http://learningsparql.com/ns/schema/>\n",
    "PREFIX i: <http://learningsparql.com/ns/instrument/>\n",
    "PREFIX m: <http://learningsparql.com/ns/musician/>\n",
    "\n",
    "SELECT ?musician ?instrument (COUNT(DISTINCT ?song) AS ?number)\n",
    "WHERE {\n",
    "  ?song ?ins ?player .\n",
    "  ?ins rdfs:label ?instrument .\n",
    "  ?player rdfs:label ?musician .\n",
    "# YOUR ANSWER HERE\n",
    "  FILTER (?instrument in ('guitar', 'bass'))\n",
    "\n",
    "}\n",
    "# YOUR ANSWER HERE\n",
    "\n",
    "GROUP BY ?instrument ?musician\n",
    "\n",
    "\n",
    "ORDER BY DESC(?instrument) DESC(?number)"
   ]
  },
  {
   "cell_type": "code",
   "execution_count": 48,
   "metadata": {},
   "outputs": [],
   "source": [
    "s = solution()\n",
    "assert ('George Harrison', 'guitar', '27') in s['tuples']\n",
    "assert ('Stuart Sutcliffe', 'bass', '3') in s['tuples']"
   ]
  },
  {
   "cell_type": "markdown",
   "metadata": {},
   "source": [
    "### Who played the most instruments? (Advanced FILTER II)"
   ]
  },
  {
   "cell_type": "markdown",
   "metadata": {},
   "source": [
    "Now, count how many instruments each musician have played in a song.\n",
    "\n",
    "**Do not count lead (`i:vocals`) or backing vocals (`i:backingvocals`) as instruments**."
   ]
  },
  {
   "cell_type": "code",
   "execution_count": 65,
   "metadata": {
    "deletable": false,
    "nbgrader": {
     "cell_type": "code",
     "checksum": "fade6ab714376e0eabfa595dd6bd6a8b",
     "grade": false,
     "grade_id": "cell-2f5aa516f8191787",
     "locked": false,
     "schema_version": 3,
     "solution": true
    }
   },
   "outputs": [
    {
     "data": {
      "text/html": [
       "<table><thead><tr><th>musician</th><th>number</th><tr></thead><tbody><tr><td>John Lennon</td><td>52</td></tr><tr><td>George Harrison</td><td>45</td></tr><tr><td>Paul McCartney</td><td>43</td></tr><tr><td>Uncredited</td><td>39</td></tr><tr><td>Ringo Starr</td><td>35</td></tr><tr><td>Mal Evans</td><td>14</td></tr><tr><td>George Martin</td><td>12</td></tr><tr><td>Unknown</td><td>8</td></tr><tr><td>Chris Thomas</td><td>5</td></tr><tr><td>Neil Aspinall</td><td>4</td></tr><tr><td>Billy Preston</td><td>3</td></tr><tr><td>Leon Calvert</td><td>3</td></tr><tr><td>Rex Morris</td><td>3</td></tr><tr><td>Alan Civil</td><td>2</td></tr><tr><td>Andy White</td><td>2</td></tr><tr><td>Bill Povey</td><td>2</td></tr><tr><td>David Mason</td><td>2</td></tr><tr><td>Dennis Walton</td><td>2</td></tr><tr><td>Eric Clapton</td><td>2</td></tr><tr><td>Freddy Clayton</td><td>2</td></tr><tr><td>Gordon Pearce</td><td>2</td></tr><tr><td>Harry Klein</td><td>2</td></tr><tr><td>Jeff Lynne</td><td>2</td></tr><tr><td>Johnnie Scott</td><td>2</td></tr><tr><td>Mahapurush Misra</td><td>2</td></tr><tr><td>Neil Sanders</td><td>2</td></tr><tr><td>Norman Smith</td><td>2</td></tr><tr><td>Other musicians</td><td>2</td></tr><tr><td>Pattie Harrison</td><td>2</td></tr><tr><td>Pete Best</td><td>2</td></tr><tr><td>Tony Sheridan</td><td>2</td></tr><tr><td>Tony Tunstall</td><td>2</td></tr><tr><td>Tristan Fry</td><td>2</td></tr><tr><td>Yoko Ono</td><td>2</td></tr><tr><td>Alan Branscombe</td><td>1</td></tr><tr><td>Alan Dalziel</td><td>1</td></tr><tr><td>Alan Holmes</td><td>1</td></tr><tr><td>Alan Loveday</td><td>1</td></tr><tr><td>Alex Nifosi</td><td>1</td></tr><tr><td>Alf Reece</td><td>1</td></tr><tr><td>Alfred Waters</td><td>1</td></tr><tr><td>Allen Ford</td><td>1</td></tr><tr><td>Amrit Gajjar</td><td>1</td></tr><tr><td>Andrew McGee</td><td>1</td></tr><tr><td>Anil Bhagwat</td><td>1</td></tr><tr><td>Anna Joshi</td><td>1</td></tr><tr><td>Art Ellefson</td><td>1</td></tr><tr><td>Ashish Khan</td><td>1</td></tr><tr><td>Barrie Cameron</td><td>1</td></tr><tr><td>Basil Tschaikov</td><td>1</td></tr><tr><td>Bernard Davis</td><td>1</td></tr><tr><td>Bernard George</td><td>1</td></tr><tr><td>Bernard Miller</td><td>1</td></tr><tr><td>Bert Courtley</td><td>1</td></tr><tr><td>Bill Jackman</td><td>1</td></tr><tr><td>Bill Monro</td><td>1</td></tr><tr><td>Bram Martin</td><td>1</td></tr><tr><td>Brian Jones</td><td>1</td></tr><tr><td>Buddhadev Kansara</td><td>1</td></tr><tr><td>Christopher Taylor</td><td>1</td></tr><tr><td>Clifford Seville</td><td>1</td></tr><tr><td>Colin Hanton</td><td>1</td></tr><tr><td>Cyril MacArthur</td><td>1</td></tr><tr><td>D Bradley</td><td>1</td></tr><tr><td>Danny Moss</td><td>1</td></tr><tr><td>David Glyde</td><td>1</td></tr><tr><td>David Mason and three others</td><td>1</td></tr><tr><td>David McCallum</td><td>1</td></tr><tr><td>David Sanderman</td><td>1</td></tr><tr><td>David Smith</td><td>1</td></tr><tr><td>David Wolfsthal</td><td>1</td></tr><tr><td>Dennis McConnell</td><td>1</td></tr><tr><td>Dennis Vigay</td><td>1</td></tr><tr><td>Derek Collins</td><td>1</td></tr><tr><td>Derek Jacobs</td><td>1</td></tr><tr><td>Derek Simpson</td><td>1</td></tr><tr><td>Derek Watkins</td><td>1</td></tr><tr><td>Dick Morgan</td><td>1</td></tr><tr><td>Don Honeywill</td><td>1</td></tr><tr><td>Don Lang</td><td>1</td></tr><tr><td>Donald Weekes</td><td>1</td></tr><tr><td>Duncan Campbell</td><td>1</td></tr><tr><td>Eddie Kramer</td><td>1</td></tr><tr><td>Eddie Thornton</td><td>1</td></tr><tr><td>Eldon Fox</td><td>1</td></tr><tr><td>Elgar Howarth</td><td>1</td></tr><tr><td>Eric Bowie</td><td>1</td></tr><tr><td>Erich Gruenberg</td><td>1</td></tr><tr><td>Ernest Scott</td><td>1</td></tr><tr><td>Evan Watkins</td><td>1</td></tr><tr><td>Francisco Gabarro</td><td>1</td></tr><tr><td>Frank Clarke</td><td>1</td></tr><tr><td>Frank Reidy</td><td>1</td></tr><tr><td>Frederick Alexander</td><td>1</td></tr><tr><td>Gary Leeds and more</td><td>1</td></tr><tr><td>Geoff Emerick</td><td>1</td></tr><tr><td>Gordon Lewin</td><td>1</td></tr><tr><td>Graham Nash</td><td>1</td></tr><tr><td>Granville Jones</td><td>1</td></tr><tr><td>Greg Bowen</td><td>1</td></tr><tr><td>Gwynne Edwards</td><td>1</td></tr><tr><td>Hans Geiger</td><td>1</td></tr><tr><td>Hariprasad Chaurasia/SR Kenkare</td><td>1</td></tr><tr><td>Harold Jackson</td><td>1</td></tr><tr><td>Harry Spain</td><td>1</td></tr><tr><td>Henry Datyner</td><td>1</td></tr><tr><td>Henry MacKenzie</td><td>1</td></tr><tr><td>Henry Myerscough</td><td>1</td></tr><tr><td>Hunter Davies</td><td>1</td></tr><tr><td>Ian Hamer</td><td>1</td></tr><tr><td>J Power</td><td>1</td></tr><tr><td>Jack Brymer</td><td>1</td></tr><tr><td>Jack Ellory</td><td>1</td></tr><tr><td>Jack Emblow</td><td>1</td></tr><tr><td>Jack Fallon</td><td>1</td></tr><tr><td>Jack Greene</td><td>1</td></tr><tr><td>Jack Holmes</td><td>1</td></tr><tr><td>Jack Richards</td><td>1</td></tr><tr><td>Jack Rothstein</td><td>1</td></tr><tr><td>Jackie Lomax</td><td>1</td></tr><tr><td>James W Buck</td><td>1</td></tr><tr><td>Jane Asher</td><td>1</td></tr><tr><td>Jim Chester</td><td>1</td></tr><tr><td>John 'Duff' Lowe</td><td>1</td></tr><tr><td>John Burden</td><td>1</td></tr><tr><td>John Hall</td><td>1</td></tr><tr><td>John Jezzard</td><td>1</td></tr><tr><td>John Lee</td><td>1</td></tr><tr><td>John Marston</td><td>1</td></tr><tr><td>John McCartney</td><td>1</td></tr><tr><td>John Meek</td><td>1</td></tr><tr><td>John Ronayne</td><td>1</td></tr><tr><td>John Sharpe</td><td>1</td></tr><tr><td>John Underwood</td><td>1</td></tr><tr><td>John Wilbraham</td><td>1</td></tr><tr><td>José Luis Garcia</td><td>1</td></tr><tr><td>Julien Gaillard</td><td>1</td></tr><tr><td>Jurgen Hess</td><td>1</td></tr><tr><td>Keith Cummings</td><td>1</td></tr><tr><td>Keith Moon</td><td>1</td></tr><tr><td>Keith Richards</td><td>1</td></tr><tr><td>Kenneth Essex</td><td>1</td></tr><tr><td>Kenny Powell</td><td>1</td></tr><tr><td>Leo Birnbaum</td><td>1</td></tr><tr><td>Les Condon</td><td>1</td></tr><tr><td>Les Maddox</td><td>1</td></tr><tr><td>Lionel Bentley</td><td>1</td></tr><tr><td>Lionel Ross</td><td>1</td></tr><tr><td>Lou Sofier</td><td>1</td></tr><tr><td>Louis Stevens</td><td>1</td></tr><tr><td>Manny Winters</td><td>1</td></tr><tr><td>Marianne Faithfull</td><td>1</td></tr><tr><td>Marijke Koger</td><td>1</td></tr><tr><td>Michael Barnes</td><td>1</td></tr><tr><td>Mick Jagger</td><td>1</td></tr><tr><td>Mike McCartney</td><td>1</td></tr><tr><td>Mike Vickers</td><td>1</td></tr><tr><td>Mike Winfield</td><td>1</td></tr><tr><td>Monty Montgomery</td><td>1</td></tr><tr><td>Morris Miller</td><td>1</td></tr><tr><td>N Fawcett</td><td>1</td></tr><tr><td>Natwar Soni</td><td>1</td></tr><tr><td>Nicky Hopkins</td><td>1</td></tr><tr><td>Norman Jones</td><td>1</td></tr><tr><td>Norman Lederman</td><td>1</td></tr><tr><td>P Goody</td><td>1</td></tr><tr><td>Patrick Halling</td><td>1</td></tr><tr><td>Paul Harvey</td><td>1</td></tr><tr><td>Paul Scherman</td><td>1</td></tr><tr><td>Personnel unknown; instruments include</td><td>1</td></tr><tr><td>Peter Beavan</td><td>1</td></tr><tr><td>Peter Coe</td><td>1</td></tr><tr><td>Peter Willison</td><td>1</td></tr><tr><td>Ralph Elman</td><td>1</td></tr><tr><td>Ray Swinfield</td><td>1</td></tr><tr><td>Raymond Brown</td><td>1</td></tr><tr><td>Raymond Newman</td><td>1</td></tr><tr><td>Raymond Premru</td><td>1</td></tr><tr><td>Reginald Kilbey</td><td>1</td></tr><tr><td>Richard Taylor</td><td>1</td></tr><tr><td>Rij Ram Desad</td><td>1</td></tr><tr><td>Robert Burns</td><td>1</td></tr><tr><td>Roger Lord</td><td>1</td></tr><tr><td>Ronald Chamberlain</td><td>1</td></tr><tr><td>Ronald Thomas</td><td>1</td></tr><tr><td>Ronnie Hughes</td><td>1</td></tr><tr><td>Ronnie Ross</td><td>1</td></tr><tr><td>Ronnie Scott</td><td>1</td></tr><tr><td>Roy Copestake</td><td>1</td></tr><tr><td>Sharad Ghosh/Hanuman Jadev</td><td>1</td></tr><tr><td>Sheila Bromberg</td><td>1</td></tr><tr><td>Sidney Sax</td><td>1</td></tr><tr><td>Stanley Reynolds</td><td>1</td></tr><tr><td>Stanley Roderick</td><td>1</td></tr><tr><td>Stanley Woods</td><td>1</td></tr><tr><td>Stephen Shingles</td><td>1</td></tr><tr><td>Stuart Sutcliffe</td><td>1</td></tr><tr><td>T Moore</td><td>1</td></tr><tr><td>Ted Barker</td><td>1</td></tr><tr><td>Terry Doran</td><td>1</td></tr><tr><td>Terry Weil</td><td>1</td></tr><tr><td>Tom (surname unknown)</td><td>1</td></tr><tr><td>Tony Fisher</td><td>1</td></tr><tr><td>Tony Gilbert</td><td>1</td></tr><tr><td>Tony Randall</td><td>1</td></tr><tr><td>Trevor Williams</td><td>1</td></tr><tr><td>Unknown musician</td><td>1</td></tr><tr><td>Victor Spinetti</td><td>1</td></tr><tr><td>unknown</td><td>1</td></tr></tbody></table>"
      ],
      "text/plain": [
       "<IPython.core.display.HTML object>"
      ]
     },
     "execution_count": 65,
     "metadata": {},
     "output_type": "execute_result"
    }
   ],
   "source": [
    "%%sparql http://fuseki.gsi.upm.es/sitc/\n",
    "\n",
    "PREFIX  rdfs:  <http://www.w3.org/2000/01/rdf-schema#> \n",
    "PREFIX s: <http://learningsparql.com/ns/schema/>\n",
    "PREFIX i: <http://learningsparql.com/ns/instrument/>\n",
    "PREFIX m: <http://learningsparql.com/ns/musician/>\n",
    "\n",
    "\n",
    "# YOUR ANSWER HERE\n",
    "SELECT ?musician (COUNT(DISTINCT ?instrument) AS ?number)\n",
    "WHERE {\n",
    "  ?song ?ins ?player .\n",
    "  ?ins rdfs:label ?instrument .\n",
    "  ?player rdfs:label ?musician .\n",
    "# YOUR ANSWER HERE\n",
    "FILTER (?ins not in (i:backingvocals, i:vocals))\n",
    "\n",
    "}\n",
    "GROUP BY ?musician\n",
    "ORDER BY DESC(?instrument) DESC(?number)"
   ]
  },
  {
   "cell_type": "code",
   "execution_count": 66,
   "metadata": {
    "deletable": false,
    "editable": false,
    "nbgrader": {
     "cell_type": "code",
     "checksum": "33e93ec2a3d1f9eb4b0310d4651b74c2",
     "grade": true,
     "grade_id": "cell-bcd0f7e26b6c11c2",
     "locked": true,
     "points": 1,
     "schema_version": 3,
     "solution": false
    }
   },
   "outputs": [],
   "source": [
    "s = solution()\n",
    "assert ('John Lennon', '52') in s['tuples']\n",
    "assert ('Andy White', '2') in s['tuples']"
   ]
  },
  {
   "cell_type": "markdown",
   "metadata": {},
   "source": [
    "### Which songs had Ringo in dums OR Lennon in lead vocals? (UNION)"
   ]
  },
  {
   "cell_type": "markdown",
   "metadata": {},
   "source": [
    "We can merge the results of several queries, just like using `JOIN` in SQL.\n",
    "The keyword in SPARQL is `UNION`, because we are merging graphs.\n",
    "\n",
    "`UNION` is useful in many situations.\n",
    "For instance, when there are equivalent properties, or when you want to use two search terms and FILTER would be too inefficient.\n",
    "\n",
    "The syntax is as follows:\n",
    "\n",
    "```sparql\n",
    "SELECT ?title\n",
    "WHERE  {\n",
    "  { ?book dc10:title  ?title }\n",
    "  UNION\n",
    "  { ?book dc11:title  ?title }\n",
    "  \n",
    "  ... REST OF YOUR QUERY ...\n",
    "\n",
    "}\n",
    "```"
   ]
  },
  {
   "cell_type": "code",
   "execution_count": 60,
   "metadata": {
    "deletable": false,
    "nbgrader": {
     "cell_type": "code",
     "checksum": "09262d81449c498c37e4b9d9b1dcdfed",
     "grade": false,
     "grade_id": "cell-d3a742bd87d9c793",
     "locked": false,
     "schema_version": 3,
     "solution": true
    }
   },
   "outputs": [
    {
     "data": {
      "text/html": [
       "<table><thead><tr><th>song</th><tr></thead><tbody><tr><td>Lend Me Your Comb</td></tr><tr><td>I Got A Woman</td></tr><tr><td>Memphis, Tennessee</td></tr><tr><td>Yes It Is</td></tr><tr><td>Revolution 1</td></tr><tr><td>Dizzy Miss Lizzy</td></tr><tr><td>I Got To Find My Baby</td></tr><tr><td>Not A Second Time</td></tr><tr><td>You&#8217;ve Got To Hide Your Love Away</td></tr><tr><td>Baby&#8217;s In Black</td></tr><tr><td>Magical Mystery Tour</td></tr><tr><td>I Want To Hold Your Hand</td></tr><tr><td>Norwegian Wood (This Bird Has Flown)</td></tr><tr><td>Sun King</td></tr><tr><td>Rock And Roll Music</td></tr><tr><td>I Feel Fine</td></tr><tr><td>Glass Onion</td></tr><tr><td>Girl</td></tr><tr><td>Thank You Girl</td></tr><tr><td>You&#8217;ll Be Mine</td></tr><tr><td>Komm, Gib Mir Deine Hand</td></tr><tr><td>We Can Work It Out</td></tr><tr><td>Every Little Thing</td></tr><tr><td>All I&#8217;ve Got To Do</td></tr><tr><td>Wait</td></tr><tr><td>Hello Little Girl</td></tr><tr><td>Moonlight Bay</td></tr><tr><td>Christmas Time (Is Here Again)</td></tr><tr><td>Shout</td></tr><tr><td>Rip It Up/Shake, Rattle And Roll/Blue Suede Shoes</td></tr><tr><td>Day Tripper</td></tr><tr><td>Mean Mr Mustard</td></tr><tr><td>Lucy In The Sky With Diamonds</td></tr><tr><td>That&#8217;ll Be The Day</td></tr><tr><td>I Call Your Name</td></tr><tr><td>You Can&#8217;t Do That</td></tr><tr><td>Dig It</td></tr><tr><td>Soldier Of Love</td></tr><tr><td>The Word</td></tr><tr><td>Too Much Monkey Business</td></tr><tr><td>Because</td></tr><tr><td>This Boy</td></tr><tr><td>Sweet Little Sixteen</td></tr><tr><td>And Your Bird Can Sing</td></tr><tr><td>Birthday</td></tr><tr><td>Love Me Do</td></tr><tr><td>Doctor Robert</td></tr><tr><td>In My Life</td></tr><tr><td>Maggie Mae</td></tr><tr><td>Slow Down</td></tr><tr><td>Anna (Go To Him)</td></tr><tr><td>A Hard Day&#8217;s Night</td></tr><tr><td>Across The Universe</td></tr><tr><td>You Know My Name (Look Up The Number)</td></tr><tr><td>Drive My Car</td></tr><tr><td>I Just Don&#8217;t Understand</td></tr><tr><td>Everybody&#8217;s Got Something To Hide Except Me And My Monkey</td></tr><tr><td>I&#8217;m Only Sleeping</td></tr><tr><td>Sexy Sadie</td></tr><tr><td>All You Need Is Love</td></tr><tr><td>Bad Boy</td></tr><tr><td>Carry That Weight</td></tr><tr><td>Don&#8217;t Let Me Down</td></tr><tr><td>Dear Prudence</td></tr><tr><td>Keep Your Hands Off My Baby</td></tr><tr><td>It Won&#8217;t Be Long</td></tr><tr><td>Tomorrow Never Knows</td></tr><tr><td>Misery</td></tr><tr><td>Eight Days A Week</td></tr><tr><td>Any Time At All</td></tr><tr><td>I&#8217;ll Get You</td></tr><tr><td>Strawberry Fields Forever</td></tr><tr><td>Sie Liebt Dich</td></tr><tr><td>It&#8217;s Only Love</td></tr><tr><td>Mailman, Bring Me No More Blues</td></tr><tr><td>Little Child</td></tr><tr><td>I&#8217;m So Tired</td></tr><tr><td>Words Of Love</td></tr><tr><td>Lonesome Tears In My Eyes</td></tr><tr><td>Baby You&#8217;re A Rich Man</td></tr><tr><td>Help!</td></tr><tr><td>Mr Moonlight</td></tr><tr><td>Being For The Benefit Of Mr Kite!</td></tr><tr><td>Tell Me What You See</td></tr><tr><td>She Said She Said</td></tr><tr><td>I Want You (She&#8217;s So Heavy)</td></tr><tr><td>Sgt Pepper&#8217;s Lonely Hearts Club Band</td></tr><tr><td>I&#8217;m Gonna Sit Right Down And Cry (Over You)</td></tr><tr><td>Cry Baby Cry</td></tr><tr><td>There&#8217;s A Place</td></tr><tr><td>One After 909</td></tr><tr><td>Money (That&#8217;s What I Want)</td></tr><tr><td>Baby It&#8217;s You</td></tr><tr><td>Beautiful Dreamer</td></tr><tr><td>Ask Me Why</td></tr><tr><td>Carol</td></tr><tr><td>I&#8217;ll Cry Instead</td></tr><tr><td>Real Love</td></tr><tr><td>I&#8217;ll Be On My Way</td></tr><tr><td>I Should Have Known Better</td></tr><tr><td>Sgt Pepper&#8217;s Lonely Hearts Club Band (Reprise)</td></tr><tr><td>You&#8217;re Going To Lose That Girl</td></tr><tr><td>All Together Now</td></tr><tr><td>Free As A Bird</td></tr><tr><td>Rain</td></tr><tr><td>A Day In The Life</td></tr><tr><td>Come Together</td></tr><tr><td>Polythene Pam</td></tr><tr><td>The Ballad Of John And Yoko</td></tr><tr><td>Hey Bulldog</td></tr><tr><td>I Am The Walrus</td></tr><tr><td>To Know Her Is To Love Her</td></tr><tr><td>How Do You Do It</td></tr><tr><td>From Me To You</td></tr><tr><td>Flying</td></tr><tr><td>She&#8217;s Leaving Home</td></tr><tr><td>Twist And Shout</td></tr><tr><td>Leave My Kitten Alone</td></tr><tr><td>Revolution</td></tr><tr><td>Run For Your Life</td></tr><tr><td>If I Fell</td></tr><tr><td>I&#8217;m A Loser</td></tr><tr><td>In Spite Of All The Danger</td></tr><tr><td>The Continuing Story Of Bungalow Bill</td></tr><tr><td>Chains</td></tr><tr><td>Ain&#8217;t She Sweet</td></tr><tr><td>Happiness Is A Warm Gun</td></tr><tr><td>Julia</td></tr><tr><td>Johnny B Goode</td></tr><tr><td>Yer Blues</td></tr><tr><td>Nowhere Man</td></tr><tr><td>I&#8217;m Talking About You</td></tr><tr><td>Two Of Us</td></tr><tr><td>She Loves You</td></tr><tr><td>Teddy Boy</td></tr><tr><td>Good Morning Good Morning</td></tr><tr><td>A Shot Of Rhythm And Blues</td></tr><tr><td>What&#8217;s The New Mary Jane</td></tr><tr><td>Please Mister Postman</td></tr><tr><td>No Reply</td></tr><tr><td>Some Other Guy</td></tr><tr><td>I&#8217;ve Got A Feeling</td></tr><tr><td>Dig A Pony</td></tr><tr><td>Maxwell&#8217;s Silver Hammer</td></tr><tr><td>I&#8217;m Happy Just To Dance With You</td></tr><tr><td>Let It Be</td></tr><tr><td>Octopus&#8217;s Garden</td></tr><tr><td>Ticket To Ride</td></tr><tr><td>Ob-La-Di, Ob-La-Da</td></tr><tr><td>Old Brown Shoe</td></tr><tr><td>Things We Said Today</td></tr><tr><td>I Wanna Be Your Man</td></tr><tr><td>I&#8217;m Down</td></tr><tr><td>I&#8217;ll Be Back</td></tr><tr><td>Penny Lane</td></tr><tr><td>When I Get Home</td></tr><tr><td>Something</td></tr><tr><td>Honey Don&#8217;t</td></tr><tr><td>Hello, Goodbye</td></tr><tr><td>Young Blood</td></tr><tr><td>For You Blue</td></tr><tr><td>Ooh! My Soul</td></tr><tr><td>Kansas City/Hey-Hey-Hey-Hey!</td></tr><tr><td>Please Please Me</td></tr><tr><td>Why Don&#8217;t We Do It In The Road?</td></tr><tr><td>Not Guilty</td></tr><tr><td>Michelle</td></tr><tr><td>Oh! Darling</td></tr><tr><td>The Long And Winding Road</td></tr><tr><td>She&#8217;s A Woman</td></tr><tr><td>Your Mother Should Know</td></tr><tr><td>Glad All Over</td></tr><tr><td>Don&#8217;t Pass Me By</td></tr><tr><td>You Really Got A Hold On Me</td></tr><tr><td>Getting Better</td></tr><tr><td>The Fool On The Hill</td></tr><tr><td>Lady Madonna</td></tr><tr><td>Long, Long, Long</td></tr><tr><td>What You&#8217;re Doing</td></tr><tr><td>I Me Mine</td></tr><tr><td>Lucille</td></tr><tr><td>Hey Jude</td></tr><tr><td>Honey Pie</td></tr><tr><td>Devil In Her Heart</td></tr><tr><td>So How Come (No One Loves Me)</td></tr><tr><td>Savoy Truffle</td></tr><tr><td>Fixing A Hole</td></tr><tr><td>Rocky Raccoon</td></tr><tr><td>That Means A Lot</td></tr><tr><td>Hold Me Tight</td></tr><tr><td>I Don&#8217;t Want To Spoil The Party</td></tr><tr><td>12-Bar Original</td></tr><tr><td>Can&#8217;t Buy Me Love</td></tr><tr><td>What Goes On</td></tr><tr><td>While My Guitar Gently Weeps</td></tr><tr><td>Blue Jay Way</td></tr><tr><td>Here, There And Everywhere</td></tr><tr><td>She Came In Through The Bathroom Window</td></tr><tr><td>Yellow Submarine</td></tr><tr><td>Taxman</td></tr><tr><td>You Won&#8217;t See Me</td></tr><tr><td>Do You Want To Know A Secret</td></tr><tr><td>The Hippy Hippy Shake</td></tr><tr><td>Think For Yourself</td></tr><tr><td>Lovely Rita</td></tr><tr><td>If You&#8217;ve Got Trouble</td></tr><tr><td>Get Back</td></tr><tr><td>Everybody&#8217;s Trying To Be My Baby</td></tr><tr><td>Another Girl</td></tr><tr><td>If I Needed Someone</td></tr><tr><td>Crying, Waiting, Hoping</td></tr><tr><td>Piggies</td></tr><tr><td>You Never Give Me Your Money</td></tr><tr><td>Golden Slumbers</td></tr><tr><td>The End</td></tr><tr><td>Tell Me Why</td></tr><tr><td>Here Comes The Sun</td></tr><tr><td>You Like Me Too Much</td></tr><tr><td>Only A Northern Song</td></tr><tr><td>Don&#8217;t Ever Change</td></tr><tr><td>I Want To Tell You</td></tr><tr><td>That&#8217;s All Right (Mama)</td></tr><tr><td>Sure To Fall (In Love With You)</td></tr><tr><td>Act Naturally</td></tr><tr><td>All My Loving</td></tr><tr><td>Clarabella</td></tr><tr><td>I&#8217;m Looking Through You</td></tr><tr><td>Helter Skelter</td></tr><tr><td>Good Day Sunshine</td></tr><tr><td>With A Little Help From My Friends</td></tr><tr><td>Long Tall Sally</td></tr><tr><td>Roll Over Beethoven</td></tr><tr><td>For No One</td></tr><tr><td>The Night Before</td></tr><tr><td>Nothin&#8217; Shakin&#8217;</td></tr><tr><td>I Forgot To Remember To Forget</td></tr><tr><td>It&#8217;s All Too Much</td></tr><tr><td>When I&#8217;m Sixty-Four</td></tr><tr><td>Don&#8217;t Bother Me</td></tr><tr><td>Matchbox</td></tr><tr><td>Boys</td></tr><tr><td>Paperback Writer</td></tr><tr><td>The Honeymoon Song</td></tr><tr><td>I Saw Her Standing There</td></tr><tr><td>Got To Get You Into My Life</td></tr><tr><td>A Taste Of Honey</td></tr></tbody></table>"
      ],
      "text/plain": [
       "<IPython.core.display.HTML object>"
      ]
     },
     "execution_count": 60,
     "metadata": {},
     "output_type": "execute_result"
    }
   ],
   "source": [
    "%%sparql http://fuseki.gsi.upm.es/sitc/\n",
    "\n",
    "PREFIX  rdfs:  <http://www.w3.org/2000/01/rdf-schema#> \n",
    "PREFIX s: <http://learningsparql.com/ns/schema/>\n",
    "PREFIX i: <http://learningsparql.com/ns/instrument/>\n",
    "PREFIX m: <http://learningsparql.com/ns/musician/>\n",
    "\n",
    "SELECT DISTINCT ?song\n",
    "WHERE {{\n",
    "# YOUR ANSWER HERE\n",
    "  ?son ?ins ?player .\n",
    "  ?son rdfs:label ?song .\n",
    "  ?ins rdfs:label ?instrument .\n",
    "  ?player rdfs:label ?musician .\n",
    "  \n",
    "  FILTER (?ins in (i:vocals))\n",
    "  FILTER (?musician in (\"John Lennon\"))\n",
    "     }\n",
    "UNION\n",
    " {\n",
    "  ?son ?ins ?player .\n",
    "  ?son rdfs:label ?song .\n",
    "  ?ins rdfs:label ?instrument .\n",
    "  ?player rdfs:label ?musician \n",
    "     FILTER (?ins in (i:drums)).\n",
    "     FILTER (?musician in (\"Ringo Starr\"))\n",
    "     \n",
    "     }\n",
    "}"
   ]
  },
  {
   "cell_type": "code",
   "execution_count": 61,
   "metadata": {
    "deletable": false,
    "editable": false,
    "nbgrader": {
     "cell_type": "code",
     "checksum": "d583b30a1e00960df3a4411b6854c8c8",
     "grade": true,
     "grade_id": "cell-409402df0e801d09",
     "locked": true,
     "points": 1,
     "schema_version": 3,
     "solution": false
    }
   },
   "outputs": [],
   "source": [
    "assert len(solution()['tuples']) == 246"
   ]
  },
  {
   "cell_type": "markdown",
   "metadata": {},
   "source": [
    "### In how many songs has each musician collaborated at least 10 times? (HAVING)"
   ]
  },
  {
   "cell_type": "markdown",
   "metadata": {},
   "source": [
    "You can filter results after an aggregation, using the `HAVING` statement.\n",
    "Its syntax is:\n",
    "    \n",
    "\n",
    "```sparql\n",
    "SELECT ...\n",
    "WHERE ...\n",
    "GROUP BY ...\n",
    "HAVING (<statement>)\n",
    "```\n",
    "\n",
    "e.g.\n",
    "\n",
    "```sparql\n",
    "HAVING (?count > 10)\n",
    "```\n",
    "\n",
    "Use this new statement to get the list of artists that played at least 10 times with the Beatlest, and the number of times they did:"
   ]
  },
  {
   "cell_type": "code",
   "execution_count": 67,
   "metadata": {
    "deletable": false,
    "nbgrader": {
     "cell_type": "code",
     "checksum": "9ddd2d1f50f841b889bfd29b175d06da",
     "grade": false,
     "grade_id": "cell-9d1ec854eb530235",
     "locked": false,
     "schema_version": 3,
     "solution": true
    }
   },
   "outputs": [
    {
     "data": {
      "text/html": [
       "<table><thead><tr><th>musician</th><th>number</th><tr></thead><tbody><tr><td>Paul McCartney</td><td>278</td></tr><tr><td>George Harrison</td><td>265</td></tr><tr><td>John Lennon</td><td>261</td></tr><tr><td>Ringo Starr</td><td>247</td></tr><tr><td>George Martin</td><td>40</td></tr><tr><td>Pete Best</td><td>14</td></tr><tr><td>Mal Evans</td><td>12</td></tr></tbody></table>"
      ],
      "text/plain": [
       "<IPython.core.display.HTML object>"
      ]
     },
     "execution_count": 67,
     "metadata": {},
     "output_type": "execute_result"
    }
   ],
   "source": [
    "%%sparql http://fuseki.gsi.upm.es/sitc/\n",
    "\n",
    "PREFIX  rdfs:  <http://www.w3.org/2000/01/rdf-schema#> \n",
    "\n",
    "SELECT ?musician (COUNT(DISTINCT ?song) AS ?number) \n",
    "WHERE {\n",
    "  ?song ?instrument [\n",
    "      rdfs:label ?musician  \n",
    "  ]\n",
    "}\n",
    "GROUP BY ?musician\n",
    "# YOUR ANSWER HERE\n",
    "HAVING (?number > 10)\n",
    "\n",
    "ORDER BY DESC(?number)"
   ]
  },
  {
   "cell_type": "code",
   "execution_count": 68,
   "metadata": {
    "deletable": false,
    "editable": false,
    "nbgrader": {
     "cell_type": "code",
     "checksum": "0ea5496acd1c3edd9e188b351690a533",
     "grade": true,
     "grade_id": "cell-a79c688b4566dbe8",
     "locked": true,
     "points": 1,
     "schema_version": 3,
     "solution": false
    }
   },
   "outputs": [],
   "source": [
    "s = solution()\n",
    "assert len(s['tuples']) == 7\n",
    "assert s['columns']['musician'][0] == 'Paul McCartney'\n",
    "assert s['columns']['musician'][-1] == 'Mal Evans'"
   ]
  },
  {
   "cell_type": "markdown",
   "metadata": {},
   "source": [
    "## **Optional** exercises"
   ]
  },
  {
   "cell_type": "markdown",
   "metadata": {},
   "source": [
    "These are additional exercises that can be solved with more advanced concepts.\n",
    "\n",
    "If you are curious, you could also check the notebook on Advanced SPARQL concepts."
   ]
  },
  {
   "cell_type": "markdown",
   "metadata": {},
   "source": [
    "### What instruments could each musician play? (GROUP_CONCAT)\n",
    "\n",
    "\n",
    "Another option to aggregate results is to concatenate them.\n",
    "You can do so with:\n",
    "\n",
    "```sparql\n",
    "GROUP_CONCAT(?name; separator=\",\")\n",
    "```\n",
    "\n",
    "Using `GROUP_CONCAT`, get a list of the instruments that each musician could play.\n",
    "\n",
    "You can consult how to use GROUP_CONCAT [here](https://www.w3.org/TR/sparql11-query/)."
   ]
  },
  {
   "cell_type": "code",
   "execution_count": 64,
   "metadata": {
    "deletable": false,
    "nbgrader": {
     "cell_type": "code",
     "checksum": "d18e8b6e1d32aed395a533febb29fcb5",
     "grade": false,
     "grade_id": "cell-7ea1f5154cdd8324",
     "locked": false,
     "schema_version": 3,
     "solution": true
    }
   },
   "outputs": [
    {
     "name": "stdout",
     "output_type": "stream",
     "text": [
      "Error 400. Reason: Parse error: ?PREFIX  rdfs:  <http://www.w3.org/2000/01/rdf-schema#> ?PREFIX s: <http://learningsparql.com/ns/schema/>?PREFIX i: <http://learningsparql.com/ns/instrument/>?PREFIX m: <http://learningsparql.com/ns/musician/>??# YOUR ANSWER HERE???Encountered \"<EOF>\" at line 6, column 19.?Was expecting one of:?    \"base\" ...?    \"prefix\" ...?    \"select\" ...?    \"json\" ...?    \"describe\" ...?    \"construct\" ...?    \"ask\" ...?\n"
     ]
    },
    {
     "name": "stderr",
     "output_type": "stream",
     "text": [
      "Error 400: Parse error: \n",
      "PREFIX  rdfs:  <http://www.w3.org/2000/01/rdf-schema#> \n",
      "PREFIX s: <http://learningsparql.com/ns/schema/>\n",
      "PREFIX i: <http://learningsparql.com/ns/instrument/>\n",
      "PREFIX m: <http://learningsparql.com/ns/musician/>\n",
      "\n",
      "# YOUR ANSWER HERE\n",
      "\n",
      "\r",
      "Encountered \"<EOF>\" at line 6, column 19.\n",
      "Was expecting one of:\n",
      "    \"base\" ...\n",
      "    \"prefix\" ...\n",
      "    \"select\" ...\n",
      "    \"json\" ...\n",
      "    \"describe\" ...\n",
      "    \"construct\" ...\n",
      "    \"ask\" ...\n",
      "    \n",
      "\n"
     ]
    }
   ],
   "source": [
    "%%sparql http://fuseki.gsi.upm.es/sitc/\n",
    "PREFIX  rdfs:  <http://www.w3.org/2000/01/rdf-schema#> \n",
    "PREFIX s: <http://learningsparql.com/ns/schema/>\n",
    "PREFIX i: <http://learningsparql.com/ns/instrument/>\n",
    "PREFIX m: <http://learningsparql.com/ns/musician/>\n",
    "\n",
    "# YOUR ANSWER HERE"
   ]
  },
  {
   "cell_type": "markdown",
   "metadata": {},
   "source": [
    "### What types of vocals are there? (REGEX)"
   ]
  },
  {
   "cell_type": "markdown",
   "metadata": {},
   "source": [
    "In one of the exercises, we excluded lead and backing vocals from the list of instruments.\n",
    "However, are those the only types of vocals?\n",
    "\n",
    "You can check if a string or URI matches a regular expression with `regex(?variable, \"<regex>\", \"i\")`.\n",
    "\n",
    "The documentation for regular expressions in SPARQL is [here](https://www.w3.org/TR/rdf-sparql-query/)."
   ]
  },
  {
   "cell_type": "code",
   "execution_count": null,
   "metadata": {
    "deletable": false,
    "nbgrader": {
     "cell_type": "code",
     "checksum": "f926fa3a3568d122454a12312859cda1",
     "grade": false,
     "grade_id": "cell-b6bee887a1b1fc60",
     "locked": false,
     "schema_version": 3,
     "solution": true
    }
   },
   "outputs": [],
   "source": [
    "%%sparql http://fuseki.gsi.upm.es/sitc/\n",
    "PREFIX  rdfs:  <http://www.w3.org/2000/01/rdf-schema#> \n",
    "PREFIX s: <http://learningsparql.com/ns/schema/>\n",
    "PREFIX i: <http://learningsparql.com/ns/instrument/>\n",
    "PREFIX m: <http://learningsparql.com/ns/musician/>\n",
    "\n",
    "# YOUR ANSWER HERE"
   ]
  },
  {
   "cell_type": "markdown",
   "metadata": {},
   "source": [
    "## References"
   ]
  },
  {
   "cell_type": "markdown",
   "metadata": {},
   "source": [
    "* [SPARQL queries of Beatles recording sessions](http://www.snee.com/bobdc.blog/2017/11/sparql-queries-of-beatles-reco.html)\n",
    "* [RDFLib documentation](https://rdflib.readthedocs.io/en/stable/).\n",
    "* [Wikidata Query Service query examples](https://www.wikidata.org/wiki/Wikidata:SPARQL_query_service/queries/examples)"
   ]
  },
  {
   "cell_type": "markdown",
   "metadata": {},
   "source": [
    "## Licence\n",
    "The notebook is freely licensed under under the [Creative Commons Attribution Share-Alike license](https://creativecommons.org/licenses/by/2.0/).  \n",
    "\n",
    "© Universidad Politécnica de Madrid."
   ]
  }
 ],
 "metadata": {
  "kernelspec": {
   "display_name": "Python 3",
   "language": "python",
   "name": "python3"
  },
  "language_info": {
   "codemirror_mode": {
    "name": "ipython",
    "version": 3
   },
   "file_extension": ".py",
   "mimetype": "text/x-python",
   "name": "python",
   "nbconvert_exporter": "python",
   "pygments_lexer": "ipython3",
   "version": "3.7.6"
  }
 },
 "nbformat": 4,
 "nbformat_minor": 2
}
